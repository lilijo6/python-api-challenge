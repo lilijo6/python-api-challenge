{
 "cells": [
  {
   "cell_type": "markdown",
   "metadata": {},
   "source": [
    "# WeatherPy\n",
    "----\n",
    "\n",
    "#### Note\n",
    "* Instructions have been included for each segment. You do not have to follow them exactly, but they are included to help you think through the steps."
   ]
  },
  {
   "cell_type": "code",
   "execution_count": 1,
   "metadata": {
    "scrolled": true
   },
   "outputs": [],
   "source": [
    "# Dependencies and Setup\n",
    "import matplotlib.pyplot as plt\n",
    "import pandas as pd\n",
    "import numpy as np\n",
    "import requests\n",
    "import time\n",
    "from scipy.stats import linregress\n",
    "from datetime import datetime\n",
    "\n",
    "# Import API key\n",
    "from api_keys import weather_api_key\n",
    "\n",
    "# Incorporated citipy to determine city based on latitude and longitude\n",
    "from citipy import citipy\n",
    "\n",
    "# Output File (CSV)\n",
    "output_data_file = \"output_data/cities.csv\"\n",
    "\n",
    "# Range of latitudes and longitudes\n",
    "lat_range = (-90, 90)\n",
    "lng_range = (-180, 180)"
   ]
  },
  {
   "cell_type": "code",
   "execution_count": 2,
   "metadata": {},
   "outputs": [
    {
     "data": {
      "text/plain": [
       "'http://api.openweathermap.org/data/2.5/weather?appid=fdb00084bee6d89216afbc97b895bc87&units=imperial&q='"
      ]
     },
     "execution_count": 2,
     "metadata": {},
     "output_type": "execute_result"
    }
   ],
   "source": [
    "# Build query URL and request results in Fahrenheit\n",
    "base_url = \"http://api.openweathermap.org/data/2.5/weather?\"\n",
    "query_url = base_url + \"appid=\" + weather_api_key + \"&units=imperial\"+ \"&q=\" \n",
    "query_url"
   ]
  },
  {
   "cell_type": "markdown",
   "metadata": {},
   "source": [
    "## Generate Cities List"
   ]
  },
  {
   "cell_type": "code",
   "execution_count": 5,
   "metadata": {},
   "outputs": [
    {
     "name": "stdout",
     "output_type": "stream",
     "text": [
      "[-70.03855509 -80.25018482  34.76211038 ...  -6.13693461  37.59109775\n",
      " -32.62025284]\n"
     ]
    }
   ],
   "source": [
    "# List for holding lat_lngs and cities\n",
    "lat_lngs = []\n",
    "cities = []\n",
    "\n",
    "# Create a set of random lat and lng combinations\n",
    "lats = np.random.uniform(lat_range[0], lat_range[1], size=1500)\n",
    "lngs = np.random.uniform(lng_range[0], lng_range[1], size=1500)\n",
    "lat_lngs = zip(lats, lngs)\n",
    "\n",
    "# Identify nearest city for each lat, lng combination\n",
    "for lat_lng in lat_lngs:\n",
    "    city = citipy.nearest_city(lat_lng[0], lat_lng[1]).city_name\n",
    "    \n",
    "    # If the city is unique, then add it to a our cities list\n",
    "    if city not in cities:\n",
    "        cities.append(city)\n",
    "\n",
    "# Print the city count to confirm sufficient count\n",
    "len(cities)\n",
    "print(lats)"
   ]
  },
  {
   "cell_type": "markdown",
   "metadata": {},
   "source": [
    "### Perform API Calls\n",
    "* Perform a weather check on each city using a series of successive API calls.\n",
    "* Include a print log of each city as it'sbeing processed (with the city number and city name).\n"
   ]
  },
  {
   "cell_type": "code",
   "execution_count": 105,
   "metadata": {},
   "outputs": [
    {
     "data": {
      "text/plain": [
       "621"
      ]
     },
     "execution_count": 105,
     "metadata": {},
     "output_type": "execute_result"
    }
   ],
   "source": [
    "#chequing that we produced at least 500 unique cities\n",
    "len(cities)"
   ]
  },
  {
   "cell_type": "code",
   "execution_count": 106,
   "metadata": {},
   "outputs": [
    {
     "name": "stdout",
     "output_type": "stream",
     "text": [
      "Processing Record 1 of set 1 | rikitea\n",
      "Processing Record 2 of set 1 | hermanus\n",
      "Processing Record 3 of set 1 | yatou\n",
      "Processing Record 4 of set 1 | veliki trnovac\n",
      "Processing Record 5 of set 1 | dwarka\n",
      "taolanaro not found. Skipping...\n",
      "Processing Record 6 of set 1 | balkanabat\n",
      "Processing Record 7 of set 1 | boyabat\n",
      "Processing Record 8 of set 1 | hithadhoo\n",
      "Processing Record 9 of set 1 | longyearbyen\n",
      "Processing Record 10 of set 1 | georgetown\n",
      "Processing Record 11 of set 1 | port alfred\n",
      "Processing Record 12 of set 1 | kieta\n",
      "Processing Record 13 of set 1 | hervey bay\n",
      "Processing Record 14 of set 1 | los banos\n",
      "Processing Record 15 of set 1 | ushuaia\n",
      "Processing Record 16 of set 1 | samarai\n",
      "Processing Record 17 of set 1 | tieli\n",
      "Processing Record 18 of set 1 | mitu\n",
      "Processing Record 19 of set 1 | pisco\n",
      "Processing Record 20 of set 1 | lebyazhye\n",
      "Processing Record 21 of set 1 | hilo\n",
      "Processing Record 22 of set 1 | bambous virieux\n",
      "Processing Record 23 of set 1 | torbay\n",
      "Processing Record 24 of set 1 | hobart\n",
      "Processing Record 25 of set 1 | cidreira\n",
      "Processing Record 26 of set 1 | bredasdorp\n",
      "Processing Record 27 of set 1 | belmonte\n",
      "Processing Record 28 of set 1 | algemesi\n",
      "Processing Record 29 of set 1 | albany\n",
      "Processing Record 30 of set 1 | chuy\n",
      "Processing Record 31 of set 1 | havre-saint-pierre\n",
      "Processing Record 32 of set 1 | hamilton\n",
      "Processing Record 33 of set 1 | mangrol\n",
      "lucatan not found. Skipping...\n",
      "Processing Record 34 of set 1 | jamui\n",
      "Processing Record 35 of set 1 | saint-philippe\n",
      "Processing Record 36 of set 1 | cherskiy\n",
      "Processing Record 37 of set 1 | olafsvik\n",
      "Processing Record 38 of set 1 | port hardy\n",
      "Processing Record 39 of set 1 | castro\n",
      "Processing Record 40 of set 1 | zhoukou\n",
      "Processing Record 41 of set 1 | santa teresa\n",
      "Processing Record 42 of set 1 | fortuna\n",
      "Processing Record 43 of set 1 | vaini\n",
      "Processing Record 44 of set 1 | kapaa\n",
      "Processing Record 45 of set 1 | pochutla\n",
      "Processing Record 46 of set 1 | provideniya\n",
      "Processing Record 47 of set 1 | baillif\n",
      "Processing Record 48 of set 1 | magadan\n",
      "Processing Record 49 of set 1 | busselton\n",
      "Processing Record 50 of set 1 | mataura\n",
      "Processing Record 1 of set 2 | buin\n",
      "Processing Record 2 of set 2 | nanortalik\n",
      "Processing Record 3 of set 2 | lata\n",
      "Processing Record 4 of set 2 | timra\n",
      "Processing Record 5 of set 2 | itaituba\n",
      "Processing Record 6 of set 2 | wooster\n",
      "Processing Record 7 of set 2 | maceio\n",
      "nizhneyansk not found. Skipping...\n",
      "Processing Record 8 of set 2 | mount gambier\n",
      "Processing Record 9 of set 2 | sambava\n",
      "Processing Record 10 of set 2 | ayan\n",
      "Processing Record 11 of set 2 | nikolskoye\n",
      "Processing Record 12 of set 2 | tuktoyaktuk\n",
      "Processing Record 13 of set 2 | dryden\n",
      "Processing Record 14 of set 2 | kindersley\n",
      "Processing Record 15 of set 2 | grindavik\n",
      "Processing Record 16 of set 2 | yellowknife\n",
      "Processing Record 17 of set 2 | punta arenas\n",
      "Processing Record 18 of set 2 | arinos\n",
      "Processing Record 19 of set 2 | pilar\n",
      "Processing Record 20 of set 2 | port lincoln\n",
      "Processing Record 21 of set 2 | nelson bay\n",
      "Processing Record 22 of set 2 | udachnyy\n",
      "Processing Record 23 of set 2 | konza\n",
      "Processing Record 24 of set 2 | banfora\n",
      "Processing Record 25 of set 2 | jamsa\n",
      "Processing Record 26 of set 2 | aswan\n",
      "Processing Record 27 of set 2 | jamestown\n",
      "Processing Record 28 of set 2 | yamada\n",
      "Processing Record 29 of set 2 | price\n",
      "Processing Record 30 of set 2 | severo-kurilsk\n",
      "Processing Record 31 of set 2 | linping\n",
      "Processing Record 32 of set 2 | khatanga\n",
      "Processing Record 33 of set 2 | tosno\n",
      "Processing Record 34 of set 2 | pombas\n",
      "Processing Record 35 of set 2 | bluff\n",
      "Processing Record 36 of set 2 | victoria\n",
      "Processing Record 37 of set 2 | flinders\n",
      "Processing Record 38 of set 2 | port keats\n",
      "Processing Record 39 of set 2 | meadow lake\n",
      "Processing Record 40 of set 2 | kutum\n",
      "Processing Record 41 of set 2 | butaritari\n",
      "Processing Record 42 of set 2 | vana-vigala\n",
      "Processing Record 43 of set 2 | barrow\n",
      "Processing Record 44 of set 2 | plettenberg bay\n",
      "Processing Record 45 of set 2 | vardo\n",
      "Processing Record 46 of set 2 | avarua\n",
      "Processing Record 47 of set 2 | sola\n",
      "Processing Record 48 of set 2 | winnemucca\n",
      "Processing Record 49 of set 2 | ponta do sol\n",
      "Processing Record 50 of set 2 | fort nelson\n",
      "Processing Record 1 of set 3 | wagar\n",
      "Processing Record 2 of set 3 | leningradskiy\n",
      "Processing Record 3 of set 3 | pangnirtung\n",
      "Processing Record 4 of set 3 | aklavik\n",
      "attawapiskat not found. Skipping...\n",
      "Processing Record 5 of set 3 | norman wells\n",
      "Processing Record 6 of set 3 | santa cruz\n",
      "Processing Record 7 of set 3 | klaksvik\n",
      "Processing Record 8 of set 3 | guerrero negro\n",
      "tsihombe not found. Skipping...\n",
      "Processing Record 9 of set 3 | takoradi\n",
      "Processing Record 10 of set 3 | hofn\n",
      "Processing Record 11 of set 3 | toledo\n",
      "Processing Record 12 of set 3 | port elizabeth\n",
      "Processing Record 13 of set 3 | pacific grove\n",
      "Processing Record 14 of set 3 | lagoa\n",
      "Processing Record 15 of set 3 | manggar\n",
      "Processing Record 16 of set 3 | kodiak\n",
      "Processing Record 17 of set 3 | nieves\n",
      "Processing Record 18 of set 3 | tera\n",
      "Processing Record 19 of set 3 | manado\n",
      "Processing Record 20 of set 3 | upernavik\n",
      "Processing Record 21 of set 3 | cape town\n",
      "Processing Record 22 of set 3 | ovsyanka\n",
      "Processing Record 23 of set 3 | saint-pierre\n",
      "Processing Record 24 of set 3 | mazatlan\n",
      "Processing Record 25 of set 3 | georgiyevka\n",
      "Processing Record 26 of set 3 | asyut\n",
      "Processing Record 27 of set 3 | znamenskoye\n",
      "Processing Record 28 of set 3 | colorado\n",
      "Processing Record 29 of set 3 | mahebourg\n",
      "Processing Record 30 of set 3 | faanui\n",
      "Processing Record 31 of set 3 | omboue\n",
      "Processing Record 32 of set 3 | mecca\n",
      "Processing Record 33 of set 3 | constantine\n",
      "grand river south east not found. Skipping...\n",
      "Processing Record 34 of set 3 | olinda\n",
      "Processing Record 35 of set 3 | itarema\n",
      "Processing Record 36 of set 3 | jackson\n",
      "yeletskiy not found. Skipping...\n",
      "Processing Record 37 of set 3 | berlevag\n",
      "Processing Record 38 of set 3 | huangzhou\n",
      "Processing Record 39 of set 3 | cayenne\n",
      "Processing Record 40 of set 3 | ringsted\n",
      "Processing Record 41 of set 3 | saskylakh\n",
      "Processing Record 42 of set 3 | aketi\n",
      "Processing Record 43 of set 3 | deyang\n",
      "Processing Record 44 of set 3 | namatanai\n",
      "Processing Record 45 of set 3 | saint george\n",
      "Processing Record 46 of set 3 | san patricio\n",
      "Processing Record 47 of set 3 | kotagiri\n",
      "Processing Record 48 of set 3 | bulnes\n",
      "Processing Record 49 of set 3 | new norfolk\n",
      "Processing Record 50 of set 3 | vao\n",
      "Processing Record 1 of set 4 | micheweni\n",
      "Processing Record 2 of set 4 | sioux lookout\n",
      "barentsburg not found. Skipping...\n",
      "Processing Record 3 of set 4 | comodoro rivadavia\n",
      "Processing Record 4 of set 4 | mar del plata\n",
      "Processing Record 5 of set 4 | iqaluit\n",
      "Processing Record 6 of set 4 | abrau-dyurso\n",
      "Processing Record 7 of set 4 | kahului\n",
      "Processing Record 8 of set 4 | atuona\n",
      "Processing Record 9 of set 4 | isangel\n",
      "Processing Record 10 of set 4 | cabo san lucas\n",
      "bargal not found. Skipping...\n",
      "Processing Record 11 of set 4 | taveta\n",
      "Processing Record 12 of set 4 | rudarpur\n",
      "Processing Record 13 of set 4 | thinadhoo\n",
      "Processing Record 14 of set 4 | siocon\n",
      "Processing Record 15 of set 4 | nizwa\n",
      "Processing Record 16 of set 4 | puerto ayora\n",
      "Processing Record 17 of set 4 | graaff-reinet\n",
      "Processing Record 18 of set 4 | port augusta\n",
      "Processing Record 19 of set 4 | east london\n",
      "Processing Record 20 of set 4 | sao lourenco do oeste\n",
      "Processing Record 21 of set 4 | wellington\n",
      "Processing Record 22 of set 4 | khandbari\n",
      "Processing Record 23 of set 4 | tura\n",
      "Processing Record 24 of set 4 | filimonovo\n",
      "Processing Record 25 of set 4 | semypolky\n",
      "Processing Record 26 of set 4 | palmer\n",
      "Processing Record 27 of set 4 | arraial do cabo\n",
      "Processing Record 28 of set 4 | buluang\n",
      "Processing Record 29 of set 4 | bay city\n",
      "Processing Record 30 of set 4 | okha\n",
      "Processing Record 31 of set 4 | lasa\n",
      "Processing Record 32 of set 4 | nizhniy tsasuchey\n",
      "Processing Record 33 of set 4 | antalaha\n",
      "Processing Record 34 of set 4 | gao\n",
      "Processing Record 35 of set 4 | tuatapere\n",
      "Processing Record 36 of set 4 | mandalgovi\n",
      "Processing Record 37 of set 4 | petropavlovsk-kamchatskiy\n",
      "Processing Record 38 of set 4 | trinidad\n",
      "Processing Record 39 of set 4 | kananga\n",
      "Processing Record 40 of set 4 | chiang rai\n",
      "Processing Record 41 of set 4 | melfort\n",
      "Processing Record 42 of set 4 | rizhao\n"
     ]
    },
    {
     "name": "stdout",
     "output_type": "stream",
     "text": [
      "Processing Record 43 of set 4 | dingle\n",
      "Processing Record 44 of set 4 | bethel\n",
      "palabuhanratu not found. Skipping...\n",
      "Processing Record 45 of set 4 | cotonou\n",
      "Processing Record 46 of set 4 | sao raimundo nonato\n",
      "Processing Record 47 of set 4 | beira\n",
      "Processing Record 48 of set 4 | maldonado\n",
      "Processing Record 49 of set 4 | ngorongoro\n",
      "Processing Record 50 of set 4 | san quintin\n",
      "Processing Record 1 of set 5 | tahta\n",
      "Processing Record 2 of set 5 | abu zabad\n",
      "tumannyy not found. Skipping...\n",
      "Processing Record 3 of set 5 | santa maria\n",
      "vaitupu not found. Skipping...\n",
      "Processing Record 4 of set 5 | zhigansk\n",
      "Processing Record 5 of set 5 | denpasar\n",
      "Processing Record 6 of set 5 | yulara\n",
      "Processing Record 7 of set 5 | mattru\n",
      "Processing Record 8 of set 5 | kagoro\n",
      "Processing Record 9 of set 5 | varlamovo\n",
      "Processing Record 10 of set 5 | haines junction\n",
      "Processing Record 11 of set 5 | lebu\n",
      "saleaula not found. Skipping...\n",
      "Processing Record 12 of set 5 | petauke\n",
      "Processing Record 13 of set 5 | lerwick\n",
      "Processing Record 14 of set 5 | saint pete beach\n",
      "Processing Record 15 of set 5 | jiuquan\n",
      "scottsburgh not found. Skipping...\n",
      "Processing Record 16 of set 5 | ahipara\n",
      "Processing Record 17 of set 5 | bella vista\n",
      "Processing Record 18 of set 5 | taungdwingyi\n",
      "sataua not found. Skipping...\n",
      "Processing Record 19 of set 5 | nantucket\n",
      "Processing Record 20 of set 5 | rocha\n",
      "Processing Record 21 of set 5 | kilindoni\n",
      "Processing Record 22 of set 5 | ranong\n",
      "Processing Record 23 of set 5 | emerald\n",
      "Processing Record 24 of set 5 | ribeira grande\n",
      "Processing Record 25 of set 5 | krasnoselkup\n",
      "Processing Record 26 of set 5 | teruel\n",
      "Processing Record 27 of set 5 | fenoarivo\n",
      "amderma not found. Skipping...\n",
      "Processing Record 28 of set 5 | tasiilaq\n",
      "Processing Record 29 of set 5 | taltal\n",
      "Processing Record 30 of set 5 | ostrovnoy\n",
      "Processing Record 31 of set 5 | madera\n",
      "Processing Record 32 of set 5 | derzhavinsk\n",
      "Processing Record 33 of set 5 | ilulissat\n",
      "Processing Record 34 of set 5 | praia da vitoria\n",
      "Processing Record 35 of set 5 | tabou\n",
      "Processing Record 36 of set 5 | biak\n",
      "Processing Record 37 of set 5 | dunedin\n",
      "tapaua not found. Skipping...\n",
      "Processing Record 38 of set 5 | sterling\n",
      "Processing Record 39 of set 5 | lorengau\n",
      "belushya guba not found. Skipping...\n",
      "Processing Record 40 of set 5 | richards bay\n",
      "mutsamudu not found. Skipping...\n",
      "Processing Record 41 of set 5 | hambantota\n",
      "Processing Record 42 of set 5 | daru\n",
      "Processing Record 43 of set 5 | nyurba\n",
      "Processing Record 44 of set 5 | darasun\n",
      "aporawan not found. Skipping...\n",
      "Processing Record 45 of set 5 | vila\n",
      "umzimvubu not found. Skipping...\n",
      "Processing Record 46 of set 5 | lodwar\n",
      "Processing Record 47 of set 5 | karlstad\n",
      "Processing Record 48 of set 5 | namibe\n",
      "Processing Record 49 of set 5 | bonthe\n",
      "Processing Record 50 of set 5 | luderitz\n",
      "Processing Record 1 of set 6 | qaanaaq\n",
      "Processing Record 2 of set 6 | dali\n",
      "illoqqortoormiut not found. Skipping...\n",
      "warqla not found. Skipping...\n",
      "Processing Record 3 of set 6 | qasigiannguit\n",
      "Processing Record 4 of set 6 | san roque\n",
      "Processing Record 5 of set 6 | tupsan\n",
      "Processing Record 6 of set 6 | darien\n",
      "Processing Record 7 of set 6 | kunashak\n",
      "Processing Record 8 of set 6 | sisimiut\n",
      "Processing Record 9 of set 6 | tazovskiy\n",
      "Processing Record 10 of set 6 | linqing\n",
      "Processing Record 11 of set 6 | birobidzhan\n",
      "Processing Record 12 of set 6 | guiratinga\n",
      "Processing Record 13 of set 6 | livingston\n",
      "artyk not found. Skipping...\n",
      "Processing Record 14 of set 6 | chokurdakh\n",
      "Processing Record 15 of set 6 | kondinskoye\n",
      "Processing Record 16 of set 6 | makakilo city\n",
      "Processing Record 17 of set 6 | airai\n",
      "Processing Record 18 of set 6 | kaitangata\n",
      "Processing Record 19 of set 6 | altay\n",
      "Processing Record 20 of set 6 | jizan\n",
      "Processing Record 21 of set 6 | grand gaube\n",
      "Processing Record 22 of set 6 | ketchikan\n",
      "Processing Record 23 of set 6 | dudinka\n",
      "Processing Record 24 of set 6 | talaya\n",
      "Processing Record 25 of set 6 | shache\n",
      "mankovo-kalitvenskoye not found. Skipping...\n",
      "Processing Record 26 of set 6 | matola\n",
      "Processing Record 27 of set 6 | port hedland\n",
      "Processing Record 28 of set 6 | russell\n",
      "Processing Record 29 of set 6 | turbat\n",
      "Processing Record 30 of set 6 | najran\n",
      "Processing Record 31 of set 6 | sitka\n",
      "mys shmidta not found. Skipping...\n",
      "Processing Record 32 of set 6 | lethem\n",
      "Processing Record 33 of set 6 | alexandria\n",
      "Processing Record 34 of set 6 | coueron\n",
      "Processing Record 35 of set 6 | egvekinot\n",
      "Processing Record 36 of set 6 | neuquen\n",
      "Processing Record 37 of set 6 | wonthaggi\n",
      "Processing Record 38 of set 6 | elesbao veloso\n",
      "Processing Record 39 of set 6 | ust-kuyga\n",
      "Processing Record 40 of set 6 | laje\n",
      "Processing Record 41 of set 6 | rawson\n",
      "Processing Record 42 of set 6 | kenai\n",
      "Processing Record 43 of set 6 | chimbote\n",
      "Processing Record 44 of set 6 | san felipe\n",
      "Processing Record 45 of set 6 | yerbogachen\n",
      "Processing Record 46 of set 6 | kruisfontein\n",
      "Processing Record 47 of set 6 | alofi\n",
      "Processing Record 48 of set 6 | skoghall\n",
      "Processing Record 49 of set 6 | evensk\n",
      "Processing Record 50 of set 6 | mvuma\n",
      "Processing Record 1 of set 7 | kafanchan\n",
      "Processing Record 2 of set 7 | sao filipe\n",
      "phnum penh not found. Skipping...\n",
      "Processing Record 3 of set 7 | deer lake\n",
      "Processing Record 4 of set 7 | dennis\n",
      "mrirt not found. Skipping...\n",
      "Processing Record 5 of set 7 | gulu\n",
      "Processing Record 6 of set 7 | nome\n",
      "Processing Record 7 of set 7 | thompson\n",
      "Processing Record 8 of set 7 | jhelum\n",
      "Processing Record 9 of set 7 | bilma\n",
      "Processing Record 10 of set 7 | faya\n",
      "Processing Record 11 of set 7 | mount isa\n",
      "Processing Record 12 of set 7 | fleron\n",
      "Processing Record 13 of set 7 | zongolica\n",
      "Processing Record 14 of set 7 | teknaf\n",
      "Processing Record 15 of set 7 | coahuayana\n",
      "Processing Record 16 of set 7 | acari\n",
      "Processing Record 17 of set 7 | zhelyabovka\n",
      "Processing Record 18 of set 7 | thongwa\n",
      "Processing Record 19 of set 7 | fairbanks\n",
      "Processing Record 20 of set 7 | aykhal\n",
      "Processing Record 21 of set 7 | mitsamiouli\n",
      "Processing Record 22 of set 7 | winona\n",
      "Processing Record 23 of set 7 | birao\n",
      "Processing Record 24 of set 7 | elk city\n",
      "Processing Record 25 of set 7 | dikson\n",
      "Processing Record 26 of set 7 | leshukonskoye\n",
      "bur gabo not found. Skipping...\n",
      "Processing Record 27 of set 7 | tuxpan\n",
      "Processing Record 28 of set 7 | shizunai\n",
      "Processing Record 29 of set 7 | manta\n",
      "Processing Record 30 of set 7 | coihaique\n",
      "Processing Record 31 of set 7 | qaqortoq\n",
      "Processing Record 32 of set 7 | vagay\n",
      "Processing Record 33 of set 7 | svetlogorsk\n",
      "Processing Record 34 of set 7 | stepnyak\n",
      "Processing Record 35 of set 7 | inta\n",
      "hihifo not found. Skipping...\n",
      "Processing Record 36 of set 7 | broken hill\n",
      "Processing Record 37 of set 7 | zdzieszowice\n",
      "Processing Record 38 of set 7 | kamaishi\n",
      "Processing Record 39 of set 7 | saquarema\n",
      "Processing Record 40 of set 7 | veraval\n",
      "Processing Record 41 of set 7 | sao joao dos patos\n",
      "Processing Record 42 of set 7 | sinnamary\n",
      "Processing Record 43 of set 7 | ibra\n",
      "Processing Record 44 of set 7 | bacolod\n",
      "Processing Record 45 of set 7 | sfantu gheorghe\n",
      "Processing Record 46 of set 7 | monduli\n",
      "Processing Record 47 of set 7 | jining\n",
      "Processing Record 48 of set 7 | roald\n",
      "Processing Record 49 of set 7 | cururupu\n",
      "Processing Record 50 of set 7 | arrecife\n",
      "Processing Record 1 of set 8 | smithers\n",
      "Processing Record 2 of set 8 | hasaki\n",
      "Processing Record 3 of set 8 | bonavista\n",
      "Processing Record 4 of set 8 | sebinkarahisar\n",
      "Processing Record 5 of set 8 | lompoc\n",
      "Processing Record 6 of set 8 | tiksi\n",
      "Processing Record 7 of set 8 | maragogi\n",
      "Processing Record 8 of set 8 | pedernales\n",
      "Processing Record 9 of set 8 | carnarvon\n",
      "Processing Record 10 of set 8 | temir\n",
      "Processing Record 11 of set 8 | afua\n",
      "safwah not found. Skipping...\n",
      "Processing Record 12 of set 8 | necochea\n",
      "Processing Record 13 of set 8 | funtua\n",
      "Processing Record 14 of set 8 | vestmannaeyjar\n",
      "Processing Record 15 of set 8 | marsa matruh\n",
      "Processing Record 16 of set 8 | naze\n",
      "Processing Record 17 of set 8 | indianola\n",
      "Processing Record 18 of set 8 | dublin\n",
      "Processing Record 19 of set 8 | silver city\n",
      "Processing Record 20 of set 8 | bellavista\n",
      "Processing Record 21 of set 8 | cockburn town\n",
      "Processing Record 22 of set 8 | tsumeb\n",
      "Processing Record 23 of set 8 | anzio\n",
      "Processing Record 24 of set 8 | praia\n",
      "Processing Record 25 of set 8 | pevek\n",
      "Processing Record 26 of set 8 | abu dhabi\n"
     ]
    },
    {
     "name": "stdout",
     "output_type": "stream",
     "text": [
      "Processing Record 27 of set 8 | baracoa\n",
      "Processing Record 28 of set 8 | aragats\n",
      "Processing Record 29 of set 8 | segezha\n",
      "Processing Record 30 of set 8 | narsaq\n",
      "Processing Record 31 of set 8 | ambam\n",
      "Processing Record 32 of set 8 | nemuro\n",
      "Processing Record 33 of set 8 | itoman\n",
      "Processing Record 34 of set 8 | morondava\n",
      "Processing Record 35 of set 8 | kojori\n",
      "Processing Record 36 of set 8 | antipino\n",
      "Processing Record 37 of set 8 | paamiut\n",
      "Processing Record 38 of set 8 | carmelo\n",
      "Processing Record 39 of set 8 | saint-francois\n",
      "Processing Record 40 of set 8 | barra patuca\n",
      "Processing Record 41 of set 8 | port blair\n",
      "Processing Record 42 of set 8 | tchollire\n",
      "Processing Record 43 of set 8 | talnakh\n",
      "Processing Record 44 of set 8 | abnub\n",
      "chagda not found. Skipping...\n",
      "Processing Record 45 of set 8 | ninghai\n",
      "Processing Record 46 of set 8 | zelenogradsk\n",
      "Processing Record 47 of set 8 | champerico\n",
      "Processing Record 48 of set 8 | cidra\n",
      "Processing Record 49 of set 8 | griffith\n",
      "Processing Record 50 of set 8 | solnechnyy\n",
      "Processing Record 1 of set 9 | havoysund\n",
      "Processing Record 2 of set 9 | progreso\n",
      "Processing Record 3 of set 9 | horta\n",
      "Processing Record 4 of set 9 | brae\n",
      "Processing Record 5 of set 9 | port-de-bouc\n",
      "Processing Record 6 of set 9 | broome\n",
      "Processing Record 7 of set 9 | codrington\n",
      "Processing Record 8 of set 9 | sanchor\n",
      "Processing Record 9 of set 9 | amahai\n",
      "Processing Record 10 of set 9 | cerquilho\n",
      "dien bien not found. Skipping...\n",
      "Processing Record 11 of set 9 | alta floresta\n",
      "Processing Record 12 of set 9 | san cristobal\n",
      "Processing Record 13 of set 9 | turinsk\n",
      "Processing Record 14 of set 9 | sao felix do xingu\n",
      "Processing Record 15 of set 9 | vila franca do campo\n",
      "Processing Record 16 of set 9 | bathsheba\n",
      "Processing Record 17 of set 9 | inhambane\n",
      "Processing Record 18 of set 9 | touros\n",
      "Processing Record 19 of set 9 | santa barbara\n",
      "Processing Record 20 of set 9 | alikovo\n",
      "Processing Record 21 of set 9 | katsuura\n",
      "Processing Record 22 of set 9 | nizhniy odes\n",
      "Processing Record 23 of set 9 | arman\n",
      "Processing Record 24 of set 9 | mahanje\n",
      "Processing Record 25 of set 9 | shieli\n",
      "Processing Record 26 of set 9 | atar\n",
      "Processing Record 27 of set 9 | srednekolymsk\n",
      "Processing Record 28 of set 9 | gurupi\n",
      "burica not found. Skipping...\n",
      "Processing Record 29 of set 9 | sistranda\n",
      "Processing Record 30 of set 9 | ancud\n",
      "Processing Record 31 of set 9 | urumqi\n",
      "Processing Record 32 of set 9 | lewistown\n",
      "Processing Record 33 of set 9 | kiama\n",
      "Processing Record 34 of set 9 | toropets\n",
      "Processing Record 35 of set 9 | dajal\n",
      "Processing Record 36 of set 9 | half moon bay\n",
      "Processing Record 37 of set 9 | korla\n",
      "Processing Record 38 of set 9 | north bend\n",
      "Processing Record 39 of set 9 | moose factory\n",
      "tabiauea not found. Skipping...\n",
      "Processing Record 40 of set 9 | waitati\n",
      "Processing Record 41 of set 9 | hobyo\n",
      "Processing Record 42 of set 9 | los algarrobos\n",
      "Processing Record 43 of set 9 | dhidhdhoo\n",
      "Processing Record 44 of set 9 | duverge\n",
      "Processing Record 45 of set 9 | esperance\n",
      "wahran not found. Skipping...\n",
      "Processing Record 46 of set 9 | rosetta\n",
      "tawkar not found. Skipping...\n",
      "Processing Record 47 of set 9 | jilib\n",
      "Processing Record 48 of set 9 | chamrajnagar\n",
      "Processing Record 49 of set 9 | shubarshi\n",
      "Processing Record 50 of set 9 | mapiri\n",
      "Processing Record 1 of set 10 | show low\n",
      "Processing Record 2 of set 10 | teya\n",
      "Processing Record 3 of set 10 | lehututu\n",
      "Processing Record 4 of set 10 | rapid valley\n",
      "Processing Record 5 of set 10 | bandundu\n",
      "Processing Record 6 of set 10 | catuday\n",
      "Processing Record 7 of set 10 | ola\n",
      "Processing Record 8 of set 10 | matagami\n",
      "Processing Record 9 of set 10 | ler\n",
      "Processing Record 10 of set 10 | krasnyy chikoy\n",
      "Processing Record 11 of set 10 | aldergrove\n",
      "Processing Record 12 of set 10 | byron bay\n",
      "lolua not found. Skipping...\n",
      "Processing Record 13 of set 10 | maple creek\n",
      "Processing Record 14 of set 10 | kattivakkam\n",
      "Processing Record 15 of set 10 | ixtapa\n",
      "Processing Record 16 of set 10 | hinton\n",
      "Processing Record 17 of set 10 | labuhan\n",
      "Processing Record 18 of set 10 | tambopata\n",
      "Processing Record 19 of set 10 | nioaque\n",
      "Processing Record 20 of set 10 | bowmore\n",
      "Processing Record 21 of set 10 | high level\n",
      "Processing Record 22 of set 10 | pampa\n",
      "Processing Record 23 of set 10 | xixiang\n",
      "Processing Record 24 of set 10 | sungaipenuh\n",
      "Processing Record 25 of set 10 | manjeshwar\n",
      "Processing Record 26 of set 10 | kathu\n",
      "Processing Record 27 of set 10 | benjamin hill\n",
      "Processing Record 28 of set 10 | kupang\n",
      "Processing Record 29 of set 10 | tautira\n",
      "Processing Record 30 of set 10 | bilibino\n",
      "Processing Record 31 of set 10 | souillac\n",
      "tarudant not found. Skipping...\n",
      "Processing Record 32 of set 10 | kyshtovka\n",
      "Processing Record 33 of set 10 | henties bay\n",
      "Processing Record 34 of set 10 | kavaratti\n",
      "Processing Record 35 of set 10 | bayshore gardens\n",
      "Processing Record 36 of set 10 | konya\n",
      "Processing Record 37 of set 10 | aviles\n",
      "Processing Record 38 of set 10 | ozark\n",
      "Processing Record 39 of set 10 | lensk\n",
      "Processing Record 40 of set 10 | tacuarembo\n",
      "Processing Record 41 of set 10 | marzuq\n",
      "Processing Record 42 of set 10 | ferrol\n",
      "Processing Record 43 of set 10 | sobolevo\n",
      "Processing Record 44 of set 10 | ko samui\n",
      "Processing Record 45 of set 10 | toul\n",
      "babanusah not found. Skipping...\n",
      "Processing Record 46 of set 10 | rafsanjan\n",
      "Processing Record 47 of set 10 | banyo\n",
      "Processing Record 48 of set 10 | road town\n",
      "Processing Record 49 of set 10 | saint-georges\n",
      "Processing Record 50 of set 10 | bronnoysund\n",
      "Processing Record 1 of set 11 | seydi\n",
      "Processing Record 2 of set 11 | canandaigua\n",
      "Processing Record 3 of set 11 | coquimbo\n",
      "Processing Record 4 of set 11 | porto novo\n",
      "Processing Record 5 of set 11 | port-gentil\n",
      "Processing Record 6 of set 11 | wanaka\n",
      "Processing Record 7 of set 11 | gewane\n",
      "Processing Record 8 of set 11 | gat\n",
      "Processing Record 9 of set 11 | pitimbu\n",
      "Processing Record 10 of set 11 | keetmanshoop\n",
      "Processing Record 11 of set 11 | kurilsk\n",
      "Processing Record 12 of set 11 | kasangulu\n",
      "Processing Record 13 of set 11 | muzhi\n",
      "Processing Record 14 of set 11 | husavik\n",
      "mentok not found. Skipping...\n",
      "Processing Record 15 of set 11 | geraldton\n",
      "Processing Record 16 of set 11 | fort morgan\n",
      "Processing Record 17 of set 11 | keflavik\n",
      "Processing Record 18 of set 11 | hami\n",
      "Processing Record 19 of set 11 | mehamn\n",
      "Processing Record 20 of set 11 | bria\n",
      "Processing Record 21 of set 11 | cap malheureux\n",
      "Processing Record 22 of set 11 | tucupita\n",
      "Processing Record 23 of set 11 | deputatskiy\n",
      "suzu not found. Skipping...\n",
      "Processing Record 24 of set 11 | jardim\n",
      "Processing Record 25 of set 11 | remanso\n",
      "Processing Record 26 of set 11 | kyaiklat\n",
      "Processing Record 27 of set 11 | beringovskiy\n",
      "Processing Record 28 of set 11 | nabire\n",
      "Processing Record 29 of set 11 | asau\n",
      "Processing Record 30 of set 11 | qiongshan\n",
      "Processing Record 31 of set 11 | santa cruz de la palma\n",
      "Processing Record 32 of set 11 | puerto narino\n",
      "Processing Record 33 of set 11 | paracuru\n",
      "Processing Record 34 of set 11 | sivaki\n",
      "Processing Record 35 of set 11 | el dorado\n",
      "Processing Record 36 of set 11 | inverell\n",
      "Processing Record 37 of set 11 | poum\n",
      "Processing Record 38 of set 11 | luancheng\n",
      "ndiekro not found. Skipping...\n",
      "Processing Record 39 of set 11 | penzance\n",
      "karauzyak not found. Skipping...\n",
      "Processing Record 40 of set 11 | saint anthony\n",
      "Processing Record 41 of set 11 | los llanos de aridane\n",
      "Processing Record 42 of set 11 | mogadishu\n",
      "Processing Record 43 of set 11 | keta\n",
      "Processing Record 44 of set 11 | sorong\n",
      "Processing Record 45 of set 11 | vila velha\n",
      "Processing Record 46 of set 11 | yeniseysk\n",
      "Processing Record 47 of set 11 | chara\n",
      "Processing Record 48 of set 11 | caravelas\n",
      "Processing Record 49 of set 11 | ritchie\n",
      "Processing Record 50 of set 11 | saint-leu\n",
      "Processing Record 1 of set 12 | san pedro de macoris\n",
      "Processing Record 2 of set 12 | bodinayakkanur\n",
      "Processing Record 3 of set 12 | harper\n",
      "Processing Record 4 of set 12 | viedma\n",
      "Processing Record 5 of set 12 | sackville\n",
      "Processing Record 6 of set 12 | naryan-mar\n",
      "Processing Record 7 of set 12 | taksimo\n",
      "Processing Record 8 of set 12 | noshiro\n",
      "Processing Record 9 of set 12 | kanniyakumari\n",
      "Processing Record 10 of set 12 | sheridan\n",
      "Processing Record 11 of set 12 | razdolinsk\n",
      "Processing Record 12 of set 12 | mokhsogollokh\n",
      "Processing Record 13 of set 12 | hualmay\n",
      "Processing Record 14 of set 12 | kawalu\n",
      "Processing Record 15 of set 12 | bang saphan\n"
     ]
    },
    {
     "name": "stdout",
     "output_type": "stream",
     "text": [
      "marcona not found. Skipping...\n",
      "Processing Record 16 of set 12 | saldanha\n",
      "Processing Record 17 of set 12 | bairiki\n",
      "Processing Record 18 of set 12 | lavrentiya\n",
      "Processing Record 19 of set 12 | sidney\n",
      "Processing Record 20 of set 12 | hovd\n",
      "Processing Record 21 of set 12 | senanga\n",
      "Processing Record 22 of set 12 | bengkulu\n",
      "Processing Record 23 of set 12 | cam ranh\n",
      "Processing Record 24 of set 12 | taoudenni\n",
      "Processing Record 25 of set 12 | belaya gora\n",
      "Processing Record 26 of set 12 | seoul\n"
     ]
    }
   ],
   "source": [
    "# Loop through the list of cities and perform a request for data on each\n",
    "name = []\n",
    "lat = []\n",
    "lon = []\n",
    "temp = []\n",
    "humidity = []\n",
    "cloudiness = []\n",
    "wind_speed = []\n",
    "country = []\n",
    "date = []\n",
    "record_count = 0\n",
    "set_count = 1\n",
    "\n",
    "for city in cities:\n",
    "    #keeping track of the set and record\n",
    "    if record_count == 50:\n",
    "        set_count +=1\n",
    "        record_count = 0      \n",
    "    \n",
    "    try:\n",
    "                   \n",
    "        # assemble url and make API request\n",
    "        response = requests.get(query_url + city).json()\n",
    "        # extract and append results\n",
    "        lat.append(response['coord']['lat'])\n",
    "        lon.append(response['coord']['lon'])\n",
    "        temp.append(response['main']['temp_max'])\n",
    "        humidity.append(response['main']['humidity'])\n",
    "        cloudiness.append(response['clouds']['all'])\n",
    "        wind_speed.append(response['wind']['speed'])\n",
    "        country.append(response['sys']['country'])\n",
    "        date.append(response['dt'])\n",
    "        name.append(city)\n",
    "        record_count +=1\n",
    "        \n",
    "        #  print log of each city as it's being processed with the city number and city name \n",
    "        print(f\"Processing Record {record_count} of set {set_count} | {city}\")\n",
    "\n",
    "    except KeyError:\n",
    "        print(f\"{city} not found. Skipping...\")\n",
    "    \n",
    "       \n",
    "     \n",
    "       "
   ]
  },
  {
   "cell_type": "markdown",
   "metadata": {},
   "source": [
    "### Convert Raw Data to DataFrame\n",
    "* Export the city data into a .csv.\n",
    "* Display the DataFrame"
   ]
  },
  {
   "cell_type": "code",
   "execution_count": 107,
   "metadata": {},
   "outputs": [
    {
     "name": "stdout",
     "output_type": "stream",
     "text": [
      "<class 'pandas.core.frame.DataFrame'>\n",
      "RangeIndex: 576 entries, 0 to 575\n",
      "Data columns (total 9 columns):\n",
      " #   Column      Non-Null Count  Dtype  \n",
      "---  ------      --------------  -----  \n",
      " 0   City        576 non-null    object \n",
      " 1   Lat         576 non-null    float64\n",
      " 2   Lng         576 non-null    float64\n",
      " 3   Max Temp    576 non-null    float64\n",
      " 4   Humidity    576 non-null    int64  \n",
      " 5   Cloudiness  576 non-null    int64  \n",
      " 6   Wind Speed  576 non-null    float64\n",
      " 7   Country     576 non-null    object \n",
      " 8   Date        576 non-null    int64  \n",
      "dtypes: float64(4), int64(3), object(2)\n",
      "memory usage: 40.6+ KB\n"
     ]
    }
   ],
   "source": [
    "# create a data frame from cities, lat, and temp\n",
    "city_dict = {\n",
    "    \"City\": name,\n",
    "    \"Lat\": lat,\n",
    "    \"Lng\": lon,\n",
    "    \"Max Temp\": temp,\n",
    "    \"Humidity\" : humidity,\n",
    "    \"Cloudiness\": cloudiness,\n",
    "    \"Wind Speed\": wind_speed,\n",
    "    \"Country\": country,\n",
    "    \"Date\": date\n",
    "    }\n",
    "city_data = pd.DataFrame(city_dict)\n",
    "city_data.info()"
   ]
  },
  {
   "cell_type": "code",
   "execution_count": 108,
   "metadata": {},
   "outputs": [
    {
     "name": "stdout",
     "output_type": "stream",
     "text": [
      "City : 576\n",
      "Lat : 576\n",
      "Lng : 576\n",
      "Max Temp : 576\n",
      "Humidity : 576\n",
      "Cloudiness : 576\n",
      "Wind Speed : 576\n",
      "Country : 576\n",
      "Date : 576\n"
     ]
    }
   ],
   "source": [
    "for key, value in city_dict.items():\n",
    "    print(f\"{key} : {len(value)}\")"
   ]
  },
  {
   "cell_type": "code",
   "execution_count": 109,
   "metadata": {},
   "outputs": [
    {
     "data": {
      "text/html": [
       "<div>\n",
       "<style scoped>\n",
       "    .dataframe tbody tr th:only-of-type {\n",
       "        vertical-align: middle;\n",
       "    }\n",
       "\n",
       "    .dataframe tbody tr th {\n",
       "        vertical-align: top;\n",
       "    }\n",
       "\n",
       "    .dataframe thead th {\n",
       "        text-align: right;\n",
       "    }\n",
       "</style>\n",
       "<table border=\"1\" class=\"dataframe\">\n",
       "  <thead>\n",
       "    <tr style=\"text-align: right;\">\n",
       "      <th></th>\n",
       "      <th>City</th>\n",
       "      <th>Lat</th>\n",
       "      <th>Lng</th>\n",
       "      <th>Max Temp</th>\n",
       "      <th>Humidity</th>\n",
       "      <th>Cloudiness</th>\n",
       "      <th>Wind Speed</th>\n",
       "      <th>Country</th>\n",
       "      <th>Date</th>\n",
       "    </tr>\n",
       "  </thead>\n",
       "  <tbody>\n",
       "    <tr>\n",
       "      <th>0</th>\n",
       "      <td>rikitea</td>\n",
       "      <td>-23.12</td>\n",
       "      <td>-134.97</td>\n",
       "      <td>71.11</td>\n",
       "      <td>55</td>\n",
       "      <td>95</td>\n",
       "      <td>7.38</td>\n",
       "      <td>PF</td>\n",
       "      <td>1593052652</td>\n",
       "    </tr>\n",
       "    <tr>\n",
       "      <th>1</th>\n",
       "      <td>hermanus</td>\n",
       "      <td>-34.42</td>\n",
       "      <td>19.23</td>\n",
       "      <td>57.00</td>\n",
       "      <td>68</td>\n",
       "      <td>1</td>\n",
       "      <td>8.01</td>\n",
       "      <td>ZA</td>\n",
       "      <td>1593052652</td>\n",
       "    </tr>\n",
       "    <tr>\n",
       "      <th>2</th>\n",
       "      <td>yatou</td>\n",
       "      <td>37.15</td>\n",
       "      <td>122.38</td>\n",
       "      <td>71.94</td>\n",
       "      <td>75</td>\n",
       "      <td>80</td>\n",
       "      <td>15.39</td>\n",
       "      <td>CN</td>\n",
       "      <td>1593052652</td>\n",
       "    </tr>\n",
       "    <tr>\n",
       "      <th>3</th>\n",
       "      <td>veliki trnovac</td>\n",
       "      <td>42.48</td>\n",
       "      <td>21.74</td>\n",
       "      <td>54.00</td>\n",
       "      <td>94</td>\n",
       "      <td>0</td>\n",
       "      <td>2.53</td>\n",
       "      <td>RS</td>\n",
       "      <td>1593052652</td>\n",
       "    </tr>\n",
       "    <tr>\n",
       "      <th>4</th>\n",
       "      <td>dwarka</td>\n",
       "      <td>22.24</td>\n",
       "      <td>68.97</td>\n",
       "      <td>86.25</td>\n",
       "      <td>75</td>\n",
       "      <td>0</td>\n",
       "      <td>11.30</td>\n",
       "      <td>IN</td>\n",
       "      <td>1593052652</td>\n",
       "    </tr>\n",
       "  </tbody>\n",
       "</table>\n",
       "</div>"
      ],
      "text/plain": [
       "             City    Lat     Lng  Max Temp  Humidity  Cloudiness  Wind Speed  \\\n",
       "0         rikitea -23.12 -134.97     71.11        55          95        7.38   \n",
       "1        hermanus -34.42   19.23     57.00        68           1        8.01   \n",
       "2           yatou  37.15  122.38     71.94        75          80       15.39   \n",
       "3  veliki trnovac  42.48   21.74     54.00        94           0        2.53   \n",
       "4          dwarka  22.24   68.97     86.25        75           0       11.30   \n",
       "\n",
       "  Country        Date  \n",
       "0      PF  1593052652  \n",
       "1      ZA  1593052652  \n",
       "2      CN  1593052652  \n",
       "3      RS  1593052652  \n",
       "4      IN  1593052652  "
      ]
     },
     "execution_count": 109,
     "metadata": {},
     "output_type": "execute_result"
    }
   ],
   "source": [
    "city_data.head()"
   ]
  },
  {
   "cell_type": "markdown",
   "metadata": {},
   "source": [
    "## Inspect the data and remove the cities where the humidity > 100%.\n",
    "----\n",
    "Skip this step if there are no cities that have humidity > 100%. "
   ]
  },
  {
   "cell_type": "code",
   "execution_count": 110,
   "metadata": {},
   "outputs": [
    {
     "name": "stdout",
     "output_type": "stream",
     "text": [
      "<class 'pandas.core.frame.DataFrame'>\n",
      "Int64Index: 0 entries\n",
      "Data columns (total 9 columns):\n",
      " #   Column      Non-Null Count  Dtype  \n",
      "---  ------      --------------  -----  \n",
      " 0   City        0 non-null      object \n",
      " 1   Lat         0 non-null      float64\n",
      " 2   Lng         0 non-null      float64\n",
      " 3   Max Temp    0 non-null      float64\n",
      " 4   Humidity    0 non-null      int64  \n",
      " 5   Cloudiness  0 non-null      int64  \n",
      " 6   Wind Speed  0 non-null      float64\n",
      " 7   Country     0 non-null      object \n",
      " 8   Date        0 non-null      int64  \n",
      "dtypes: float64(4), int64(3), object(2)\n",
      "memory usage: 0.0+ bytes\n"
     ]
    }
   ],
   "source": [
    "city_data_humidity = city_data.loc[city_data['Humidity'] > 100]\n",
    "city_data_humidity.info()"
   ]
  },
  {
   "cell_type": "code",
   "execution_count": 111,
   "metadata": {},
   "outputs": [],
   "source": [
    "#Performing stats on the database\n",
    "categories = ['Lat', 'Lng', 'Max Temp', 'Humidity', 'Cloudiness', 'Wind Speed', 'Date']\n",
    "stats = ['Count', 'Mean', 'Std', 'Min', '25%', '50%', '75%', 'Max']\n",
    "\n",
    "def city_stats(categories):\n",
    "    \n",
    "    for category in categories:\n",
    "\n",
    "        count = city_data[category].count()\n",
    "        mean = city_data[category].mean()\n",
    "        std = city_data[category].std()\n",
    "        mini = city_data[category].min()\n",
    "        quartiles = city_data[category].quantile([.25,.5,.75])\n",
    "        lowerq = quartiles[0.25]\n",
    "        middleq = quartiles[0.50]\n",
    "        upperq = quartiles[0.75]\n",
    "        maxi = city_data[category].max()\n",
    "        \n",
    "        print([count,mean,std,mini, lowerq, middleq, upperq, maxi])\n",
    "    "
   ]
  },
  {
   "cell_type": "code",
   "execution_count": 112,
   "metadata": {},
   "outputs": [
    {
     "name": "stdout",
     "output_type": "stream",
     "text": [
      "[576, 20.410434027777754, 33.32278986158151, -54.8, -6.699999999999999, 22.685000000000002, 48.7025, 78.22]\n",
      "[576, 16.475381944444432, 89.5460000953212, -179.17, -60.287499999999994, 23.03, 92.66, 179.32]\n",
      "[576, 68.66192708333331, 13.622910801832102, 32.0, 60.025, 69.87, 79.0125, 103.96]\n",
      "[576, 70.09027777777777, 21.712000510859763, 6, 59.0, 75.0, 87.0, 100]\n",
      "[576, 46.17881944444444, 38.930899354072274, 0, 1.0, 40.0, 87.0, 100]\n",
      "[576, 7.510086805555549, 4.622544508339764, 0.29, 4.0, 6.93, 10.29, 29.97]\n",
      "[576, 1593052658.4774306, 66.5653481677279, 1593052361, 1593052658.0, 1593052674.0, 1593052690.0, 1593052712]\n"
     ]
    }
   ],
   "source": [
    "city_stats(categories)"
   ]
  },
  {
   "cell_type": "code",
   "execution_count": 15,
   "metadata": {},
   "outputs": [],
   "source": [
    "categories2 = ['', 'Lat', 'Lng', 'Max Temp', 'Humidity', 'Cloudiness', 'Wind Speed', 'Date']\n",
    "city_stats_df = pd.DataFrame(list(zip(stats,[583, 20.473979416809616, 32.910371864098586, -54.8, -6.8, 26.18, 47.735, 78.22],\n",
    "[583, 19.66173241852487, 89.69635138512919, -175.2, -54.88, 23.27, 100.625, 179.32],\n",
    "[583, 69.05154373927951, 14.090532929287342, 26.6, 60.01, 70.38, 79.045, 106.32],\n",
    "[583, 69.56775300171526, 21.903924617995884, 3, 58.0, 75.0, 87.0, 100],\n",
    "[583, 46.7409948542024, 36.7403326748231, 0, 8.0, 40.0, 82.0, 100],\n",
    "[583, 7.517993138936533, 5.070556296363547, 0.29, 3.65, 6.35, 10.29, 39.15],\n",
    "[583, 1592891866.1818182, 58.22126781719771, 1592891392, 1592891867.0, 1592891881.0, 1592891892.0, 1592891909])),columns=categories2)"
   ]
  },
  {
   "cell_type": "code",
   "execution_count": 16,
   "metadata": {},
   "outputs": [],
   "source": [
    "city_data_df = city_stats_df.set_index([''])"
   ]
  },
  {
   "cell_type": "code",
   "execution_count": 17,
   "metadata": {},
   "outputs": [
    {
     "data": {
      "text/html": [
       "<div>\n",
       "<style scoped>\n",
       "    .dataframe tbody tr th:only-of-type {\n",
       "        vertical-align: middle;\n",
       "    }\n",
       "\n",
       "    .dataframe tbody tr th {\n",
       "        vertical-align: top;\n",
       "    }\n",
       "\n",
       "    .dataframe thead th {\n",
       "        text-align: right;\n",
       "    }\n",
       "</style>\n",
       "<table border=\"1\" class=\"dataframe\">\n",
       "  <thead>\n",
       "    <tr style=\"text-align: right;\">\n",
       "      <th></th>\n",
       "      <th>Lat</th>\n",
       "      <th>Lng</th>\n",
       "      <th>Max Temp</th>\n",
       "      <th>Humidity</th>\n",
       "      <th>Cloudiness</th>\n",
       "      <th>Wind Speed</th>\n",
       "      <th>Date</th>\n",
       "    </tr>\n",
       "    <tr>\n",
       "      <th></th>\n",
       "      <th></th>\n",
       "      <th></th>\n",
       "      <th></th>\n",
       "      <th></th>\n",
       "      <th></th>\n",
       "      <th></th>\n",
       "      <th></th>\n",
       "    </tr>\n",
       "  </thead>\n",
       "  <tbody>\n",
       "    <tr>\n",
       "      <th>Count</th>\n",
       "      <td>583.000000</td>\n",
       "      <td>583.000000</td>\n",
       "      <td>583.000000</td>\n",
       "      <td>583.000000</td>\n",
       "      <td>583.000000</td>\n",
       "      <td>583.000000</td>\n",
       "      <td>5.830000e+02</td>\n",
       "    </tr>\n",
       "    <tr>\n",
       "      <th>Mean</th>\n",
       "      <td>20.473979</td>\n",
       "      <td>19.661732</td>\n",
       "      <td>69.051544</td>\n",
       "      <td>69.567753</td>\n",
       "      <td>46.740995</td>\n",
       "      <td>7.517993</td>\n",
       "      <td>1.592892e+09</td>\n",
       "    </tr>\n",
       "    <tr>\n",
       "      <th>Std</th>\n",
       "      <td>32.910372</td>\n",
       "      <td>89.696351</td>\n",
       "      <td>14.090533</td>\n",
       "      <td>21.903925</td>\n",
       "      <td>36.740333</td>\n",
       "      <td>5.070556</td>\n",
       "      <td>5.822127e+01</td>\n",
       "    </tr>\n",
       "    <tr>\n",
       "      <th>Min</th>\n",
       "      <td>-54.800000</td>\n",
       "      <td>-175.200000</td>\n",
       "      <td>26.600000</td>\n",
       "      <td>3.000000</td>\n",
       "      <td>0.000000</td>\n",
       "      <td>0.290000</td>\n",
       "      <td>1.592891e+09</td>\n",
       "    </tr>\n",
       "    <tr>\n",
       "      <th>25%</th>\n",
       "      <td>-6.800000</td>\n",
       "      <td>-54.880000</td>\n",
       "      <td>60.010000</td>\n",
       "      <td>58.000000</td>\n",
       "      <td>8.000000</td>\n",
       "      <td>3.650000</td>\n",
       "      <td>1.592892e+09</td>\n",
       "    </tr>\n",
       "    <tr>\n",
       "      <th>50%</th>\n",
       "      <td>26.180000</td>\n",
       "      <td>23.270000</td>\n",
       "      <td>70.380000</td>\n",
       "      <td>75.000000</td>\n",
       "      <td>40.000000</td>\n",
       "      <td>6.350000</td>\n",
       "      <td>1.592892e+09</td>\n",
       "    </tr>\n",
       "    <tr>\n",
       "      <th>75%</th>\n",
       "      <td>47.735000</td>\n",
       "      <td>100.625000</td>\n",
       "      <td>79.045000</td>\n",
       "      <td>87.000000</td>\n",
       "      <td>82.000000</td>\n",
       "      <td>10.290000</td>\n",
       "      <td>1.592892e+09</td>\n",
       "    </tr>\n",
       "    <tr>\n",
       "      <th>Max</th>\n",
       "      <td>78.220000</td>\n",
       "      <td>179.320000</td>\n",
       "      <td>106.320000</td>\n",
       "      <td>100.000000</td>\n",
       "      <td>100.000000</td>\n",
       "      <td>39.150000</td>\n",
       "      <td>1.592892e+09</td>\n",
       "    </tr>\n",
       "  </tbody>\n",
       "</table>\n",
       "</div>"
      ],
      "text/plain": [
       "              Lat         Lng    Max Temp    Humidity  Cloudiness  Wind Speed  \\\n",
       "                                                                                \n",
       "Count  583.000000  583.000000  583.000000  583.000000  583.000000  583.000000   \n",
       "Mean    20.473979   19.661732   69.051544   69.567753   46.740995    7.517993   \n",
       "Std     32.910372   89.696351   14.090533   21.903925   36.740333    5.070556   \n",
       "Min    -54.800000 -175.200000   26.600000    3.000000    0.000000    0.290000   \n",
       "25%     -6.800000  -54.880000   60.010000   58.000000    8.000000    3.650000   \n",
       "50%     26.180000   23.270000   70.380000   75.000000   40.000000    6.350000   \n",
       "75%     47.735000  100.625000   79.045000   87.000000   82.000000   10.290000   \n",
       "Max     78.220000  179.320000  106.320000  100.000000  100.000000   39.150000   \n",
       "\n",
       "               Date  \n",
       "                     \n",
       "Count  5.830000e+02  \n",
       "Mean   1.592892e+09  \n",
       "Std    5.822127e+01  \n",
       "Min    1.592891e+09  \n",
       "25%    1.592892e+09  \n",
       "50%    1.592892e+09  \n",
       "75%    1.592892e+09  \n",
       "Max    1.592892e+09  "
      ]
     },
     "execution_count": 17,
     "metadata": {},
     "output_type": "execute_result"
    }
   ],
   "source": [
    "city_data_df"
   ]
  },
  {
   "cell_type": "code",
   "execution_count": 18,
   "metadata": {},
   "outputs": [
    {
     "data": {
      "text/html": [
       "<div>\n",
       "<style scoped>\n",
       "    .dataframe tbody tr th:only-of-type {\n",
       "        vertical-align: middle;\n",
       "    }\n",
       "\n",
       "    .dataframe tbody tr th {\n",
       "        vertical-align: top;\n",
       "    }\n",
       "\n",
       "    .dataframe thead th {\n",
       "        text-align: right;\n",
       "    }\n",
       "</style>\n",
       "<table border=\"1\" class=\"dataframe\">\n",
       "  <thead>\n",
       "    <tr style=\"text-align: right;\">\n",
       "      <th></th>\n",
       "      <th>Lat</th>\n",
       "      <th>Lng</th>\n",
       "      <th>Max Temp</th>\n",
       "      <th>Humidity</th>\n",
       "      <th>Cloudiness</th>\n",
       "      <th>Wind Speed</th>\n",
       "      <th>Date</th>\n",
       "    </tr>\n",
       "  </thead>\n",
       "  <tbody>\n",
       "    <tr>\n",
       "      <th>count</th>\n",
       "      <td>576.000000</td>\n",
       "      <td>576.000000</td>\n",
       "      <td>576.000000</td>\n",
       "      <td>576.00000</td>\n",
       "      <td>576.000000</td>\n",
       "      <td>576.000000</td>\n",
       "      <td>5.760000e+02</td>\n",
       "    </tr>\n",
       "    <tr>\n",
       "      <th>mean</th>\n",
       "      <td>20.410434</td>\n",
       "      <td>16.475382</td>\n",
       "      <td>68.810382</td>\n",
       "      <td>69.25000</td>\n",
       "      <td>47.590278</td>\n",
       "      <td>7.597847</td>\n",
       "      <td>1.592975e+09</td>\n",
       "    </tr>\n",
       "    <tr>\n",
       "      <th>std</th>\n",
       "      <td>33.322790</td>\n",
       "      <td>89.546000</td>\n",
       "      <td>14.385647</td>\n",
       "      <td>22.33531</td>\n",
       "      <td>38.139226</td>\n",
       "      <td>4.874790</td>\n",
       "      <td>5.925082e+01</td>\n",
       "    </tr>\n",
       "    <tr>\n",
       "      <th>min</th>\n",
       "      <td>-54.800000</td>\n",
       "      <td>-179.170000</td>\n",
       "      <td>28.400000</td>\n",
       "      <td>1.00000</td>\n",
       "      <td>0.000000</td>\n",
       "      <td>0.270000</td>\n",
       "      <td>1.592975e+09</td>\n",
       "    </tr>\n",
       "    <tr>\n",
       "      <th>25%</th>\n",
       "      <td>-6.700000</td>\n",
       "      <td>-60.287500</td>\n",
       "      <td>60.795000</td>\n",
       "      <td>57.00000</td>\n",
       "      <td>5.000000</td>\n",
       "      <td>3.977500</td>\n",
       "      <td>1.592975e+09</td>\n",
       "    </tr>\n",
       "    <tr>\n",
       "      <th>50%</th>\n",
       "      <td>22.685000</td>\n",
       "      <td>23.030000</td>\n",
       "      <td>69.800000</td>\n",
       "      <td>75.00000</td>\n",
       "      <td>40.000000</td>\n",
       "      <td>6.850000</td>\n",
       "      <td>1.592975e+09</td>\n",
       "    </tr>\n",
       "    <tr>\n",
       "      <th>75%</th>\n",
       "      <td>48.702500</td>\n",
       "      <td>92.660000</td>\n",
       "      <td>78.800000</td>\n",
       "      <td>87.00000</td>\n",
       "      <td>89.000000</td>\n",
       "      <td>10.290000</td>\n",
       "      <td>1.592975e+09</td>\n",
       "    </tr>\n",
       "    <tr>\n",
       "      <th>max</th>\n",
       "      <td>78.220000</td>\n",
       "      <td>179.320000</td>\n",
       "      <td>111.760000</td>\n",
       "      <td>100.00000</td>\n",
       "      <td>100.000000</td>\n",
       "      <td>34.450000</td>\n",
       "      <td>1.592975e+09</td>\n",
       "    </tr>\n",
       "  </tbody>\n",
       "</table>\n",
       "</div>"
      ],
      "text/plain": [
       "              Lat         Lng    Max Temp   Humidity  Cloudiness  Wind Speed  \\\n",
       "count  576.000000  576.000000  576.000000  576.00000  576.000000  576.000000   \n",
       "mean    20.410434   16.475382   68.810382   69.25000   47.590278    7.597847   \n",
       "std     33.322790   89.546000   14.385647   22.33531   38.139226    4.874790   \n",
       "min    -54.800000 -179.170000   28.400000    1.00000    0.000000    0.270000   \n",
       "25%     -6.700000  -60.287500   60.795000   57.00000    5.000000    3.977500   \n",
       "50%     22.685000   23.030000   69.800000   75.00000   40.000000    6.850000   \n",
       "75%     48.702500   92.660000   78.800000   87.00000   89.000000   10.290000   \n",
       "max     78.220000  179.320000  111.760000  100.00000  100.000000   34.450000   \n",
       "\n",
       "               Date  \n",
       "count  5.760000e+02  \n",
       "mean   1.592975e+09  \n",
       "std    5.925082e+01  \n",
       "min    1.592975e+09  \n",
       "25%    1.592975e+09  \n",
       "50%    1.592975e+09  \n",
       "75%    1.592975e+09  \n",
       "max    1.592975e+09  "
      ]
     },
     "execution_count": 18,
     "metadata": {},
     "output_type": "execute_result"
    }
   ],
   "source": [
    "city_data.describe()"
   ]
  },
  {
   "cell_type": "code",
   "execution_count": 113,
   "metadata": {},
   "outputs": [
    {
     "data": {
      "text/html": [
       "<div>\n",
       "<style scoped>\n",
       "    .dataframe tbody tr th:only-of-type {\n",
       "        vertical-align: middle;\n",
       "    }\n",
       "\n",
       "    .dataframe tbody tr th {\n",
       "        vertical-align: top;\n",
       "    }\n",
       "\n",
       "    .dataframe thead th {\n",
       "        text-align: right;\n",
       "    }\n",
       "</style>\n",
       "<table border=\"1\" class=\"dataframe\">\n",
       "  <thead>\n",
       "    <tr style=\"text-align: right;\">\n",
       "      <th></th>\n",
       "      <th>City</th>\n",
       "      <th>Lat</th>\n",
       "      <th>Lng</th>\n",
       "      <th>Max Temp</th>\n",
       "      <th>Humidity</th>\n",
       "      <th>Cloudiness</th>\n",
       "      <th>Wind Speed</th>\n",
       "      <th>Country</th>\n",
       "      <th>Date</th>\n",
       "    </tr>\n",
       "  </thead>\n",
       "  <tbody>\n",
       "    <tr>\n",
       "      <th>0</th>\n",
       "      <td>rikitea</td>\n",
       "      <td>-23.12</td>\n",
       "      <td>-134.97</td>\n",
       "      <td>71.11</td>\n",
       "      <td>55</td>\n",
       "      <td>95</td>\n",
       "      <td>7.38</td>\n",
       "      <td>PF</td>\n",
       "      <td>1593052652</td>\n",
       "    </tr>\n",
       "    <tr>\n",
       "      <th>1</th>\n",
       "      <td>hermanus</td>\n",
       "      <td>-34.42</td>\n",
       "      <td>19.23</td>\n",
       "      <td>57.00</td>\n",
       "      <td>68</td>\n",
       "      <td>1</td>\n",
       "      <td>8.01</td>\n",
       "      <td>ZA</td>\n",
       "      <td>1593052652</td>\n",
       "    </tr>\n",
       "    <tr>\n",
       "      <th>2</th>\n",
       "      <td>yatou</td>\n",
       "      <td>37.15</td>\n",
       "      <td>122.38</td>\n",
       "      <td>71.94</td>\n",
       "      <td>75</td>\n",
       "      <td>80</td>\n",
       "      <td>15.39</td>\n",
       "      <td>CN</td>\n",
       "      <td>1593052652</td>\n",
       "    </tr>\n",
       "    <tr>\n",
       "      <th>3</th>\n",
       "      <td>veliki trnovac</td>\n",
       "      <td>42.48</td>\n",
       "      <td>21.74</td>\n",
       "      <td>54.00</td>\n",
       "      <td>94</td>\n",
       "      <td>0</td>\n",
       "      <td>2.53</td>\n",
       "      <td>RS</td>\n",
       "      <td>1593052652</td>\n",
       "    </tr>\n",
       "    <tr>\n",
       "      <th>4</th>\n",
       "      <td>dwarka</td>\n",
       "      <td>22.24</td>\n",
       "      <td>68.97</td>\n",
       "      <td>86.25</td>\n",
       "      <td>75</td>\n",
       "      <td>0</td>\n",
       "      <td>11.30</td>\n",
       "      <td>IN</td>\n",
       "      <td>1593052652</td>\n",
       "    </tr>\n",
       "    <tr>\n",
       "      <th>...</th>\n",
       "      <td>...</td>\n",
       "      <td>...</td>\n",
       "      <td>...</td>\n",
       "      <td>...</td>\n",
       "      <td>...</td>\n",
       "      <td>...</td>\n",
       "      <td>...</td>\n",
       "      <td>...</td>\n",
       "      <td>...</td>\n",
       "    </tr>\n",
       "    <tr>\n",
       "      <th>571</th>\n",
       "      <td>bengkulu</td>\n",
       "      <td>-3.80</td>\n",
       "      <td>102.27</td>\n",
       "      <td>84.09</td>\n",
       "      <td>59</td>\n",
       "      <td>8</td>\n",
       "      <td>0.98</td>\n",
       "      <td>ID</td>\n",
       "      <td>1593052675</td>\n",
       "    </tr>\n",
       "    <tr>\n",
       "      <th>572</th>\n",
       "      <td>cam ranh</td>\n",
       "      <td>11.92</td>\n",
       "      <td>109.16</td>\n",
       "      <td>91.40</td>\n",
       "      <td>66</td>\n",
       "      <td>20</td>\n",
       "      <td>6.93</td>\n",
       "      <td>VN</td>\n",
       "      <td>1593052712</td>\n",
       "    </tr>\n",
       "    <tr>\n",
       "      <th>573</th>\n",
       "      <td>taoudenni</td>\n",
       "      <td>22.68</td>\n",
       "      <td>-3.98</td>\n",
       "      <td>92.14</td>\n",
       "      <td>11</td>\n",
       "      <td>0</td>\n",
       "      <td>14.76</td>\n",
       "      <td>ML</td>\n",
       "      <td>1593052712</td>\n",
       "    </tr>\n",
       "    <tr>\n",
       "      <th>574</th>\n",
       "      <td>belaya gora</td>\n",
       "      <td>68.53</td>\n",
       "      <td>146.42</td>\n",
       "      <td>86.49</td>\n",
       "      <td>21</td>\n",
       "      <td>0</td>\n",
       "      <td>8.61</td>\n",
       "      <td>RU</td>\n",
       "      <td>1593052712</td>\n",
       "    </tr>\n",
       "    <tr>\n",
       "      <th>575</th>\n",
       "      <td>seoul</td>\n",
       "      <td>37.57</td>\n",
       "      <td>126.98</td>\n",
       "      <td>73.40</td>\n",
       "      <td>88</td>\n",
       "      <td>90</td>\n",
       "      <td>8.05</td>\n",
       "      <td>KR</td>\n",
       "      <td>1593052712</td>\n",
       "    </tr>\n",
       "  </tbody>\n",
       "</table>\n",
       "<p>576 rows × 9 columns</p>\n",
       "</div>"
      ],
      "text/plain": [
       "               City    Lat     Lng  Max Temp  Humidity  Cloudiness  \\\n",
       "0           rikitea -23.12 -134.97     71.11        55          95   \n",
       "1          hermanus -34.42   19.23     57.00        68           1   \n",
       "2             yatou  37.15  122.38     71.94        75          80   \n",
       "3    veliki trnovac  42.48   21.74     54.00        94           0   \n",
       "4            dwarka  22.24   68.97     86.25        75           0   \n",
       "..              ...    ...     ...       ...       ...         ...   \n",
       "571        bengkulu  -3.80  102.27     84.09        59           8   \n",
       "572        cam ranh  11.92  109.16     91.40        66          20   \n",
       "573       taoudenni  22.68   -3.98     92.14        11           0   \n",
       "574     belaya gora  68.53  146.42     86.49        21           0   \n",
       "575           seoul  37.57  126.98     73.40        88          90   \n",
       "\n",
       "     Wind Speed Country        Date  \n",
       "0          7.38      PF  1593052652  \n",
       "1          8.01      ZA  1593052652  \n",
       "2         15.39      CN  1593052652  \n",
       "3          2.53      RS  1593052652  \n",
       "4         11.30      IN  1593052652  \n",
       "..          ...     ...         ...  \n",
       "571        0.98      ID  1593052675  \n",
       "572        6.93      VN  1593052712  \n",
       "573       14.76      ML  1593052712  \n",
       "574        8.61      RU  1593052712  \n",
       "575        8.05      KR  1593052712  \n",
       "\n",
       "[576 rows x 9 columns]"
      ]
     },
     "execution_count": 113,
     "metadata": {},
     "output_type": "execute_result"
    }
   ],
   "source": [
    "# .loc conditionals to remove values. \n",
    "clean_city_data = city_data.loc[city_data['Humidity'] <= 100]\n",
    "clean_city_data"
   ]
  },
  {
   "cell_type": "code",
   "execution_count": 21,
   "metadata": {},
   "outputs": [],
   "source": [
    "#clean_city_data = weather_df.drop(highhumid, inplace=False)"
   ]
  },
  {
   "cell_type": "code",
   "execution_count": 22,
   "metadata": {},
   "outputs": [],
   "source": [
    "#  Get the indices of cities that have humidity over 100%.\n",
    "#getting the row number...  \".index\""
   ]
  },
  {
   "cell_type": "code",
   "execution_count": 23,
   "metadata": {},
   "outputs": [],
   "source": [
    "# Make a new DataFrame equal to the city data to drop all humidity outliers by index.\n",
    "# Passing \"inplace=False\" will make a copy of the city_data DataFrame, which we call \"clean_city_data\".\n"
   ]
  },
  {
   "cell_type": "code",
   "execution_count": 116,
   "metadata": {},
   "outputs": [],
   "source": [
    "# Extract relevant fields from the data frame\n",
    "City_Data_Final=clean_city_data\n",
    "# Export the City_Data into a csv\n",
    "City_Data_Final.to_csv('../output_data/City_Data_Final.csv', index_label=\"City_ID\")"
   ]
  },
  {
   "cell_type": "markdown",
   "metadata": {},
   "source": [
    "## Plotting the Data\n",
    "* Use proper labeling of the plots using plot titles (including date of analysis) and axes labels.\n",
    "* Save the plotted figures as .pngs."
   ]
  },
  {
   "cell_type": "markdown",
   "metadata": {},
   "source": [
    "## Latitude vs. Temperature Plot"
   ]
  },
  {
   "cell_type": "code",
   "execution_count": 58,
   "metadata": {},
   "outputs": [
    {
     "data": {
      "text/html": [
       "<div>\n",
       "<style scoped>\n",
       "    .dataframe tbody tr th:only-of-type {\n",
       "        vertical-align: middle;\n",
       "    }\n",
       "\n",
       "    .dataframe tbody tr th {\n",
       "        vertical-align: top;\n",
       "    }\n",
       "\n",
       "    .dataframe thead th {\n",
       "        text-align: right;\n",
       "    }\n",
       "</style>\n",
       "<table border=\"1\" class=\"dataframe\">\n",
       "  <thead>\n",
       "    <tr style=\"text-align: right;\">\n",
       "      <th></th>\n",
       "      <th>City</th>\n",
       "      <th>Lat</th>\n",
       "      <th>Lng</th>\n",
       "      <th>Max Temp</th>\n",
       "      <th>Humidity</th>\n",
       "      <th>Cloudiness</th>\n",
       "      <th>Wind Speed</th>\n",
       "      <th>Country</th>\n",
       "      <th>Date</th>\n",
       "    </tr>\n",
       "  </thead>\n",
       "  <tbody>\n",
       "    <tr>\n",
       "      <th>0</th>\n",
       "      <td>rikitea</td>\n",
       "      <td>-23.12</td>\n",
       "      <td>-134.97</td>\n",
       "      <td>70.25</td>\n",
       "      <td>54</td>\n",
       "      <td>78</td>\n",
       "      <td>10.69</td>\n",
       "      <td>PF</td>\n",
       "      <td>1592974881</td>\n",
       "    </tr>\n",
       "    <tr>\n",
       "      <th>1</th>\n",
       "      <td>hermanus</td>\n",
       "      <td>-34.42</td>\n",
       "      <td>19.23</td>\n",
       "      <td>44.01</td>\n",
       "      <td>97</td>\n",
       "      <td>0</td>\n",
       "      <td>1.01</td>\n",
       "      <td>ZA</td>\n",
       "      <td>1592974881</td>\n",
       "    </tr>\n",
       "    <tr>\n",
       "      <th>2</th>\n",
       "      <td>yatou</td>\n",
       "      <td>37.15</td>\n",
       "      <td>122.38</td>\n",
       "      <td>77.68</td>\n",
       "      <td>77</td>\n",
       "      <td>83</td>\n",
       "      <td>16.17</td>\n",
       "      <td>CN</td>\n",
       "      <td>1592974881</td>\n",
       "    </tr>\n",
       "    <tr>\n",
       "      <th>3</th>\n",
       "      <td>veliki trnovac</td>\n",
       "      <td>42.48</td>\n",
       "      <td>21.74</td>\n",
       "      <td>61.00</td>\n",
       "      <td>92</td>\n",
       "      <td>81</td>\n",
       "      <td>2.17</td>\n",
       "      <td>RS</td>\n",
       "      <td>1592974881</td>\n",
       "    </tr>\n",
       "    <tr>\n",
       "      <th>4</th>\n",
       "      <td>dwarka</td>\n",
       "      <td>22.24</td>\n",
       "      <td>68.97</td>\n",
       "      <td>87.75</td>\n",
       "      <td>72</td>\n",
       "      <td>13</td>\n",
       "      <td>9.71</td>\n",
       "      <td>IN</td>\n",
       "      <td>1592974881</td>\n",
       "    </tr>\n",
       "    <tr>\n",
       "      <th>...</th>\n",
       "      <td>...</td>\n",
       "      <td>...</td>\n",
       "      <td>...</td>\n",
       "      <td>...</td>\n",
       "      <td>...</td>\n",
       "      <td>...</td>\n",
       "      <td>...</td>\n",
       "      <td>...</td>\n",
       "      <td>...</td>\n",
       "    </tr>\n",
       "    <tr>\n",
       "      <th>571</th>\n",
       "      <td>bengkulu</td>\n",
       "      <td>-3.80</td>\n",
       "      <td>102.27</td>\n",
       "      <td>78.39</td>\n",
       "      <td>84</td>\n",
       "      <td>100</td>\n",
       "      <td>7.85</td>\n",
       "      <td>ID</td>\n",
       "      <td>1592974906</td>\n",
       "    </tr>\n",
       "    <tr>\n",
       "      <th>572</th>\n",
       "      <td>cam ranh</td>\n",
       "      <td>11.92</td>\n",
       "      <td>109.16</td>\n",
       "      <td>96.80</td>\n",
       "      <td>56</td>\n",
       "      <td>20</td>\n",
       "      <td>12.75</td>\n",
       "      <td>VN</td>\n",
       "      <td>1592974924</td>\n",
       "    </tr>\n",
       "    <tr>\n",
       "      <th>573</th>\n",
       "      <td>taoudenni</td>\n",
       "      <td>22.68</td>\n",
       "      <td>-3.98</td>\n",
       "      <td>90.97</td>\n",
       "      <td>11</td>\n",
       "      <td>0</td>\n",
       "      <td>12.93</td>\n",
       "      <td>ML</td>\n",
       "      <td>1592974924</td>\n",
       "    </tr>\n",
       "    <tr>\n",
       "      <th>574</th>\n",
       "      <td>belaya gora</td>\n",
       "      <td>68.53</td>\n",
       "      <td>146.42</td>\n",
       "      <td>85.42</td>\n",
       "      <td>25</td>\n",
       "      <td>0</td>\n",
       "      <td>1.74</td>\n",
       "      <td>RU</td>\n",
       "      <td>1592974924</td>\n",
       "    </tr>\n",
       "    <tr>\n",
       "      <th>575</th>\n",
       "      <td>seoul</td>\n",
       "      <td>37.57</td>\n",
       "      <td>126.98</td>\n",
       "      <td>69.80</td>\n",
       "      <td>94</td>\n",
       "      <td>90</td>\n",
       "      <td>16.11</td>\n",
       "      <td>KR</td>\n",
       "      <td>1592974800</td>\n",
       "    </tr>\n",
       "  </tbody>\n",
       "</table>\n",
       "<p>576 rows × 9 columns</p>\n",
       "</div>"
      ],
      "text/plain": [
       "               City    Lat     Lng  Max Temp  Humidity  Cloudiness  \\\n",
       "0           rikitea -23.12 -134.97     70.25        54          78   \n",
       "1          hermanus -34.42   19.23     44.01        97           0   \n",
       "2             yatou  37.15  122.38     77.68        77          83   \n",
       "3    veliki trnovac  42.48   21.74     61.00        92          81   \n",
       "4            dwarka  22.24   68.97     87.75        72          13   \n",
       "..              ...    ...     ...       ...       ...         ...   \n",
       "571        bengkulu  -3.80  102.27     78.39        84         100   \n",
       "572        cam ranh  11.92  109.16     96.80        56          20   \n",
       "573       taoudenni  22.68   -3.98     90.97        11           0   \n",
       "574     belaya gora  68.53  146.42     85.42        25           0   \n",
       "575           seoul  37.57  126.98     69.80        94          90   \n",
       "\n",
       "     Wind Speed Country        Date  \n",
       "0         10.69      PF  1592974881  \n",
       "1          1.01      ZA  1592974881  \n",
       "2         16.17      CN  1592974881  \n",
       "3          2.17      RS  1592974881  \n",
       "4          9.71      IN  1592974881  \n",
       "..          ...     ...         ...  \n",
       "571        7.85      ID  1592974906  \n",
       "572       12.75      VN  1592974924  \n",
       "573       12.93      ML  1592974924  \n",
       "574        1.74      RU  1592974924  \n",
       "575       16.11      KR  1592974800  \n",
       "\n",
       "[576 rows x 9 columns]"
      ]
     },
     "execution_count": 58,
     "metadata": {},
     "output_type": "execute_result"
    }
   ],
   "source": [
    "clean_city_data"
   ]
  },
  {
   "cell_type": "code",
   "execution_count": 92,
   "metadata": {},
   "outputs": [
    {
     "data": {
      "image/png": "[encoded data removed]",
      "text/plain": [
       "<Figure size 432x288 with 1 Axes>"
      ]
     },
     "metadata": {
      "needs_background": "light"
     },
     "output_type": "display_data"
    }
   ],
   "source": [
    "# Generate a scatter plot of city Latitude vs. Max Temperature\n",
    "xaxis1 = clean_city_data['Lat']\n",
    "yaxis1 = clean_city_data['Max Temp']\n",
    "datemax= clean_city_data['Date'].max()\n",
    "dateon= datetime.utcfromtimestamp(datemax).strftime('%m-%d-%Y')\n",
    "\n",
    "plt.scatter(xaxis1, yaxis1, marker=\"o\", color=\"green\")\n",
    "plt.title(f\"City Latitude vs. Max Temperature {dateon}\")\n",
    "plt.xlabel('Latitude')\n",
    "plt.ylabel('Max Temperature (F)')\n",
    "plt.grid(True)\n",
    "\n",
    "\n",
    "plt.savefig(f'../output_data/Fig1. Max Temperature vs. Latitude {dateon}.png')\n",
    "plt.show()"
   ]
  },
  {
   "cell_type": "markdown",
   "metadata": {
    "scrolled": true
   },
   "source": [
    "This plot is showing the relationship between city latitude and maximum temperature in Faherheit for all the cities presented in our dataframe. As we approach the equator (Latitude = o) there is a tendency of increasing temperature and as we pass the equator and get further away from it the max temperature decreases as well. "
   ]
  },
  {
   "cell_type": "markdown",
   "metadata": {},
   "source": [
    "## Latitude vs. Humidity Plot"
   ]
  },
  {
   "cell_type": "code",
   "execution_count": 93,
   "metadata": {},
   "outputs": [
    {
     "data": {
      "image/png": "[encoded data removed]",
      "text/plain": [
       "<Figure size 432x288 with 1 Axes>"
      ]
     },
     "metadata": {
      "needs_background": "light"
     },
     "output_type": "display_data"
    }
   ],
   "source": [
    "# Generate a scatter plot of city Latitude vs. Max Temperature\n",
    "xaxis2 = clean_city_data['Lat']\n",
    "yaxis2 = clean_city_data['Humidity']\n",
    "datemax= clean_city_data['Date'].max()\n",
    "dateon= datetime.utcfromtimestamp(datemax).strftime('%m-%d-%Y')\n",
    "\n",
    "plt.scatter(xaxis2, yaxis2, marker=\"o\", color=\"green\")\n",
    "plt.title(f'City Latitude vs. Humidity {dateon}')\n",
    "plt.xlabel('Latitude')\n",
    "plt.ylabel('Humidity (%)')\n",
    "# plt.ylim(33,48)\n",
    "# plt.xlim(14,26)\n",
    "plt.grid(True)\n",
    "\n",
    "plt.savefig(f'../output_data/Fig2. Latitude vs. Humidity Linear Regression on {dateon}.png')\n",
    "plt.show()"
   ]
  },
  {
   "cell_type": "markdown",
   "metadata": {},
   "source": [
    "This plot is showing the relationship between city latitude and humidity for all the cities presented in our dataframe at the time of the extraction. We can observe that latitude change doesn't impact the level of humidity of the city in an obvious way, nevertheless we see less cities with lower humidity levels in the equator line. "
   ]
  },
  {
   "cell_type": "markdown",
   "metadata": {},
   "source": [
    "## Latitude vs. Cloudiness Plot"
   ]
  },
  {
   "cell_type": "code",
   "execution_count": 94,
   "metadata": {},
   "outputs": [
    {
     "data": {
      "image/png": "[encoded data removed]",
      "text/plain": [
       "<Figure size 432x288 with 1 Axes>"
      ]
     },
     "metadata": {
      "needs_background": "light"
     },
     "output_type": "display_data"
    }
   ],
   "source": [
    "# Generate a scatter plot of city Latitude vs. Cloudiness Plot\n",
    "xaxis3 = clean_city_data['Lat']\n",
    "yaxis3 = clean_city_data['Cloudiness']\n",
    "datemax= clean_city_data['Date'].max()\n",
    "dateon= datetime.utcfromtimestamp(datemax).strftime('%m-%d-%Y')\n",
    "\n",
    "plt.scatter(xaxis3, yaxis3, marker=\"o\", color=\"green\")\n",
    "plt.title(f'City Latitude vs. Cloudiness {dateon}')\n",
    "plt.xlabel('Latitude')\n",
    "plt.ylabel('Cloudiness (%)')\n",
    "# plt.ylim(33,48)\n",
    "# plt.xlim(14,26)\n",
    "plt.grid(True)\n",
    "\n",
    "plt.savefig(f'../output_data/Fig3. Latitude vs. Cloudiness Linear Regression on {dateon}.png')\n",
    "plt.show()"
   ]
  },
  {
   "cell_type": "markdown",
   "metadata": {},
   "source": [
    "This plot is showing the relationship between city latitude and cloudiness for all the cities presented in our dataframe at the time of the extraction. We can observe that latitude change doesn't have an impact on cloudiness as there are multiple values of cloudiness scattered randomly accross all latitudes. "
   ]
  },
  {
   "cell_type": "markdown",
   "metadata": {},
   "source": [
    "## Latitude vs. Wind Speed Plot"
   ]
  },
  {
   "cell_type": "code",
   "execution_count": 95,
   "metadata": {},
   "outputs": [
    {
     "data": {
      "image/png": "[encoded data removed]",
      "text/plain": [
       "<Figure size 432x288 with 1 Axes>"
      ]
     },
     "metadata": {
      "needs_background": "light"
     },
     "output_type": "display_data"
    }
   ],
   "source": [
    "# Generate a scatter plot of city Latitude vs. Speed Plot\n",
    "xaxis4 = clean_city_data['Lat']\n",
    "yaxis4 = clean_city_data['Wind Speed']\n",
    "datemax= clean_city_data['Date'].max()\n",
    "dateon= datetime.utcfromtimestamp(datemax).strftime('%m-%d-%Y')\n",
    "\n",
    "plt.scatter(xaxis4, yaxis4, marker=\"o\", color=\"green\")\n",
    "plt.title(f'City Latitude vs. Wind Speed {dateon})')\n",
    "plt.xlabel('Latitude')\n",
    "plt.ylabel('Wind Speed (mph)')\n",
    "plt.grid(True)\n",
    "\n",
    "plt.savefig(f'../output_data/Fig4. Latitude vs. Wind Speed Linear Regression on {dateon}.png')\n",
    "plt.show()"
   ]
  },
  {
   "cell_type": "markdown",
   "metadata": {},
   "source": [
    "This plot is showing the relationship between city latitude and wind speed (mph) for all the cities presented in our dataframe at the time of the extraction. Similarly to cloudiness, we can observe that latitude change doesn't have an impact on wind speed."
   ]
  },
  {
   "cell_type": "markdown",
   "metadata": {},
   "source": [
    "## Linear Regression"
   ]
  },
  {
   "cell_type": "code",
   "execution_count": 39,
   "metadata": {},
   "outputs": [],
   "source": [
    "# OPTIONAL: Create a function to create Linear Regression plots\n",
    "def plot_linear_regression(x, y, y_label, text_coordinates):\n",
    "    (slope, intercept, rvalue, pvalue, stderr) = linregress(x, y)\n",
    "    regress_values = x * slope + intercept\n",
    "    line_eq = \"y = \" + str(round(slope,2)) + \"x + \" + str(round(intercept,2))\n",
    "    #Plot\n",
    "    plt.scatter(x, y)\n",
    "    plt.plot(x,regress_values,\"r-\")\n",
    "    plt.annotate(line_eq,text_coordinates,fontsize=15,color=\"red\")\n",
    "    plt.xlabel(\"Latitude\")\n",
    "    plt.ylabel(y_label)\n",
    "    print(f\"The r-squared is: {rvalue**2}\")\n",
    "    plt.show()"
   ]
  },
  {
   "cell_type": "code",
   "execution_count": 40,
   "metadata": {},
   "outputs": [],
   "source": [
    "# Create Northern and Southern Hemisphere DataFrames\n",
    "northern_hemisphere = clean_city_data.loc[clean_city_data['Lat'] >= 0]\n",
    "southern_hemisphere = clean_city_data.loc[clean_city_data['Lat'] < 0]\n"
   ]
  },
  {
   "cell_type": "markdown",
   "metadata": {},
   "source": [
    "####  Northern Hemisphere - Max Temp vs. Latitude Linear Regression"
   ]
  },
  {
   "cell_type": "code",
   "execution_count": 63,
   "metadata": {},
   "outputs": [
    {
     "name": "stdout",
     "output_type": "stream",
     "text": [
      "The r-squared is: 0.4343060787716701\n"
     ]
    },
    {
     "data": {
      "image/png": "[encoded data removed]",
      "text/plain": [
       "<Figure size 432x288 with 1 Axes>"
      ]
     },
     "metadata": {
      "needs_background": "light"
     },
     "output_type": "display_data"
    },
    {
     "data": {
      "text/plain": [
       "<Figure size 432x288 with 0 Axes>"
      ]
     },
     "metadata": {},
     "output_type": "display_data"
    }
   ],
   "source": [
    "#Plotting the Northern Hemisphere - Max Temp vs. Latitude Linear Regression with a function\n",
    "xaxis1 = northern_hemisphere[\"Lat\"]\n",
    "yaxis1 = northern_hemisphere[\"Max Temp\"]\n",
    "plot_linear_regression(xaxis1, yaxis1, \"Max Temp\", (20,50)) \n",
    "\n",
    "plt.savefig(f'../output_data/Max Temp vs Latitud (Northern Hemisphere).png')\n",
    "plt.show()"
   ]
  },
  {
   "cell_type": "code",
   "execution_count": 96,
   "metadata": {},
   "outputs": [
    {
     "name": "stdout",
     "output_type": "stream",
     "text": [
      "The r-squared is: 0.4343060787716701\n"
     ]
    },
    {
     "data": {
      "image/png": "[encoded data removed]",
      "text/plain": [
       "<Figure size 432x288 with 1 Axes>"
      ]
     },
     "metadata": {
      "needs_background": "light"
     },
     "output_type": "display_data"
    }
   ],
   "source": [
    "#Calculating linear regression and plotting it in the scatter chart for comparison\n",
    "xaxis5 = northern_hemisphere['Lat']\n",
    "yaxis5 = northern_hemisphere['Max Temp']\n",
    "(slope, intercept, rvalue, pvalue, stderr) = linregress(xaxis5, yaxis5)\n",
    "regress_values = xaxis5 * slope + intercept\n",
    "line_eq = \"y = \" + str(round(slope,2)) + \"x + \" + str(round(intercept,2))\n",
    "plt.scatter(xaxis5, yaxis5, marker='o', color = 'green')\n",
    "plt.plot(xaxis5,regress_values,\"r-\")\n",
    "plt.annotate(line_eq,(20,35),fontsize=15,color=\"red\")\n",
    "plt.title('Northern Hemisphere - Max Temp vs. Latitude')\n",
    "plt.xlabel('Latitude')\n",
    "plt.ylabel('Max Temp')\n",
    "print(f\"The r-squared is: {rvalue**2}\")\n",
    "\n",
    "plt.savefig(f'../output_data/Fig5. Max Temp vs Latitud (Northern Hemisphere)2.png')\n",
    "plt.show()"
   ]
  },
  {
   "cell_type": "markdown",
   "metadata": {},
   "source": [
    "####  Southern Hemisphere - Max Temp vs. Latitude Linear Regression"
   ]
  },
  {
   "cell_type": "code",
   "execution_count": 97,
   "metadata": {},
   "outputs": [
    {
     "name": "stdout",
     "output_type": "stream",
     "text": [
      "The r-squared is: 0.545403181142845\n"
     ]
    },
    {
     "data": {
      "image/png": "[encoded data removed]",
      "text/plain": [
       "<Figure size 432x288 with 1 Axes>"
      ]
     },
     "metadata": {
      "needs_background": "light"
     },
     "output_type": "display_data"
    }
   ],
   "source": [
    "#Plotting the Southern Hemisphere - Max Temp vs. Latitude Linear Regression with a function\n",
    "xaxis6 = southern_hemisphere['Lat']\n",
    "yaxis6 = southern_hemisphere['Max Temp']\n",
    "(slope, intercept, rvalue, pvalue, stderr) = linregress(xaxis6, yaxis6)\n",
    "regress_values = xaxis6 * slope + intercept\n",
    "line_eq = \"y = \" + str(round(slope,2)) + \"x + \" + str(round(intercept,2))\n",
    "plt.scatter(xaxis6, yaxis6, marker='o', color = 'green')\n",
    "plt.plot(xaxis6,regress_values,\"r-\")\n",
    "plt.annotate(line_eq,(-30,35),fontsize=15,color=\"red\")\n",
    "plt.title('Northern Hemisphere - Max Temp vs. Latitude')\n",
    "plt.xlabel('Latitude')\n",
    "plt.ylabel('Max Temp')\n",
    "print(f\"The r-squared is: {rvalue**2}\")\n",
    "\n",
    "\n",
    "#Save figure to output\n",
    "plt.savefig(f'../output_data/Fig6. Max Temp vs Latitud (Southern Hemisphere).png')\n",
    "plt.show()"
   ]
  },
  {
   "cell_type": "markdown",
   "metadata": {},
   "source": [
    "Max Temp vs. Latitude Linear Regression: There is is a weak negative correlation with regards to the latitud for the Max temperature in the northern hemisphere as we get further away from the equator, on the other hand there is a weak positive correlation with regards to latitud for the max temperature when we are approaching the equator. This was observed clearly in the first set of plots and this is a confirmation that max temperature is correlated to latitude and the temperature tends to increase as we approach the equator. "
   ]
  },
  {
   "cell_type": "markdown",
   "metadata": {},
   "source": [
    "####  Northern Hemisphere - Humidity (%) vs. Latitude Linear Regression"
   ]
  },
  {
   "cell_type": "code",
   "execution_count": 98,
   "metadata": {},
   "outputs": [
    {
     "name": "stdout",
     "output_type": "stream",
     "text": [
      "The r-squared is: 0.004065939911076822\n"
     ]
    },
    {
     "data": {
      "image/png": "[encoded data removed]",
      "text/plain": [
       "<Figure size 432x288 with 1 Axes>"
      ]
     },
     "metadata": {
      "needs_background": "light"
     },
     "output_type": "display_data"
    }
   ],
   "source": [
    "#Plotting the Northern Hemisphere - Humidity vs. Latitude Linear Regression with a function\n",
    "xaxis7 = northern_hemisphere['Lat']\n",
    "yaxis7 = northern_hemisphere['Humidity']\n",
    "(slope, intercept, rvalue, pvalue, stderr) = linregress(xaxis7, yaxis7)\n",
    "regress_values = xaxis7 * slope + intercept\n",
    "line_eq = \"y = \" + str(round(slope,2)) + \"x + \" + str(round(intercept,2))\n",
    "plt.scatter(xaxis7, yaxis7, marker='o', color = 'green')\n",
    "plt.plot(xaxis7,regress_values,\"r-\")\n",
    "plt.annotate(line_eq,(10,20),fontsize=15,color=\"red\")\n",
    "plt.title('Northern Hemisphere - Max Temp vs. Latitude')\n",
    "plt.xlabel('Latitude')\n",
    "plt.ylabel('Max Temp')\n",
    "print(f\"The r-squared is: {rvalue**2}\")\n",
    "\n",
    "\n",
    "plt.savefig(f'../output_data/Fig7. Humidity vs Latitud (Northern Hemisphere).png')\n",
    "plt.show()"
   ]
  },
  {
   "cell_type": "markdown",
   "metadata": {},
   "source": [
    "####  Southern Hemisphere - Humidity (%) vs. Latitude Linear Regression"
   ]
  },
  {
   "cell_type": "code",
   "execution_count": 99,
   "metadata": {},
   "outputs": [
    {
     "name": "stdout",
     "output_type": "stream",
     "text": [
      "The r-squared is: 0.009574811104380508\n"
     ]
    },
    {
     "data": {
      "image/png": "[encoded data removed]",
      "text/plain": [
       "<Figure size 432x288 with 1 Axes>"
      ]
     },
     "metadata": {
      "needs_background": "light"
     },
     "output_type": "display_data"
    }
   ],
   "source": [
    "#Plotting the Southern Hemisphere - Humidity vs. Latitude Linear Regression with a function\n",
    "xaxis8 = southern_hemisphere['Lat']\n",
    "yaxis8 = southern_hemisphere['Humidity']\n",
    "(slope, intercept, rvalue, pvalue, stderr) = linregress(xaxis8, yaxis8)\n",
    "regress_values = xaxis8 * slope + intercept\n",
    "line_eq = \"y = \" + str(round(slope,2)) + \"x + \" + str(round(intercept,2))\n",
    "plt.scatter(xaxis8, yaxis8, marker='o', color = 'green')\n",
    "plt.plot(xaxis8,regress_values,\"r-\")\n",
    "plt.annotate(line_eq,(-50,20),fontsize=15,color=\"red\")\n",
    "plt.title('Northern Hemisphere - Max Temp vs. Latitude')\n",
    "plt.xlabel('Latitude')\n",
    "plt.ylabel('Max Temp')\n",
    "print(f\"The r-squared is: {rvalue**2}\")\n",
    "\n",
    "plt.savefig(f'../output_data/Fig8. Humidity vs. Latitud (Southern Hemisphere).png')\n",
    "plt.show()"
   ]
  },
  {
   "cell_type": "markdown",
   "metadata": {},
   "source": [
    "The correlation is almost inexistent for humidity and maximum temperature in both the northern and southern hemispheres. With a minimal negative correlation as we get further away from the equator in the northern hemisphere and a minimal positive correlation as we get closer to the equator in the southern hemisphere. "
   ]
  },
  {
   "cell_type": "markdown",
   "metadata": {},
   "source": [
    "####  Northern Hemisphere - Cloudiness (%) vs. Latitude Linear Regression"
   ]
  },
  {
   "cell_type": "code",
   "execution_count": 100,
   "metadata": {},
   "outputs": [
    {
     "name": "stdout",
     "output_type": "stream",
     "text": [
      "The r-squared is: 0.0011352520144079573\n"
     ]
    },
    {
     "data": {
      "image/png": "[encoded data removed]",
      "text/plain": [
       "<Figure size 432x288 with 1 Axes>"
      ]
     },
     "metadata": {
      "needs_background": "light"
     },
     "output_type": "display_data"
    }
   ],
   "source": [
    "#Plotting the Northern Hemisphere - Cloudiness vs. Latitude Linear Regression with a function\n",
    "xaxis9 = northern_hemisphere['Lat']\n",
    "yaxis9 = northern_hemisphere['Cloudiness']\n",
    "(slope, intercept, rvalue, pvalue, stderr) = linregress(xaxis9, yaxis9)\n",
    "regress_values = xaxis9 * slope + intercept\n",
    "line_eq = \"y = \" + str(round(slope,2)) + \"x + \" + str(round(intercept,2))\n",
    "plt.scatter(xaxis9, yaxis9, marker='o', color = 'green')\n",
    "plt.plot(xaxis9,regress_values,\"r-\")\n",
    "plt.annotate(line_eq,(10,60),fontsize=15,color=\"red\")\n",
    "plt.title('Northern Hemisphere - Max Temp vs. Latitude')\n",
    "plt.xlabel('Latitude')\n",
    "plt.ylabel('Max Temp')\n",
    "print(f\"The r-squared is: {rvalue**2}\")\n",
    "\n",
    "plt.savefig(f'../output_data/Fig9. Cloudiness vs. Latitud (Northern Hemisphere).png')\n",
    "plt.show()"
   ]
  },
  {
   "cell_type": "markdown",
   "metadata": {},
   "source": [
    "####  Southern Hemisphere - Cloudiness (%) vs. Latitude Linear Regression"
   ]
  },
  {
   "cell_type": "code",
   "execution_count": 101,
   "metadata": {},
   "outputs": [
    {
     "name": "stdout",
     "output_type": "stream",
     "text": [
      "The r-squared is: 0.0004906253327233714\n"
     ]
    },
    {
     "data": {
      "image/png": "[encoded data removed]",
      "text/plain": [
       "<Figure size 432x288 with 1 Axes>"
      ]
     },
     "metadata": {
      "needs_background": "light"
     },
     "output_type": "display_data"
    }
   ],
   "source": [
    "#Plotting the Southern Hemisphere - Cloudiness vs. Latitude Linear Regression with a function\n",
    "xaxis10 = southern_hemisphere['Lat']\n",
    "yaxis10 = southern_hemisphere['Cloudiness']\n",
    "(slope, intercept, rvalue, pvalue, stderr) = linregress(xaxis10, yaxis10)\n",
    "regress_values = xaxis10 * slope + intercept\n",
    "line_eq = \"y = \" + str(round(slope,2)) + \"x + \" + str(round(intercept,2))\n",
    "plt.scatter(xaxis10, yaxis10, marker='o', color = 'green')\n",
    "plt.plot(xaxis10,regress_values,\"r-\")\n",
    "plt.annotate(line_eq,(-50,60),fontsize=15,color=\"red\")\n",
    "plt.title('Northern Hemisphere - Max Temp vs. Latitude')\n",
    "plt.xlabel('Latitude')\n",
    "plt.ylabel('Max Temp')\n",
    "print(f\"The r-squared is: {rvalue**2}\")\n",
    "\n",
    "plt.savefig(f'../output_data/Fig10. Cloudiness vs. Latitud (Southern Hemisphere).png')\n",
    "plt.show()"
   ]
  },
  {
   "cell_type": "markdown",
   "metadata": {},
   "source": [
    "Similarly, the correlation is almost inexistent for cloudiness and maximum temperature in both the northern and southern hemispheres. With a minimal positive correlation as we get further away from the equator in the northern hemisphere and a minimal negative correlation as we get closer to the equator in the southern hemisphere. In general it can be concluded that latitude is not correlated to cloudiness. "
   ]
  },
  {
   "cell_type": "markdown",
   "metadata": {},
   "source": [
    "####  Northern Hemisphere - Wind Speed (mph) vs. Latitude Linear Regression"
   ]
  },
  {
   "cell_type": "code",
   "execution_count": 102,
   "metadata": {},
   "outputs": [
    {
     "name": "stdout",
     "output_type": "stream",
     "text": [
      "The r-squared is: 6.521296058037425e-05\n"
     ]
    },
    {
     "data": {
      "image/png": "[encoded data removed]",
      "text/plain": [
       "<Figure size 432x288 with 1 Axes>"
      ]
     },
     "metadata": {
      "needs_background": "light"
     },
     "output_type": "display_data"
    }
   ],
   "source": [
    "#Plotting the Northern Hemisphere - Wind Speed vs. Latitude Linear Regression with a function\n",
    "xaxis11 = northern_hemisphere['Lat']\n",
    "yaxis11 = northern_hemisphere['Wind Speed']\n",
    "(slope, intercept, rvalue, pvalue, stderr) = linregress(xaxis11, yaxis11)\n",
    "regress_values = xaxis11 * slope + intercept\n",
    "line_eq = \"y = \" + str(round(slope,2)) + \"x + \" + str(round(intercept,2))\n",
    "plt.scatter(xaxis11, yaxis11, marker='o', color = 'green')\n",
    "plt.plot(xaxis11,regress_values,\"r-\")\n",
    "plt.annotate(line_eq,(10,25),fontsize=15,color=\"red\")\n",
    "plt.title('Northern Hemisphere - Max Temp vs. Latitude')\n",
    "plt.xlabel('Latitude')\n",
    "plt.ylabel('Max Temp')\n",
    "print(f\"The r-squared is: {rvalue**2}\")\n",
    "\n",
    "plt.savefig(f'../output_data/Fig11. Wind Speed(mph) vs. Latitud (Northern Hemisphere).png')\n",
    "plt.show()"
   ]
  },
  {
   "cell_type": "markdown",
   "metadata": {},
   "source": [
    "####  Southern Hemisphere - Wind Speed (mph) vs. Latitude Linear Regression"
   ]
  },
  {
   "cell_type": "code",
   "execution_count": 103,
   "metadata": {},
   "outputs": [
    {
     "name": "stdout",
     "output_type": "stream",
     "text": [
      "The r-squared is: 0.013317705512653486\n"
     ]
    },
    {
     "data": {
      "image/png": "[encoded data removed]",
      "text/plain": [
       "<Figure size 432x288 with 1 Axes>"
      ]
     },
     "metadata": {
      "needs_background": "light"
     },
     "output_type": "display_data"
    }
   ],
   "source": [
    "#Plotting the Southern Hemisphere - Wind Speed vs. Latitude Linear Regression with a function\n",
    "xaxis12 = southern_hemisphere['Lat']\n",
    "yaxis12 = southern_hemisphere['Wind Speed']\n",
    "(slope, intercept, rvalue, pvalue, stderr) = linregress(xaxis12, yaxis12)\n",
    "regress_values = xaxis12 * slope + intercept\n",
    "line_eq = \"y = \" + str(round(slope,2)) + \"x + \" + str(round(intercept,2))\n",
    "plt.scatter(xaxis12, yaxis12, marker='o', color = 'green')\n",
    "plt.plot(xaxis12,regress_values,\"r-\")\n",
    "plt.annotate(line_eq,(-50,20),fontsize=15,color=\"red\")\n",
    "plt.title('Northern Hemisphere - Max Temp vs. Latitude')\n",
    "plt.xlabel('Latitude')\n",
    "plt.ylabel('Max Temp')\n",
    "print(f\"The r-squared is: {rvalue**2}\")\n",
    "\n",
    "plt.savefig(f'../output_data/Fig12. Wind Speed(mph) vs. Latitud (Southern Hemisphere).png')\n",
    "plt.show()"
   ]
  },
  {
   "cell_type": "markdown",
   "metadata": {},
   "source": [
    "Again, we observe no correlation between wind speed and latitude in both the northern and southern hemisphere."
   ]
  }
 ],
 "metadata": {
  "anaconda-cloud": {},
  "kernel_info": {
   "name": "python3"
  },
  "kernelspec": {
   "display_name": "Python 3",
   "language": "python",
   "name": "python3"
  },
  "language_info": {
   "codemirror_mode": {
    "name": "ipython",
    "version": 3
   },
   "file_extension": ".py",
   "mimetype": "text/x-python",
   "name": "python",
   "nbconvert_exporter": "python",
   "pygments_lexer": "ipython3",
   "version": "3.7.6"
  },
  "latex_envs": {
   "LaTeX_envs_menu_present": true,
   "autoclose": false,
   "autocomplete": true,
   "bibliofile": "biblio.bib",
   "cite_by": "apalike",
   "current_citInitial": 1,
   "eqLabelWithNumbers": true,
   "eqNumInitial": 1,
   "hotkeys": {
    "equation": "Ctrl-E",
    "itemize": "Ctrl-I"
   },
   "labels_anchors": false,
   "latex_user_defs": false,
   "report_style_numbering": false,
   "user_envs_cfg": false
  },
  "nteract": {
   "version": "0.12.3"
  }
 },
 "nbformat": 4,
 "nbformat_minor": 2
}
