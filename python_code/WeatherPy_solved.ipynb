{
 "cells": [
  {
   "cell_type": "markdown",
   "metadata": {},
   "source": [
    "# WeatherPy\n",
    "----\n",
    "\n",
    "#### Note\n",
    "* Instructions have been included for each segment. You do not have to follow them exactly, but they are included to help you think through the steps."
   ]
  },
  {
   "cell_type": "code",
   "execution_count": 1,
   "metadata": {
    "scrolled": true
   },
   "outputs": [],
   "source": [
    "# Dependencies and Setup\n",
    "import matplotlib.pyplot as plt\n",
    "import pandas as pd\n",
    "import numpy as np\n",
    "import requests\n",
    "import time\n",
    "from scipy.stats import linregress\n",
    "from datetime import datetime\n",
    "\n",
    "# Import API key\n",
    "from api_keys import weather_api_key\n",
    "\n",
    "# Incorporated citipy to determine city based on latitude and longitude\n",
    "from citipy import citipy\n",
    "\n",
    "# Output File (CSV)\n",
    "output_data_file = \"output_data/cities.csv\"\n",
    "\n",
    "# Range of latitudes and longitudes\n",
    "lat_range = (-90, 90)\n",
    "lng_range = (-180, 180)"
   ]
  },
  {
   "cell_type": "code",
   "execution_count": 2,
   "metadata": {},
   "outputs": [],
   "source": [
    "# Build query URL and request results in Fahrenheit\n",
    "base_url = \"http://api.openweathermap.org/data/2.5/weather?\"\n",
    "query_url = base_url + \"appid=\" + weather_api_key + \"&units=imperial\"+ \"&q=\" \n"
   ]
  },
  {
   "cell_type": "markdown",
   "metadata": {},
   "source": [
    "## Generate Cities List"
   ]
  },
  {
   "cell_type": "code",
   "execution_count": 3,
   "metadata": {},
   "outputs": [
    {
     "name": "stdout",
     "output_type": "stream",
     "text": [
      "[-43.04250609 -87.05838709  44.65449993 ...  37.8442277  -10.16326869\n",
      "  61.88445009]\n"
     ]
    }
   ],
   "source": [
    "# List for holding lat_lngs and cities\n",
    "lat_lngs = []\n",
    "cities = []\n",
    "\n",
    "# Create a set of random lat and lng combinations\n",
    "lats = np.random.uniform(lat_range[0], lat_range[1], size=1500)\n",
    "lngs = np.random.uniform(lng_range[0], lng_range[1], size=1500)\n",
    "lat_lngs = zip(lats, lngs)\n",
    "\n",
    "# Identify nearest city for each lat, lng combination\n",
    "for lat_lng in lat_lngs:\n",
    "    city = citipy.nearest_city(lat_lng[0], lat_lng[1]).city_name\n",
    "    \n",
    "    # If the city is unique, then add it to a our cities list\n",
    "    if city not in cities:\n",
    "        cities.append(city)\n",
    "\n",
    "# Print the city count to confirm sufficient count\n",
    "len(cities)\n",
    "print(lats)"
   ]
  },
  {
   "cell_type": "markdown",
   "metadata": {},
   "source": [
    "### Perform API Calls\n",
    "* Perform a weather check on each city using a series of successive API calls.\n",
    "* Include a print log of each city as it'sbeing processed (with the city number and city name).\n"
   ]
  },
  {
   "cell_type": "code",
   "execution_count": 4,
   "metadata": {},
   "outputs": [
    {
     "data": {
      "text/plain": [
       "623"
      ]
     },
     "execution_count": 4,
     "metadata": {},
     "output_type": "execute_result"
    }
   ],
   "source": [
    "#chequing that we produced at least 500 unique cities\n",
    "len(cities)"
   ]
  },
  {
   "cell_type": "code",
   "execution_count": 5,
   "metadata": {},
   "outputs": [
    {
     "name": "stdout",
     "output_type": "stream",
     "text": [
      "Processing Record 1 of set 1 | mar del plata\n",
      "Processing Record 2 of set 1 | port elizabeth\n",
      "tasbuget not found. Skipping...\n",
      "Processing Record 3 of set 1 | mataura\n",
      "Processing Record 4 of set 1 | punta arenas\n",
      "Processing Record 5 of set 1 | buarcos\n",
      "Processing Record 6 of set 1 | kavieng\n",
      "grand river south east not found. Skipping...\n",
      "warqla not found. Skipping...\n",
      "Processing Record 7 of set 1 | busselton\n",
      "Processing Record 8 of set 1 | guerrero negro\n",
      "Processing Record 9 of set 1 | bredasdorp\n",
      "Processing Record 10 of set 1 | cockburn town\n",
      "Processing Record 11 of set 1 | nikolskoye\n",
      "Processing Record 12 of set 1 | santa cruz\n",
      "Processing Record 13 of set 1 | leh\n",
      "Processing Record 14 of set 1 | atuona\n",
      "Processing Record 15 of set 1 | hermanus\n",
      "Processing Record 16 of set 1 | avarua\n",
      "Processing Record 17 of set 1 | hami\n",
      "Processing Record 18 of set 1 | barrow\n",
      "Processing Record 19 of set 1 | ushuaia\n",
      "tsihombe not found. Skipping...\n",
      "Processing Record 20 of set 1 | mahebourg\n",
      "Processing Record 21 of set 1 | tiksi\n",
      "Processing Record 22 of set 1 | santa maria\n",
      "Processing Record 23 of set 1 | puerto ayora\n",
      "Processing Record 24 of set 1 | russell\n",
      "Processing Record 25 of set 1 | howard springs\n",
      "Processing Record 26 of set 1 | palmer\n",
      "Processing Record 27 of set 1 | husavik\n",
      "Processing Record 28 of set 1 | elizabeth city\n",
      "Processing Record 29 of set 1 | albany\n",
      "Processing Record 30 of set 1 | ust-kulom\n",
      "Processing Record 31 of set 1 | port alfred\n",
      "Processing Record 32 of set 1 | nantucket\n",
      "Processing Record 33 of set 1 | camana\n",
      "illoqqortoormiut not found. Skipping...\n",
      "Processing Record 34 of set 1 | fallon\n",
      "Processing Record 35 of set 1 | namatanai\n",
      "barentsburg not found. Skipping...\n",
      "Processing Record 36 of set 1 | vila\n",
      "Processing Record 37 of set 1 | henties bay\n",
      "Processing Record 38 of set 1 | padang\n",
      "Processing Record 39 of set 1 | bengkulu\n",
      "Processing Record 40 of set 1 | hobart\n",
      "Processing Record 41 of set 1 | auki\n",
      "Processing Record 42 of set 1 | castro\n",
      "Processing Record 43 of set 1 | thompson\n",
      "Processing Record 44 of set 1 | kapaa\n",
      "Processing Record 45 of set 1 | esperance\n",
      "Processing Record 46 of set 1 | mogwase\n",
      "Processing Record 47 of set 1 | pevek\n",
      "Processing Record 48 of set 1 | rikitea\n",
      "Processing Record 49 of set 1 | yulara\n",
      "attawapiskat not found. Skipping...\n",
      "Processing Record 50 of set 1 | chapais\n",
      "Processing Record 1 of set 2 | kaeo\n",
      "Processing Record 2 of set 2 | lebu\n",
      "Processing Record 3 of set 2 | deputatskiy\n",
      "Processing Record 4 of set 2 | hithadhoo\n",
      "Processing Record 5 of set 2 | tuatapere\n",
      "Processing Record 6 of set 2 | upernavik\n",
      "Processing Record 7 of set 2 | klaksvik\n",
      "Processing Record 8 of set 2 | goderich\n",
      "Processing Record 9 of set 2 | la ronge\n",
      "Processing Record 10 of set 2 | hamilton\n",
      "Processing Record 11 of set 2 | geraldton\n",
      "Processing Record 12 of set 2 | houma\n",
      "Processing Record 13 of set 2 | vaini\n",
      "Processing Record 14 of set 2 | mehamn\n",
      "Processing Record 15 of set 2 | ocampo\n",
      "tumannyy not found. Skipping...\n",
      "Processing Record 16 of set 2 | punta alta\n",
      "Processing Record 17 of set 2 | lavrentiya\n",
      "Processing Record 18 of set 2 | nishihara\n",
      "Processing Record 19 of set 2 | karratha\n",
      "Processing Record 20 of set 2 | novopokrovka\n",
      "Processing Record 21 of set 2 | isangel\n",
      "Processing Record 22 of set 2 | hit\n",
      "Processing Record 23 of set 2 | sinnamary\n",
      "Processing Record 24 of set 2 | labuan\n",
      "tabiauea not found. Skipping...\n",
      "Processing Record 25 of set 2 | san carlos de bariloche\n",
      "Processing Record 26 of set 2 | tessalit\n",
      "Processing Record 27 of set 2 | apex\n",
      "Processing Record 28 of set 2 | vila franca do campo\n",
      "Processing Record 29 of set 2 | lasa\n",
      "samalaeulu not found. Skipping...\n",
      "Processing Record 30 of set 2 | cape town\n",
      "Processing Record 31 of set 2 | lima\n",
      "taolanaro not found. Skipping...\n",
      "Processing Record 32 of set 2 | cedar falls\n",
      "Processing Record 33 of set 2 | clyde river\n",
      "Processing Record 34 of set 2 | sitka\n",
      "Processing Record 35 of set 2 | saskylakh\n",
      "Processing Record 36 of set 2 | ziro\n",
      "Processing Record 37 of set 2 | lukaya\n",
      "samusu not found. Skipping...\n",
      "Processing Record 38 of set 2 | garissa\n",
      "Processing Record 39 of set 2 | teguise\n",
      "Processing Record 40 of set 2 | naze\n",
      "Processing Record 41 of set 2 | sidi ali\n",
      "Processing Record 42 of set 2 | bluff\n",
      "Processing Record 43 of set 2 | new norfolk\n",
      "Processing Record 44 of set 2 | hilo\n",
      "Processing Record 45 of set 2 | iquique\n",
      "Processing Record 46 of set 2 | butaritari\n",
      "Processing Record 47 of set 2 | tevaitoa\n",
      "Processing Record 48 of set 2 | kamenka\n",
      "Processing Record 49 of set 2 | tasiilaq\n",
      "Processing Record 50 of set 2 | east london\n",
      "Processing Record 1 of set 3 | yellowknife\n",
      "Processing Record 2 of set 3 | bonthe\n",
      "Processing Record 3 of set 3 | paso de carrasco\n",
      "Processing Record 4 of set 3 | kutum\n",
      "Processing Record 5 of set 3 | fukuma\n",
      "Processing Record 6 of set 3 | aden\n",
      "Processing Record 7 of set 3 | luderitz\n",
      "Processing Record 8 of set 3 | cherskiy\n",
      "Processing Record 9 of set 3 | qaanaaq\n",
      "Processing Record 10 of set 3 | warmbad\n",
      "Processing Record 11 of set 3 | shimoda\n",
      "Processing Record 12 of set 3 | seoul\n",
      "Processing Record 13 of set 3 | xichang\n",
      "Processing Record 14 of set 3 | severnyy\n",
      "Processing Record 15 of set 3 | raga\n",
      "Processing Record 16 of set 3 | saint anthony\n",
      "Processing Record 17 of set 3 | jamestown\n",
      "palabuhanratu not found. Skipping...\n",
      "Processing Record 18 of set 3 | camacha\n",
      "Processing Record 19 of set 3 | puerto escondido\n",
      "Processing Record 20 of set 3 | namibe\n",
      "Processing Record 21 of set 3 | sao filipe\n",
      "Processing Record 22 of set 3 | lerwick\n",
      "Processing Record 23 of set 3 | odweyne\n",
      "Processing Record 24 of set 3 | balaghat\n",
      "Processing Record 25 of set 3 | ercis\n",
      "Processing Record 26 of set 3 | barretos\n",
      "Processing Record 27 of set 3 | toropets\n",
      "Processing Record 28 of set 3 | codrington\n",
      "Processing Record 29 of set 3 | caluquembe\n",
      "Processing Record 30 of set 3 | baculin\n",
      "lolua not found. Skipping...\n",
      "Processing Record 31 of set 3 | kodiak\n",
      "Processing Record 32 of set 3 | talas\n",
      "Processing Record 33 of set 3 | ribeira grande\n",
      "Processing Record 34 of set 3 | coihaique\n",
      "Processing Record 35 of set 3 | dikson\n",
      "vaitupu not found. Skipping...\n",
      "Processing Record 36 of set 3 | cidreira\n",
      "Processing Record 37 of set 3 | kieta\n",
      "Processing Record 38 of set 3 | necochea\n",
      "Processing Record 39 of set 3 | margate\n",
      "Processing Record 40 of set 3 | alice springs\n",
      "Processing Record 41 of set 3 | udayagiri\n",
      "Processing Record 42 of set 3 | la rioja\n",
      "Processing Record 43 of set 3 | port macquarie\n",
      "jabiru not found. Skipping...\n",
      "Processing Record 44 of set 3 | pisco\n",
      "Processing Record 45 of set 3 | oxford\n",
      "Processing Record 46 of set 3 | galveston\n",
      "Processing Record 47 of set 3 | hailar\n",
      "Processing Record 48 of set 3 | chuy\n",
      "Processing Record 49 of set 3 | hereford\n",
      "Processing Record 50 of set 3 | hofn\n",
      "Processing Record 1 of set 4 | tuktoyaktuk\n",
      "Processing Record 2 of set 4 | cabo san lucas\n",
      "Processing Record 3 of set 4 | serebryansk\n",
      "Processing Record 4 of set 4 | saint george\n",
      "Processing Record 5 of set 4 | udachnyy\n",
      "umzimvubu not found. Skipping...\n",
      "henzada not found. Skipping...\n",
      "Processing Record 6 of set 4 | alofi\n",
      "Processing Record 7 of set 4 | laguna\n",
      "Processing Record 8 of set 4 | arraial do cabo\n",
      "Processing Record 9 of set 4 | provideniya\n",
      "Processing Record 10 of set 4 | kalmunai\n",
      "Processing Record 11 of set 4 | manggar\n",
      "Processing Record 12 of set 4 | beloha\n",
      "Processing Record 13 of set 4 | ilulissat\n",
      "Processing Record 14 of set 4 | airai\n",
      "Processing Record 15 of set 4 | gigmoto\n",
      "sentyabrskiy not found. Skipping...\n",
      "Processing Record 16 of set 4 | ixtapa\n",
      "Processing Record 17 of set 4 | fukue\n",
      "Processing Record 18 of set 4 | halle\n",
      "Processing Record 19 of set 4 | adrar\n",
      "Processing Record 20 of set 4 | san patricio\n",
      "Processing Record 21 of set 4 | safaga\n",
      "Processing Record 22 of set 4 | honiara\n",
      "Processing Record 23 of set 4 | timmins\n",
      "Processing Record 24 of set 4 | meulaboh\n",
      "Processing Record 25 of set 4 | salalah\n",
      "Processing Record 26 of set 4 | souillac\n",
      "Processing Record 27 of set 4 | narsaq\n",
      "Processing Record 28 of set 4 | chokurdakh\n",
      "Processing Record 29 of set 4 | nouna\n",
      "Processing Record 30 of set 4 | kita\n",
      "Processing Record 31 of set 4 | vostok\n",
      "Processing Record 32 of set 4 | mgachi\n",
      "Processing Record 33 of set 4 | fez\n",
      "Processing Record 34 of set 4 | rio claro\n",
      "Processing Record 35 of set 4 | xining\n",
      "Processing Record 36 of set 4 | okha\n",
      "Processing Record 37 of set 4 | toktogul\n",
      "Processing Record 38 of set 4 | palauig\n",
      "Processing Record 39 of set 4 | copiapo\n",
      "Processing Record 40 of set 4 | severo-kurilsk\n"
     ]
    },
    {
     "name": "stdout",
     "output_type": "stream",
     "text": [
      "Processing Record 41 of set 4 | enshi\n",
      "Processing Record 42 of set 4 | roma\n",
      "Processing Record 43 of set 4 | jeremoabo\n",
      "Processing Record 44 of set 4 | florianopolis\n",
      "Processing Record 45 of set 4 | nyurba\n",
      "Processing Record 46 of set 4 | berezovyy\n",
      "Processing Record 47 of set 4 | bethel\n",
      "Processing Record 48 of set 4 | koumac\n",
      "Processing Record 49 of set 4 | cap malheureux\n",
      "Processing Record 50 of set 4 | bilibino\n",
      "Processing Record 1 of set 5 | broome\n",
      "Processing Record 2 of set 5 | katherine\n",
      "Processing Record 3 of set 5 | khatanga\n",
      "Processing Record 4 of set 5 | vardo\n",
      "Processing Record 5 of set 5 | luwuk\n",
      "mys shmidta not found. Skipping...\n",
      "Processing Record 6 of set 5 | aasiaat\n",
      "Processing Record 7 of set 5 | san cristobal\n",
      "Processing Record 8 of set 5 | victoria\n",
      "Processing Record 9 of set 5 | pasighat\n",
      "Processing Record 10 of set 5 | ponta do sol\n",
      "Processing Record 11 of set 5 | nador\n",
      "Processing Record 12 of set 5 | kalabo\n",
      "Processing Record 13 of set 5 | hotton\n",
      "Processing Record 14 of set 5 | faanui\n",
      "Processing Record 15 of set 5 | georgetown\n",
      "amderma not found. Skipping...\n",
      "Processing Record 16 of set 5 | bam\n",
      "Processing Record 17 of set 5 | kumhari\n",
      "Processing Record 18 of set 5 | tautira\n",
      "Processing Record 19 of set 5 | dingle\n",
      "Processing Record 20 of set 5 | coquimbo\n",
      "Processing Record 21 of set 5 | lagoa\n",
      "Processing Record 22 of set 5 | pelotas\n",
      "bolungarvik not found. Skipping...\n",
      "Processing Record 23 of set 5 | ajdabiya\n",
      "Processing Record 24 of set 5 | saldanha\n",
      "Processing Record 25 of set 5 | daru\n",
      "bolshoy tsaryn not found. Skipping...\n",
      "Processing Record 26 of set 5 | khash\n",
      "Processing Record 27 of set 5 | havelock\n",
      "Processing Record 28 of set 5 | verkh-chebula\n",
      "Processing Record 29 of set 5 | paramonga\n",
      "Processing Record 30 of set 5 | yeniseysk\n",
      "Processing Record 31 of set 5 | leningradskiy\n",
      "Processing Record 32 of set 5 | nanakuli\n",
      "Processing Record 33 of set 5 | saint-philippe\n",
      "Processing Record 34 of set 5 | torbay\n",
      "Processing Record 35 of set 5 | fortuna\n",
      "Processing Record 36 of set 5 | umea\n",
      "Processing Record 37 of set 5 | alugan\n",
      "Processing Record 38 of set 5 | baruun-urt\n",
      "Processing Record 39 of set 5 | plerin\n",
      "Processing Record 40 of set 5 | kysyl-syr\n",
      "Processing Record 41 of set 5 | asaba\n",
      "kamenskoye not found. Skipping...\n",
      "Processing Record 42 of set 5 | banda aceh\n",
      "Processing Record 43 of set 5 | aykhal\n",
      "Processing Record 44 of set 5 | natal\n",
      "Processing Record 45 of set 5 | stephenville\n",
      "Processing Record 46 of set 5 | mount gambier\n",
      "Processing Record 47 of set 5 | pailon\n",
      "mixtepec not found. Skipping...\n",
      "Processing Record 48 of set 5 | acapulco\n",
      "Processing Record 49 of set 5 | cayenne\n",
      "Processing Record 50 of set 5 | kalianget\n",
      "Processing Record 1 of set 6 | tsuchiura\n",
      "Processing Record 2 of set 6 | ituverava\n",
      "Processing Record 3 of set 6 | port keats\n",
      "nizhneyansk not found. Skipping...\n",
      "Processing Record 4 of set 6 | sohbatpur\n",
      "Processing Record 5 of set 6 | thinadhoo\n",
      "Processing Record 6 of set 6 | longyearbyen\n",
      "Processing Record 7 of set 6 | progreso\n",
      "Processing Record 8 of set 6 | te anau\n",
      "Processing Record 9 of set 6 | komsomolskiy\n",
      "Processing Record 10 of set 6 | tura\n",
      "Processing Record 11 of set 6 | clarence town\n",
      "Processing Record 12 of set 6 | sillamae\n",
      "Processing Record 13 of set 6 | havre-saint-pierre\n",
      "Processing Record 14 of set 6 | moron\n",
      "Processing Record 15 of set 6 | hirata\n",
      "Processing Record 16 of set 6 | portland\n",
      "Processing Record 17 of set 6 | san blas\n",
      "Processing Record 18 of set 6 | srandakan\n",
      "Processing Record 19 of set 6 | ejido\n",
      "Processing Record 20 of set 6 | oksfjord\n",
      "maykain not found. Skipping...\n",
      "Processing Record 21 of set 6 | sharanga\n",
      "Processing Record 22 of set 6 | riyadh\n",
      "Processing Record 23 of set 6 | itaituba\n",
      "skagastrond not found. Skipping...\n",
      "barawe not found. Skipping...\n",
      "Processing Record 24 of set 6 | paamiut\n",
      "Processing Record 25 of set 6 | koshurnikovo\n",
      "Processing Record 26 of set 6 | manuk mangkaw\n",
      "Processing Record 27 of set 6 | chifeng\n",
      "Processing Record 28 of set 6 | porto novo\n",
      "Processing Record 29 of set 6 | kargasok\n",
      "Processing Record 30 of set 6 | saint-joseph\n",
      "Processing Record 31 of set 6 | el retorno\n",
      "Processing Record 32 of set 6 | tezu\n",
      "Processing Record 33 of set 6 | batemans bay\n",
      "Processing Record 34 of set 6 | pendleton\n",
      "Processing Record 35 of set 6 | kyabe\n",
      "Processing Record 36 of set 6 | panama city\n",
      "coulihaut not found. Skipping...\n",
      "Processing Record 37 of set 6 | camacari\n",
      "Processing Record 38 of set 6 | santarem\n",
      "Processing Record 39 of set 6 | road town\n",
      "Processing Record 40 of set 6 | kirakira\n",
      "Processing Record 41 of set 6 | mouila\n",
      "Processing Record 42 of set 6 | mulege\n",
      "Processing Record 43 of set 6 | valenca\n",
      "Processing Record 44 of set 6 | norman wells\n",
      "Processing Record 45 of set 6 | carnarvon\n",
      "Processing Record 46 of set 6 | kahului\n",
      "Processing Record 47 of set 6 | lusambo\n",
      "Processing Record 48 of set 6 | lata\n",
      "Processing Record 49 of set 6 | sarangani\n",
      "Processing Record 50 of set 6 | nanortalik\n",
      "Processing Record 1 of set 7 | haines junction\n",
      "Processing Record 2 of set 7 | rio grande\n",
      "Processing Record 3 of set 7 | limon\n",
      "Processing Record 4 of set 7 | partyzany\n",
      "Processing Record 5 of set 7 | nome\n",
      "Processing Record 6 of set 7 | yumen\n",
      "Processing Record 7 of set 7 | calvinia\n",
      "Processing Record 8 of set 7 | lloydminster\n",
      "Processing Record 9 of set 7 | batticaloa\n",
      "Processing Record 10 of set 7 | along\n",
      "Processing Record 11 of set 7 | college\n",
      "Processing Record 12 of set 7 | dudinka\n",
      "temaraia not found. Skipping...\n",
      "cotija not found. Skipping...\n",
      "Processing Record 13 of set 7 | avera\n",
      "Processing Record 14 of set 7 | colac\n",
      "Processing Record 15 of set 7 | bairiki\n",
      "Processing Record 16 of set 7 | ingham\n",
      "Processing Record 17 of set 7 | monte azul\n",
      "Processing Record 18 of set 7 | ormara\n",
      "Processing Record 19 of set 7 | resistencia\n",
      "tabarqah not found. Skipping...\n",
      "Processing Record 20 of set 7 | lisala\n",
      "Processing Record 21 of set 7 | bend\n",
      "Processing Record 22 of set 7 | alta floresta\n",
      "bababe not found. Skipping...\n",
      "Processing Record 23 of set 7 | bereda\n",
      "Processing Record 24 of set 7 | jawhar\n",
      "Processing Record 25 of set 7 | araucaria\n",
      "Processing Record 26 of set 7 | kaitangata\n",
      "Processing Record 27 of set 7 | zhigansk\n",
      "Processing Record 28 of set 7 | nova odesa\n",
      "Processing Record 29 of set 7 | emerald\n",
      "Processing Record 30 of set 7 | andenes\n",
      "Processing Record 31 of set 7 | yarmouth\n",
      "Processing Record 32 of set 7 | templin\n",
      "Processing Record 33 of set 7 | vila velha\n",
      "Processing Record 34 of set 7 | iqaluit\n",
      "Processing Record 35 of set 7 | port moresby\n",
      "Processing Record 36 of set 7 | rorvik\n",
      "Processing Record 37 of set 7 | engels\n",
      "Processing Record 38 of set 7 | saint-leu\n",
      "Processing Record 39 of set 7 | charleston\n",
      "Processing Record 40 of set 7 | upington\n",
      "Processing Record 41 of set 7 | vao\n",
      "Processing Record 42 of set 7 | taganak\n",
      "Processing Record 43 of set 7 | port blair\n",
      "Processing Record 44 of set 7 | angoram\n",
      "Processing Record 45 of set 7 | lara\n",
      "Processing Record 46 of set 7 | oistins\n",
      "Processing Record 47 of set 7 | nuevo progreso\n",
      "Processing Record 48 of set 7 | concarneau\n",
      "Processing Record 49 of set 7 | sao raimundo das mangabeiras\n",
      "Processing Record 50 of set 7 | marrakesh\n",
      "Processing Record 1 of set 8 | vilyuysk\n",
      "Processing Record 2 of set 8 | turtas\n",
      "Processing Record 3 of set 8 | walvis bay\n",
      "Processing Record 4 of set 8 | les cayes\n",
      "Processing Record 5 of set 8 | lakota\n",
      "Processing Record 6 of set 8 | dhidhdhoo\n",
      "Processing Record 7 of set 8 | tam ky\n",
      "Processing Record 8 of set 8 | shelburne\n",
      "Processing Record 9 of set 8 | kabompo\n",
      "Processing Record 10 of set 8 | kanniyakumari\n",
      "Processing Record 11 of set 8 | shache\n",
      "Processing Record 12 of set 8 | brawley\n",
      "Processing Record 13 of set 8 | shubarkuduk\n",
      "Processing Record 14 of set 8 | magdalena\n",
      "Processing Record 15 of set 8 | fort nelson\n",
      "Processing Record 16 of set 8 | trairi\n",
      "Processing Record 17 of set 8 | duartina\n",
      "Processing Record 18 of set 8 | fairbanks\n",
      "Processing Record 19 of set 8 | abu dhabi\n",
      "Processing Record 20 of set 8 | gizo\n",
      "meyungs not found. Skipping...\n",
      "belushya guba not found. Skipping...\n",
      "Processing Record 21 of set 8 | katsuura\n",
      "Processing Record 22 of set 8 | ratnagiri\n",
      "Processing Record 23 of set 8 | bogorodskoye\n",
      "Processing Record 24 of set 8 | davidson\n",
      "Processing Record 25 of set 8 | pionki\n",
      "Processing Record 26 of set 8 | alakurtti\n",
      "Processing Record 27 of set 8 | freetown\n",
      "Processing Record 28 of set 8 | pedro juan caballero\n"
     ]
    },
    {
     "name": "stdout",
     "output_type": "stream",
     "text": [
      "Processing Record 29 of set 8 | poitiers\n",
      "Processing Record 30 of set 8 | dunedin\n",
      "Processing Record 31 of set 8 | mnogovershinnyy\n",
      "phan rang not found. Skipping...\n",
      "Processing Record 32 of set 8 | constitucion\n",
      "Processing Record 33 of set 8 | ancud\n",
      "Processing Record 34 of set 8 | waddan\n",
      "Processing Record 35 of set 8 | cabedelo\n",
      "Processing Record 36 of set 8 | utraula\n",
      "Processing Record 37 of set 8 | hanzhong\n",
      "Processing Record 38 of set 8 | bubaque\n",
      "Processing Record 39 of set 8 | kayerkan\n",
      "Processing Record 40 of set 8 | bandraboua\n",
      "Processing Record 41 of set 8 | tateyama\n",
      "yurya not found. Skipping...\n",
      "Processing Record 42 of set 8 | bambanglipuro\n",
      "Processing Record 43 of set 8 | grand-santi\n",
      "Processing Record 44 of set 8 | hirara\n",
      "Processing Record 45 of set 8 | garsten\n",
      "Processing Record 46 of set 8 | srednekolymsk\n",
      "Processing Record 47 of set 8 | pochutla\n",
      "sahrak not found. Skipping...\n",
      "Processing Record 48 of set 8 | dafeng\n",
      "Processing Record 49 of set 8 | tucuman\n",
      "Processing Record 50 of set 8 | champerico\n",
      "Processing Record 1 of set 9 | calama\n",
      "Processing Record 2 of set 9 | ostrovnoy\n",
      "Processing Record 3 of set 9 | bowen\n",
      "Processing Record 4 of set 9 | dong hoi\n",
      "Processing Record 5 of set 9 | itoman\n",
      "Processing Record 6 of set 9 | lorengau\n",
      "Processing Record 7 of set 9 | dolores\n",
      "Processing Record 8 of set 9 | macclesfield\n",
      "Processing Record 9 of set 9 | bontang\n",
      "Processing Record 10 of set 9 | fayaoue\n",
      "Processing Record 11 of set 9 | aswan\n",
      "Processing Record 12 of set 9 | axim\n",
      "Processing Record 13 of set 9 | okhotsk\n",
      "Processing Record 14 of set 9 | chimoio\n",
      "ardistan not found. Skipping...\n",
      "Processing Record 15 of set 9 | tual\n",
      "Processing Record 16 of set 9 | kulhudhuffushi\n",
      "Processing Record 17 of set 9 | skegness\n",
      "Processing Record 18 of set 9 | palmas de monte alto\n",
      "Processing Record 19 of set 9 | oktyabrskiy\n",
      "Processing Record 20 of set 9 | abalak\n",
      "Processing Record 21 of set 9 | mount isa\n",
      "saleaula not found. Skipping...\n",
      "kuche not found. Skipping...\n",
      "Processing Record 22 of set 9 | ahipara\n",
      "Processing Record 23 of set 9 | floro\n",
      "Processing Record 24 of set 9 | san policarpo\n",
      "Processing Record 25 of set 9 | yankton\n",
      "Processing Record 26 of set 9 | haapiti\n",
      "Processing Record 27 of set 9 | port-gentil\n",
      "umm ruwabah not found. Skipping...\n",
      "Processing Record 28 of set 9 | bilma\n",
      "Processing Record 29 of set 9 | la paz\n",
      "Processing Record 30 of set 9 | guarapari\n",
      "Processing Record 31 of set 9 | talaya\n",
      "Processing Record 32 of set 9 | aviles\n",
      "Processing Record 33 of set 9 | arcos\n",
      "Processing Record 34 of set 9 | east chicago\n",
      "Processing Record 35 of set 9 | semey\n",
      "Processing Record 36 of set 9 | omsukchan\n",
      "Processing Record 37 of set 9 | itzehoe\n",
      "Processing Record 38 of set 9 | sindhnur\n",
      "Processing Record 39 of set 9 | pacific grove\n",
      "Processing Record 40 of set 9 | port hueneme\n",
      "Processing Record 41 of set 9 | jiwani\n",
      "Processing Record 42 of set 9 | port hedland\n",
      "Processing Record 43 of set 9 | houlton\n",
      "Processing Record 44 of set 9 | usinsk\n",
      "Processing Record 45 of set 9 | macaubas\n",
      "Processing Record 46 of set 9 | balkhash\n",
      "Processing Record 47 of set 9 | kandrian\n",
      "Processing Record 48 of set 9 | sibolga\n",
      "Processing Record 49 of set 9 | miguelopolis\n",
      "Processing Record 50 of set 9 | kruisfontein\n",
      "Processing Record 1 of set 10 | erdenet\n",
      "Processing Record 2 of set 10 | beringovskiy\n",
      "Processing Record 3 of set 10 | phan thiet\n",
      "Processing Record 4 of set 10 | talnakh\n",
      "Processing Record 5 of set 10 | olafsvik\n",
      "Processing Record 6 of set 10 | stokmarknes\n",
      "Processing Record 7 of set 10 | vanimo\n",
      "Processing Record 8 of set 10 | scarborough\n",
      "barroualie not found. Skipping...\n",
      "Processing Record 9 of set 10 | nouadhibou\n",
      "Processing Record 10 of set 10 | hasaki\n",
      "alotau not found. Skipping...\n",
      "Processing Record 11 of set 10 | pfarrkirchen\n",
      "Processing Record 12 of set 10 | gat\n",
      "Processing Record 13 of set 10 | borogontsy\n",
      "Processing Record 14 of set 10 | aklavik\n",
      "Processing Record 15 of set 10 | labrea\n",
      "Processing Record 16 of set 10 | misratah\n",
      "Processing Record 17 of set 10 | conceicao da barra\n",
      "Processing Record 18 of set 10 | hurghada\n",
      "crab hill not found. Skipping...\n",
      "Processing Record 19 of set 10 | saint-augustin\n",
      "Processing Record 20 of set 10 | si bun ruang\n",
      "Processing Record 21 of set 10 | tulsa\n",
      "Processing Record 22 of set 10 | olga\n",
      "Processing Record 23 of set 10 | presidencia roque saenz pena\n",
      "Processing Record 24 of set 10 | praia da vitoria\n",
      "Processing Record 25 of set 10 | ucluelet\n",
      "Processing Record 26 of set 10 | pula\n",
      "Processing Record 27 of set 10 | muroto\n",
      "Processing Record 28 of set 10 | clinton\n",
      "Processing Record 29 of set 10 | vallenar\n",
      "Processing Record 30 of set 10 | namwala\n",
      "Processing Record 31 of set 10 | pafos\n",
      "Processing Record 32 of set 10 | kisumu\n",
      "Processing Record 33 of set 10 | kununurra\n",
      "Processing Record 34 of set 10 | rawson\n",
      "Processing Record 35 of set 10 | baijiantan\n",
      "Processing Record 36 of set 10 | lompoc\n",
      "Processing Record 37 of set 10 | garowe\n",
      "viligili not found. Skipping...\n",
      "Processing Record 38 of set 10 | westport\n",
      "Processing Record 39 of set 10 | cairns\n",
      "Processing Record 40 of set 10 | chake chake\n",
      "Processing Record 41 of set 10 | la suiza\n",
      "Processing Record 42 of set 10 | bambous virieux\n",
      "Processing Record 43 of set 10 | machico\n",
      "Processing Record 44 of set 10 | kupang\n",
      "Processing Record 45 of set 10 | cukai\n",
      "Processing Record 46 of set 10 | rincon\n",
      "Processing Record 47 of set 10 | havoysund\n",
      "Processing Record 48 of set 10 | shu\n",
      "Processing Record 49 of set 10 | byron bay\n",
      "jomalig not found. Skipping...\n",
      "Processing Record 50 of set 10 | masallatah\n",
      "Processing Record 1 of set 11 | bougouni\n",
      "Processing Record 2 of set 11 | suntar\n",
      "Processing Record 3 of set 11 | kungurtug\n",
      "Processing Record 4 of set 11 | taoudenni\n",
      "Processing Record 5 of set 11 | mtwara\n",
      "Processing Record 6 of set 11 | hyderabad\n",
      "Processing Record 7 of set 11 | suluq\n",
      "Processing Record 8 of set 11 | zarechnyy\n",
      "Processing Record 9 of set 11 | kiunga\n",
      "Processing Record 10 of set 11 | balkanabat\n",
      "Processing Record 11 of set 11 | mitsamiouli\n",
      "Processing Record 12 of set 11 | raudeberg\n",
      "Processing Record 13 of set 11 | fare\n",
      "Processing Record 14 of set 11 | kashi\n",
      "asayita not found. Skipping...\n",
      "Processing Record 15 of set 11 | bautzen\n",
      "Processing Record 16 of set 11 | itarema\n",
      "Processing Record 17 of set 11 | port hardy\n",
      "Processing Record 18 of set 11 | dicabisagan\n",
      "Processing Record 19 of set 11 | haradok\n",
      "Processing Record 20 of set 11 | republic\n",
      "Processing Record 21 of set 11 | port lincoln\n",
      "Processing Record 22 of set 11 | caborca\n",
      "Processing Record 23 of set 11 | wladyslawowo\n",
      "Processing Record 24 of set 11 | anori\n",
      "Processing Record 25 of set 11 | solnechnyy\n",
      "louisbourg not found. Skipping...\n",
      "Processing Record 26 of set 11 | kitimat\n",
      "Processing Record 27 of set 11 | vikhorevka\n",
      "Processing Record 28 of set 11 | luancheng\n",
      "Processing Record 29 of set 11 | kijang\n",
      "Processing Record 30 of set 11 | wilmington\n",
      "Processing Record 31 of set 11 | kralendijk\n",
      "Processing Record 32 of set 11 | halden\n",
      "Processing Record 33 of set 11 | roebourne\n",
      "Processing Record 34 of set 11 | comodoro rivadavia\n",
      "Processing Record 35 of set 11 | gimli\n",
      "Processing Record 36 of set 11 | nelson bay\n",
      "Processing Record 37 of set 11 | faya\n",
      "Processing Record 38 of set 11 | zhanakorgan\n",
      "Processing Record 39 of set 11 | kerman\n",
      "chichicapam not found. Skipping...\n",
      "Processing Record 40 of set 11 | morococha\n",
      "Processing Record 41 of set 11 | nacala\n",
      "Processing Record 42 of set 11 | lujiang\n",
      "Processing Record 43 of set 11 | moundsville\n",
      "Processing Record 44 of set 11 | aleksandrovskoye\n",
      "Processing Record 45 of set 11 | brae\n",
      "Processing Record 46 of set 11 | alihe\n",
      "Processing Record 47 of set 11 | jalu\n",
      "Processing Record 48 of set 11 | ust-kuyga\n",
      "Processing Record 49 of set 11 | kota\n",
      "sorvag not found. Skipping...\n",
      "Processing Record 50 of set 11 | jumla\n",
      "Processing Record 1 of set 12 | alghero\n",
      "Processing Record 2 of set 12 | soyo\n",
      "Processing Record 3 of set 12 | angoche\n",
      "Processing Record 4 of set 12 | tari\n",
      "Processing Record 5 of set 12 | hermosillo\n",
      "dzhusaly not found. Skipping...\n",
      "Processing Record 6 of set 12 | luganville\n",
      "Processing Record 7 of set 12 | la concordia\n",
      "Processing Record 8 of set 12 | samarai\n",
      "Processing Record 9 of set 12 | korla\n",
      "Processing Record 10 of set 12 | mandera\n",
      "Processing Record 11 of set 12 | ambulu\n",
      "Processing Record 12 of set 12 | joshimath\n",
      "Processing Record 13 of set 12 | diu\n"
     ]
    },
    {
     "name": "stdout",
     "output_type": "stream",
     "text": [
      "Processing Record 14 of set 12 | aksu\n",
      "Processing Record 15 of set 12 | coahuayana\n",
      "Processing Record 16 of set 12 | san andres\n",
      "metehara not found. Skipping...\n",
      "Processing Record 17 of set 12 | lensk\n",
      "Processing Record 18 of set 12 | ballina\n",
      "Processing Record 19 of set 12 | mandalgovi\n"
     ]
    }
   ],
   "source": [
    "# Loop through the list of cities and perform a request for data on each\n",
    "name = []\n",
    "lat = []\n",
    "lon = []\n",
    "temp = []\n",
    "humidity = []\n",
    "cloudiness = []\n",
    "wind_speed = []\n",
    "country = []\n",
    "date = []\n",
    "record_count = 0\n",
    "set_count = 1\n",
    "\n",
    "for city in cities:\n",
    "    #keeping track of the set and record\n",
    "    if record_count == 50:\n",
    "        set_count +=1\n",
    "        record_count = 0      \n",
    "    \n",
    "    try:\n",
    "                   \n",
    "        # assemble url and make API request\n",
    "        response = requests.get(query_url + city).json()\n",
    "        # extract and append results\n",
    "        lat.append(response['coord']['lat'])\n",
    "        lon.append(response['coord']['lon'])\n",
    "        temp.append(response['main']['temp_max'])\n",
    "        humidity.append(response['main']['humidity'])\n",
    "        cloudiness.append(response['clouds']['all'])\n",
    "        wind_speed.append(response['wind']['speed'])\n",
    "        country.append(response['sys']['country'])\n",
    "        date.append(response['dt'])\n",
    "        name.append(city)\n",
    "        record_count +=1\n",
    "        \n",
    "        #  print log of each city as it's being processed with the city number and city name \n",
    "        print(f\"Processing Record {record_count} of set {set_count} | {city}\")\n",
    "\n",
    "    except KeyError:\n",
    "        print(f\"{city} not found. Skipping...\")\n",
    "    \n",
    "       \n",
    "     \n",
    "       "
   ]
  },
  {
   "cell_type": "markdown",
   "metadata": {},
   "source": [
    "### Convert Raw Data to DataFrame\n",
    "* Export the city data into a .csv.\n",
    "* Display the DataFrame"
   ]
  },
  {
   "cell_type": "code",
   "execution_count": 6,
   "metadata": {},
   "outputs": [
    {
     "name": "stdout",
     "output_type": "stream",
     "text": [
      "<class 'pandas.core.frame.DataFrame'>\n",
      "RangeIndex: 569 entries, 0 to 568\n",
      "Data columns (total 9 columns):\n",
      " #   Column      Non-Null Count  Dtype  \n",
      "---  ------      --------------  -----  \n",
      " 0   City        569 non-null    object \n",
      " 1   Lat         569 non-null    float64\n",
      " 2   Lng         569 non-null    float64\n",
      " 3   Max Temp    569 non-null    float64\n",
      " 4   Humidity    569 non-null    int64  \n",
      " 5   Cloudiness  569 non-null    int64  \n",
      " 6   Wind Speed  569 non-null    float64\n",
      " 7   Country     569 non-null    object \n",
      " 8   Date        569 non-null    int64  \n",
      "dtypes: float64(4), int64(3), object(2)\n",
      "memory usage: 40.1+ KB\n"
     ]
    }
   ],
   "source": [
    "# create a data frame from cities, lat, and temp\n",
    "city_dict = {\n",
    "    \"City\": name,\n",
    "    \"Lat\": lat,\n",
    "    \"Lng\": lon,\n",
    "    \"Max Temp\": temp,\n",
    "    \"Humidity\" : humidity,\n",
    "    \"Cloudiness\": cloudiness,\n",
    "    \"Wind Speed\": wind_speed,\n",
    "    \"Country\": country,\n",
    "    \"Date\": date\n",
    "    }\n",
    "city_data = pd.DataFrame(city_dict)\n",
    "city_data.info()"
   ]
  },
  {
   "cell_type": "code",
   "execution_count": 7,
   "metadata": {},
   "outputs": [
    {
     "name": "stdout",
     "output_type": "stream",
     "text": [
      "City : 569\n",
      "Lat : 569\n",
      "Lng : 569\n",
      "Max Temp : 569\n",
      "Humidity : 569\n",
      "Cloudiness : 569\n",
      "Wind Speed : 569\n",
      "Country : 569\n",
      "Date : 569\n"
     ]
    }
   ],
   "source": [
    "for key, value in city_dict.items():\n",
    "    print(f\"{key} : {len(value)}\")"
   ]
  },
  {
   "cell_type": "code",
   "execution_count": 8,
   "metadata": {},
   "outputs": [
    {
     "data": {
      "text/html": [
       "<div>\n",
       "<style scoped>\n",
       "    .dataframe tbody tr th:only-of-type {\n",
       "        vertical-align: middle;\n",
       "    }\n",
       "\n",
       "    .dataframe tbody tr th {\n",
       "        vertical-align: top;\n",
       "    }\n",
       "\n",
       "    .dataframe thead th {\n",
       "        text-align: right;\n",
       "    }\n",
       "</style>\n",
       "<table border=\"1\" class=\"dataframe\">\n",
       "  <thead>\n",
       "    <tr style=\"text-align: right;\">\n",
       "      <th></th>\n",
       "      <th>City</th>\n",
       "      <th>Lat</th>\n",
       "      <th>Lng</th>\n",
       "      <th>Max Temp</th>\n",
       "      <th>Humidity</th>\n",
       "      <th>Cloudiness</th>\n",
       "      <th>Wind Speed</th>\n",
       "      <th>Country</th>\n",
       "      <th>Date</th>\n",
       "    </tr>\n",
       "  </thead>\n",
       "  <tbody>\n",
       "    <tr>\n",
       "      <th>0</th>\n",
       "      <td>mar del plata</td>\n",
       "      <td>-38.00</td>\n",
       "      <td>-57.56</td>\n",
       "      <td>48.99</td>\n",
       "      <td>87</td>\n",
       "      <td>90</td>\n",
       "      <td>5.82</td>\n",
       "      <td>AR</td>\n",
       "      <td>1593729265</td>\n",
       "    </tr>\n",
       "    <tr>\n",
       "      <th>1</th>\n",
       "      <td>port elizabeth</td>\n",
       "      <td>-33.92</td>\n",
       "      <td>25.57</td>\n",
       "      <td>60.80</td>\n",
       "      <td>72</td>\n",
       "      <td>20</td>\n",
       "      <td>17.22</td>\n",
       "      <td>ZA</td>\n",
       "      <td>1593729496</td>\n",
       "    </tr>\n",
       "    <tr>\n",
       "      <th>2</th>\n",
       "      <td>mataura</td>\n",
       "      <td>-46.19</td>\n",
       "      <td>168.86</td>\n",
       "      <td>39.00</td>\n",
       "      <td>83</td>\n",
       "      <td>27</td>\n",
       "      <td>3.00</td>\n",
       "      <td>NZ</td>\n",
       "      <td>1593729496</td>\n",
       "    </tr>\n",
       "    <tr>\n",
       "      <th>3</th>\n",
       "      <td>punta arenas</td>\n",
       "      <td>-53.15</td>\n",
       "      <td>-70.92</td>\n",
       "      <td>33.80</td>\n",
       "      <td>93</td>\n",
       "      <td>90</td>\n",
       "      <td>5.82</td>\n",
       "      <td>CL</td>\n",
       "      <td>1593729496</td>\n",
       "    </tr>\n",
       "    <tr>\n",
       "      <th>4</th>\n",
       "      <td>buarcos</td>\n",
       "      <td>40.17</td>\n",
       "      <td>-8.88</td>\n",
       "      <td>61.00</td>\n",
       "      <td>77</td>\n",
       "      <td>0</td>\n",
       "      <td>10.29</td>\n",
       "      <td>PT</td>\n",
       "      <td>1593729496</td>\n",
       "    </tr>\n",
       "  </tbody>\n",
       "</table>\n",
       "</div>"
      ],
      "text/plain": [
       "             City    Lat     Lng  Max Temp  Humidity  Cloudiness  Wind Speed  \\\n",
       "0   mar del plata -38.00  -57.56     48.99        87          90        5.82   \n",
       "1  port elizabeth -33.92   25.57     60.80        72          20       17.22   \n",
       "2         mataura -46.19  168.86     39.00        83          27        3.00   \n",
       "3    punta arenas -53.15  -70.92     33.80        93          90        5.82   \n",
       "4         buarcos  40.17   -8.88     61.00        77           0       10.29   \n",
       "\n",
       "  Country        Date  \n",
       "0      AR  1593729265  \n",
       "1      ZA  1593729496  \n",
       "2      NZ  1593729496  \n",
       "3      CL  1593729496  \n",
       "4      PT  1593729496  "
      ]
     },
     "execution_count": 8,
     "metadata": {},
     "output_type": "execute_result"
    }
   ],
   "source": [
    "city_data.head()"
   ]
  },
  {
   "cell_type": "markdown",
   "metadata": {},
   "source": [
    "## Inspect the data and remove the cities where the humidity > 100%.\n",
    "----\n",
    "Skip this step if there are no cities that have humidity > 100%. "
   ]
  },
  {
   "cell_type": "code",
   "execution_count": 9,
   "metadata": {},
   "outputs": [
    {
     "name": "stdout",
     "output_type": "stream",
     "text": [
      "<class 'pandas.core.frame.DataFrame'>\n",
      "Int64Index: 0 entries\n",
      "Data columns (total 9 columns):\n",
      " #   Column      Non-Null Count  Dtype  \n",
      "---  ------      --------------  -----  \n",
      " 0   City        0 non-null      object \n",
      " 1   Lat         0 non-null      float64\n",
      " 2   Lng         0 non-null      float64\n",
      " 3   Max Temp    0 non-null      float64\n",
      " 4   Humidity    0 non-null      int64  \n",
      " 5   Cloudiness  0 non-null      int64  \n",
      " 6   Wind Speed  0 non-null      float64\n",
      " 7   Country     0 non-null      object \n",
      " 8   Date        0 non-null      int64  \n",
      "dtypes: float64(4), int64(3), object(2)\n",
      "memory usage: 0.0+ bytes\n"
     ]
    }
   ],
   "source": [
    "city_data_humidity = city_data.loc[city_data['Humidity'] > 100]\n",
    "city_data_humidity.info()"
   ]
  },
  {
   "cell_type": "code",
   "execution_count": 10,
   "metadata": {},
   "outputs": [],
   "source": [
    "#Performing stats on the database\n",
    "categories = ['Lat', 'Lng', 'Max Temp', 'Humidity', 'Cloudiness', 'Wind Speed', 'Date']\n",
    "stats = ['Count', 'Mean', 'Std', 'Min', '25%', '50%', '75%', 'Max']\n",
    "\n",
    "def city_stats(categories):\n",
    "    \n",
    "    for category in categories:\n",
    "\n",
    "        count = city_data[category].count()\n",
    "        mean = city_data[category].mean()\n",
    "        std = city_data[category].std()\n",
    "        mini = city_data[category].min()\n",
    "        quartiles = city_data[category].quantile([.25,.5,.75])\n",
    "        lowerq = quartiles[0.25]\n",
    "        middleq = quartiles[0.50]\n",
    "        upperq = quartiles[0.75]\n",
    "        maxi = city_data[category].max()\n",
    "        \n",
    "        print([count,mean,std,mini, lowerq, middleq, upperq, maxi])\n",
    "    "
   ]
  },
  {
   "cell_type": "code",
   "execution_count": 11,
   "metadata": {},
   "outputs": [
    {
     "name": "stdout",
     "output_type": "stream",
     "text": [
      "[569, 18.67778558875219, 33.182941215229604, -54.8, -10.27, 22.29, 46.13, 78.22]\n",
      "[569, 20.52246045694202, 91.4771908667132, -175.2, -59.53, 21.45, 104.08, 179.32]\n",
      "[569, 68.41952548330404, 14.524551978004743, 28.4, 57.2, 70.36, 79.39, 104.0]\n",
      "[569, 69.6432337434095, 20.473384321621847, 3, 59.0, 74.0, 84.0, 100]\n",
      "[569, 48.6871704745167, 36.490745410397544, 0, 12.0, 49.0, 80.0, 100]\n",
      "[569, 7.805500878734622, 5.19749978528571, 0.2, 3.76, 6.93, 10.29, 28.74]\n",
      "[569, 1593729499.4147627, 63.69284397188644, 1593728756, 1593729505.0, 1593729515.0, 1593729524.0, 1593729533]\n"
     ]
    }
   ],
   "source": [
    "city_stats(categories)"
   ]
  },
  {
   "cell_type": "code",
   "execution_count": 12,
   "metadata": {},
   "outputs": [],
   "source": [
    "categories2 = ['', 'Lat', 'Lng', 'Max Temp', 'Humidity', 'Cloudiness', 'Wind Speed', 'Date']\n",
    "city_stats_df = pd.DataFrame(list(zip(stats,[583, 20.473979416809616, 32.910371864098586, -54.8, -6.8, 26.18, 47.735, 78.22],\n",
    "[583, 19.66173241852487, 89.69635138512919, -175.2, -54.88, 23.27, 100.625, 179.32],\n",
    "[583, 69.05154373927951, 14.090532929287342, 26.6, 60.01, 70.38, 79.045, 106.32],\n",
    "[583, 69.56775300171526, 21.903924617995884, 3, 58.0, 75.0, 87.0, 100],\n",
    "[583, 46.7409948542024, 36.7403326748231, 0, 8.0, 40.0, 82.0, 100],\n",
    "[583, 7.517993138936533, 5.070556296363547, 0.29, 3.65, 6.35, 10.29, 39.15],\n",
    "[583, 1592891866.1818182, 58.22126781719771, 1592891392, 1592891867.0, 1592891881.0, 1592891892.0, 1592891909])),columns=categories2)"
   ]
  },
  {
   "cell_type": "code",
   "execution_count": 13,
   "metadata": {},
   "outputs": [],
   "source": [
    "city_data_df = city_stats_df.set_index([''])"
   ]
  },
  {
   "cell_type": "code",
   "execution_count": 14,
   "metadata": {},
   "outputs": [
    {
     "data": {
      "text/html": [
       "<div>\n",
       "<style scoped>\n",
       "    .dataframe tbody tr th:only-of-type {\n",
       "        vertical-align: middle;\n",
       "    }\n",
       "\n",
       "    .dataframe tbody tr th {\n",
       "        vertical-align: top;\n",
       "    }\n",
       "\n",
       "    .dataframe thead th {\n",
       "        text-align: right;\n",
       "    }\n",
       "</style>\n",
       "<table border=\"1\" class=\"dataframe\">\n",
       "  <thead>\n",
       "    <tr style=\"text-align: right;\">\n",
       "      <th></th>\n",
       "      <th>Lat</th>\n",
       "      <th>Lng</th>\n",
       "      <th>Max Temp</th>\n",
       "      <th>Humidity</th>\n",
       "      <th>Cloudiness</th>\n",
       "      <th>Wind Speed</th>\n",
       "      <th>Date</th>\n",
       "    </tr>\n",
       "    <tr>\n",
       "      <th></th>\n",
       "      <th></th>\n",
       "      <th></th>\n",
       "      <th></th>\n",
       "      <th></th>\n",
       "      <th></th>\n",
       "      <th></th>\n",
       "      <th></th>\n",
       "    </tr>\n",
       "  </thead>\n",
       "  <tbody>\n",
       "    <tr>\n",
       "      <th>Count</th>\n",
       "      <td>583.000000</td>\n",
       "      <td>583.000000</td>\n",
       "      <td>583.000000</td>\n",
       "      <td>583.000000</td>\n",
       "      <td>583.000000</td>\n",
       "      <td>583.000000</td>\n",
       "      <td>5.830000e+02</td>\n",
       "    </tr>\n",
       "    <tr>\n",
       "      <th>Mean</th>\n",
       "      <td>20.473979</td>\n",
       "      <td>19.661732</td>\n",
       "      <td>69.051544</td>\n",
       "      <td>69.567753</td>\n",
       "      <td>46.740995</td>\n",
       "      <td>7.517993</td>\n",
       "      <td>1.592892e+09</td>\n",
       "    </tr>\n",
       "    <tr>\n",
       "      <th>Std</th>\n",
       "      <td>32.910372</td>\n",
       "      <td>89.696351</td>\n",
       "      <td>14.090533</td>\n",
       "      <td>21.903925</td>\n",
       "      <td>36.740333</td>\n",
       "      <td>5.070556</td>\n",
       "      <td>5.822127e+01</td>\n",
       "    </tr>\n",
       "    <tr>\n",
       "      <th>Min</th>\n",
       "      <td>-54.800000</td>\n",
       "      <td>-175.200000</td>\n",
       "      <td>26.600000</td>\n",
       "      <td>3.000000</td>\n",
       "      <td>0.000000</td>\n",
       "      <td>0.290000</td>\n",
       "      <td>1.592891e+09</td>\n",
       "    </tr>\n",
       "    <tr>\n",
       "      <th>25%</th>\n",
       "      <td>-6.800000</td>\n",
       "      <td>-54.880000</td>\n",
       "      <td>60.010000</td>\n",
       "      <td>58.000000</td>\n",
       "      <td>8.000000</td>\n",
       "      <td>3.650000</td>\n",
       "      <td>1.592892e+09</td>\n",
       "    </tr>\n",
       "    <tr>\n",
       "      <th>50%</th>\n",
       "      <td>26.180000</td>\n",
       "      <td>23.270000</td>\n",
       "      <td>70.380000</td>\n",
       "      <td>75.000000</td>\n",
       "      <td>40.000000</td>\n",
       "      <td>6.350000</td>\n",
       "      <td>1.592892e+09</td>\n",
       "    </tr>\n",
       "    <tr>\n",
       "      <th>75%</th>\n",
       "      <td>47.735000</td>\n",
       "      <td>100.625000</td>\n",
       "      <td>79.045000</td>\n",
       "      <td>87.000000</td>\n",
       "      <td>82.000000</td>\n",
       "      <td>10.290000</td>\n",
       "      <td>1.592892e+09</td>\n",
       "    </tr>\n",
       "    <tr>\n",
       "      <th>Max</th>\n",
       "      <td>78.220000</td>\n",
       "      <td>179.320000</td>\n",
       "      <td>106.320000</td>\n",
       "      <td>100.000000</td>\n",
       "      <td>100.000000</td>\n",
       "      <td>39.150000</td>\n",
       "      <td>1.592892e+09</td>\n",
       "    </tr>\n",
       "  </tbody>\n",
       "</table>\n",
       "</div>"
      ],
      "text/plain": [
       "              Lat         Lng    Max Temp    Humidity  Cloudiness  Wind Speed  \\\n",
       "                                                                                \n",
       "Count  583.000000  583.000000  583.000000  583.000000  583.000000  583.000000   \n",
       "Mean    20.473979   19.661732   69.051544   69.567753   46.740995    7.517993   \n",
       "Std     32.910372   89.696351   14.090533   21.903925   36.740333    5.070556   \n",
       "Min    -54.800000 -175.200000   26.600000    3.000000    0.000000    0.290000   \n",
       "25%     -6.800000  -54.880000   60.010000   58.000000    8.000000    3.650000   \n",
       "50%     26.180000   23.270000   70.380000   75.000000   40.000000    6.350000   \n",
       "75%     47.735000  100.625000   79.045000   87.000000   82.000000   10.290000   \n",
       "Max     78.220000  179.320000  106.320000  100.000000  100.000000   39.150000   \n",
       "\n",
       "               Date  \n",
       "                     \n",
       "Count  5.830000e+02  \n",
       "Mean   1.592892e+09  \n",
       "Std    5.822127e+01  \n",
       "Min    1.592891e+09  \n",
       "25%    1.592892e+09  \n",
       "50%    1.592892e+09  \n",
       "75%    1.592892e+09  \n",
       "Max    1.592892e+09  "
      ]
     },
     "execution_count": 14,
     "metadata": {},
     "output_type": "execute_result"
    }
   ],
   "source": [
    "city_data_df"
   ]
  },
  {
   "cell_type": "code",
   "execution_count": 15,
   "metadata": {},
   "outputs": [
    {
     "data": {
      "text/html": [
       "<div>\n",
       "<style scoped>\n",
       "    .dataframe tbody tr th:only-of-type {\n",
       "        vertical-align: middle;\n",
       "    }\n",
       "\n",
       "    .dataframe tbody tr th {\n",
       "        vertical-align: top;\n",
       "    }\n",
       "\n",
       "    .dataframe thead th {\n",
       "        text-align: right;\n",
       "    }\n",
       "</style>\n",
       "<table border=\"1\" class=\"dataframe\">\n",
       "  <thead>\n",
       "    <tr style=\"text-align: right;\">\n",
       "      <th></th>\n",
       "      <th>Lat</th>\n",
       "      <th>Lng</th>\n",
       "      <th>Max Temp</th>\n",
       "      <th>Humidity</th>\n",
       "      <th>Cloudiness</th>\n",
       "      <th>Wind Speed</th>\n",
       "      <th>Date</th>\n",
       "    </tr>\n",
       "  </thead>\n",
       "  <tbody>\n",
       "    <tr>\n",
       "      <th>count</th>\n",
       "      <td>569.000000</td>\n",
       "      <td>569.000000</td>\n",
       "      <td>569.000000</td>\n",
       "      <td>569.000000</td>\n",
       "      <td>569.000000</td>\n",
       "      <td>569.000000</td>\n",
       "      <td>5.690000e+02</td>\n",
       "    </tr>\n",
       "    <tr>\n",
       "      <th>mean</th>\n",
       "      <td>18.677786</td>\n",
       "      <td>20.522460</td>\n",
       "      <td>68.419525</td>\n",
       "      <td>69.643234</td>\n",
       "      <td>48.687170</td>\n",
       "      <td>7.805501</td>\n",
       "      <td>1.593729e+09</td>\n",
       "    </tr>\n",
       "    <tr>\n",
       "      <th>std</th>\n",
       "      <td>33.182941</td>\n",
       "      <td>91.477191</td>\n",
       "      <td>14.524552</td>\n",
       "      <td>20.473384</td>\n",
       "      <td>36.490745</td>\n",
       "      <td>5.197500</td>\n",
       "      <td>6.369284e+01</td>\n",
       "    </tr>\n",
       "    <tr>\n",
       "      <th>min</th>\n",
       "      <td>-54.800000</td>\n",
       "      <td>-175.200000</td>\n",
       "      <td>28.400000</td>\n",
       "      <td>3.000000</td>\n",
       "      <td>0.000000</td>\n",
       "      <td>0.200000</td>\n",
       "      <td>1.593729e+09</td>\n",
       "    </tr>\n",
       "    <tr>\n",
       "      <th>25%</th>\n",
       "      <td>-10.270000</td>\n",
       "      <td>-59.530000</td>\n",
       "      <td>57.200000</td>\n",
       "      <td>59.000000</td>\n",
       "      <td>12.000000</td>\n",
       "      <td>3.760000</td>\n",
       "      <td>1.593730e+09</td>\n",
       "    </tr>\n",
       "    <tr>\n",
       "      <th>50%</th>\n",
       "      <td>22.290000</td>\n",
       "      <td>21.450000</td>\n",
       "      <td>70.360000</td>\n",
       "      <td>74.000000</td>\n",
       "      <td>49.000000</td>\n",
       "      <td>6.930000</td>\n",
       "      <td>1.593730e+09</td>\n",
       "    </tr>\n",
       "    <tr>\n",
       "      <th>75%</th>\n",
       "      <td>46.130000</td>\n",
       "      <td>104.080000</td>\n",
       "      <td>79.390000</td>\n",
       "      <td>84.000000</td>\n",
       "      <td>80.000000</td>\n",
       "      <td>10.290000</td>\n",
       "      <td>1.593730e+09</td>\n",
       "    </tr>\n",
       "    <tr>\n",
       "      <th>max</th>\n",
       "      <td>78.220000</td>\n",
       "      <td>179.320000</td>\n",
       "      <td>104.000000</td>\n",
       "      <td>100.000000</td>\n",
       "      <td>100.000000</td>\n",
       "      <td>28.740000</td>\n",
       "      <td>1.593730e+09</td>\n",
       "    </tr>\n",
       "  </tbody>\n",
       "</table>\n",
       "</div>"
      ],
      "text/plain": [
       "              Lat         Lng    Max Temp    Humidity  Cloudiness  Wind Speed  \\\n",
       "count  569.000000  569.000000  569.000000  569.000000  569.000000  569.000000   \n",
       "mean    18.677786   20.522460   68.419525   69.643234   48.687170    7.805501   \n",
       "std     33.182941   91.477191   14.524552   20.473384   36.490745    5.197500   \n",
       "min    -54.800000 -175.200000   28.400000    3.000000    0.000000    0.200000   \n",
       "25%    -10.270000  -59.530000   57.200000   59.000000   12.000000    3.760000   \n",
       "50%     22.290000   21.450000   70.360000   74.000000   49.000000    6.930000   \n",
       "75%     46.130000  104.080000   79.390000   84.000000   80.000000   10.290000   \n",
       "max     78.220000  179.320000  104.000000  100.000000  100.000000   28.740000   \n",
       "\n",
       "               Date  \n",
       "count  5.690000e+02  \n",
       "mean   1.593729e+09  \n",
       "std    6.369284e+01  \n",
       "min    1.593729e+09  \n",
       "25%    1.593730e+09  \n",
       "50%    1.593730e+09  \n",
       "75%    1.593730e+09  \n",
       "max    1.593730e+09  "
      ]
     },
     "execution_count": 15,
     "metadata": {},
     "output_type": "execute_result"
    }
   ],
   "source": [
    "city_data.describe()"
   ]
  },
  {
   "cell_type": "code",
   "execution_count": 16,
   "metadata": {},
   "outputs": [
    {
     "data": {
      "text/html": [
       "<div>\n",
       "<style scoped>\n",
       "    .dataframe tbody tr th:only-of-type {\n",
       "        vertical-align: middle;\n",
       "    }\n",
       "\n",
       "    .dataframe tbody tr th {\n",
       "        vertical-align: top;\n",
       "    }\n",
       "\n",
       "    .dataframe thead th {\n",
       "        text-align: right;\n",
       "    }\n",
       "</style>\n",
       "<table border=\"1\" class=\"dataframe\">\n",
       "  <thead>\n",
       "    <tr style=\"text-align: right;\">\n",
       "      <th></th>\n",
       "      <th>City</th>\n",
       "      <th>Lat</th>\n",
       "      <th>Lng</th>\n",
       "      <th>Max Temp</th>\n",
       "      <th>Humidity</th>\n",
       "      <th>Cloudiness</th>\n",
       "      <th>Wind Speed</th>\n",
       "      <th>Country</th>\n",
       "      <th>Date</th>\n",
       "    </tr>\n",
       "  </thead>\n",
       "  <tbody>\n",
       "    <tr>\n",
       "      <th>0</th>\n",
       "      <td>mar del plata</td>\n",
       "      <td>-38.00</td>\n",
       "      <td>-57.56</td>\n",
       "      <td>48.99</td>\n",
       "      <td>87</td>\n",
       "      <td>90</td>\n",
       "      <td>5.82</td>\n",
       "      <td>AR</td>\n",
       "      <td>1593729265</td>\n",
       "    </tr>\n",
       "    <tr>\n",
       "      <th>1</th>\n",
       "      <td>port elizabeth</td>\n",
       "      <td>-33.92</td>\n",
       "      <td>25.57</td>\n",
       "      <td>60.80</td>\n",
       "      <td>72</td>\n",
       "      <td>20</td>\n",
       "      <td>17.22</td>\n",
       "      <td>ZA</td>\n",
       "      <td>1593729496</td>\n",
       "    </tr>\n",
       "    <tr>\n",
       "      <th>2</th>\n",
       "      <td>mataura</td>\n",
       "      <td>-46.19</td>\n",
       "      <td>168.86</td>\n",
       "      <td>39.00</td>\n",
       "      <td>83</td>\n",
       "      <td>27</td>\n",
       "      <td>3.00</td>\n",
       "      <td>NZ</td>\n",
       "      <td>1593729496</td>\n",
       "    </tr>\n",
       "    <tr>\n",
       "      <th>3</th>\n",
       "      <td>punta arenas</td>\n",
       "      <td>-53.15</td>\n",
       "      <td>-70.92</td>\n",
       "      <td>33.80</td>\n",
       "      <td>93</td>\n",
       "      <td>90</td>\n",
       "      <td>5.82</td>\n",
       "      <td>CL</td>\n",
       "      <td>1593729496</td>\n",
       "    </tr>\n",
       "    <tr>\n",
       "      <th>4</th>\n",
       "      <td>buarcos</td>\n",
       "      <td>40.17</td>\n",
       "      <td>-8.88</td>\n",
       "      <td>61.00</td>\n",
       "      <td>77</td>\n",
       "      <td>0</td>\n",
       "      <td>10.29</td>\n",
       "      <td>PT</td>\n",
       "      <td>1593729496</td>\n",
       "    </tr>\n",
       "    <tr>\n",
       "      <th>...</th>\n",
       "      <td>...</td>\n",
       "      <td>...</td>\n",
       "      <td>...</td>\n",
       "      <td>...</td>\n",
       "      <td>...</td>\n",
       "      <td>...</td>\n",
       "      <td>...</td>\n",
       "      <td>...</td>\n",
       "      <td>...</td>\n",
       "    </tr>\n",
       "    <tr>\n",
       "      <th>564</th>\n",
       "      <td>coahuayana</td>\n",
       "      <td>18.73</td>\n",
       "      <td>-103.68</td>\n",
       "      <td>82.40</td>\n",
       "      <td>69</td>\n",
       "      <td>75</td>\n",
       "      <td>5.48</td>\n",
       "      <td>MX</td>\n",
       "      <td>1593729532</td>\n",
       "    </tr>\n",
       "    <tr>\n",
       "      <th>565</th>\n",
       "      <td>san andres</td>\n",
       "      <td>12.58</td>\n",
       "      <td>-81.70</td>\n",
       "      <td>84.20</td>\n",
       "      <td>79</td>\n",
       "      <td>90</td>\n",
       "      <td>11.41</td>\n",
       "      <td>CO</td>\n",
       "      <td>1593729532</td>\n",
       "    </tr>\n",
       "    <tr>\n",
       "      <th>566</th>\n",
       "      <td>lensk</td>\n",
       "      <td>60.73</td>\n",
       "      <td>114.93</td>\n",
       "      <td>66.90</td>\n",
       "      <td>52</td>\n",
       "      <td>89</td>\n",
       "      <td>4.21</td>\n",
       "      <td>RU</td>\n",
       "      <td>1593729532</td>\n",
       "    </tr>\n",
       "    <tr>\n",
       "      <th>567</th>\n",
       "      <td>ballina</td>\n",
       "      <td>-28.87</td>\n",
       "      <td>153.57</td>\n",
       "      <td>63.00</td>\n",
       "      <td>100</td>\n",
       "      <td>0</td>\n",
       "      <td>6.06</td>\n",
       "      <td>AU</td>\n",
       "      <td>1593729533</td>\n",
       "    </tr>\n",
       "    <tr>\n",
       "      <th>568</th>\n",
       "      <td>mandalgovi</td>\n",
       "      <td>45.76</td>\n",
       "      <td>106.27</td>\n",
       "      <td>60.26</td>\n",
       "      <td>69</td>\n",
       "      <td>0</td>\n",
       "      <td>7.72</td>\n",
       "      <td>MN</td>\n",
       "      <td>1593729533</td>\n",
       "    </tr>\n",
       "  </tbody>\n",
       "</table>\n",
       "<p>569 rows × 9 columns</p>\n",
       "</div>"
      ],
      "text/plain": [
       "               City    Lat     Lng  Max Temp  Humidity  Cloudiness  \\\n",
       "0     mar del plata -38.00  -57.56     48.99        87          90   \n",
       "1    port elizabeth -33.92   25.57     60.80        72          20   \n",
       "2           mataura -46.19  168.86     39.00        83          27   \n",
       "3      punta arenas -53.15  -70.92     33.80        93          90   \n",
       "4           buarcos  40.17   -8.88     61.00        77           0   \n",
       "..              ...    ...     ...       ...       ...         ...   \n",
       "564      coahuayana  18.73 -103.68     82.40        69          75   \n",
       "565      san andres  12.58  -81.70     84.20        79          90   \n",
       "566           lensk  60.73  114.93     66.90        52          89   \n",
       "567         ballina -28.87  153.57     63.00       100           0   \n",
       "568      mandalgovi  45.76  106.27     60.26        69           0   \n",
       "\n",
       "     Wind Speed Country        Date  \n",
       "0          5.82      AR  1593729265  \n",
       "1         17.22      ZA  1593729496  \n",
       "2          3.00      NZ  1593729496  \n",
       "3          5.82      CL  1593729496  \n",
       "4         10.29      PT  1593729496  \n",
       "..          ...     ...         ...  \n",
       "564        5.48      MX  1593729532  \n",
       "565       11.41      CO  1593729532  \n",
       "566        4.21      RU  1593729532  \n",
       "567        6.06      AU  1593729533  \n",
       "568        7.72      MN  1593729533  \n",
       "\n",
       "[569 rows x 9 columns]"
      ]
     },
     "execution_count": 16,
     "metadata": {},
     "output_type": "execute_result"
    }
   ],
   "source": [
    "# .loc conditionals to remove values. \n",
    "clean_city_data = city_data.loc[city_data['Humidity'] <= 100]\n",
    "clean_city_data"
   ]
  },
  {
   "cell_type": "code",
   "execution_count": 17,
   "metadata": {},
   "outputs": [],
   "source": [
    "#clean_city_data = weather_df.drop(highhumid, inplace=False)"
   ]
  },
  {
   "cell_type": "code",
   "execution_count": 18,
   "metadata": {},
   "outputs": [],
   "source": [
    "#  Get the indices of cities that have humidity over 100%.\n",
    "#getting the row number...  \".index\""
   ]
  },
  {
   "cell_type": "code",
   "execution_count": 19,
   "metadata": {},
   "outputs": [],
   "source": [
    "# Make a new DataFrame equal to the city data to drop all humidity outliers by index.\n",
    "# Passing \"inplace=False\" will make a copy of the city_data DataFrame, which we call \"clean_city_data\".\n"
   ]
  },
  {
   "cell_type": "code",
   "execution_count": 20,
   "metadata": {},
   "outputs": [],
   "source": [
    "# Extract relevant fields from the data frame\n",
    "City_Data_Final=clean_city_data\n",
    "# Export the City_Data into a csv\n",
    "City_Data_Final.to_csv('../output_data/City_Data_Final.csv', index_label=\"City_ID\")"
   ]
  },
  {
   "cell_type": "markdown",
   "metadata": {},
   "source": [
    "## Plotting the Data\n",
    "* Use proper labeling of the plots using plot titles (including date of analysis) and axes labels.\n",
    "* Save the plotted figures as .pngs."
   ]
  },
  {
   "cell_type": "markdown",
   "metadata": {},
   "source": [
    "## Latitude vs. Temperature Plot"
   ]
  },
  {
   "cell_type": "code",
   "execution_count": 21,
   "metadata": {},
   "outputs": [
    {
     "data": {
      "text/html": [
       "<div>\n",
       "<style scoped>\n",
       "    .dataframe tbody tr th:only-of-type {\n",
       "        vertical-align: middle;\n",
       "    }\n",
       "\n",
       "    .dataframe tbody tr th {\n",
       "        vertical-align: top;\n",
       "    }\n",
       "\n",
       "    .dataframe thead th {\n",
       "        text-align: right;\n",
       "    }\n",
       "</style>\n",
       "<table border=\"1\" class=\"dataframe\">\n",
       "  <thead>\n",
       "    <tr style=\"text-align: right;\">\n",
       "      <th></th>\n",
       "      <th>City</th>\n",
       "      <th>Lat</th>\n",
       "      <th>Lng</th>\n",
       "      <th>Max Temp</th>\n",
       "      <th>Humidity</th>\n",
       "      <th>Cloudiness</th>\n",
       "      <th>Wind Speed</th>\n",
       "      <th>Country</th>\n",
       "      <th>Date</th>\n",
       "    </tr>\n",
       "  </thead>\n",
       "  <tbody>\n",
       "    <tr>\n",
       "      <th>0</th>\n",
       "      <td>mar del plata</td>\n",
       "      <td>-38.00</td>\n",
       "      <td>-57.56</td>\n",
       "      <td>48.99</td>\n",
       "      <td>87</td>\n",
       "      <td>90</td>\n",
       "      <td>5.82</td>\n",
       "      <td>AR</td>\n",
       "      <td>1593729265</td>\n",
       "    </tr>\n",
       "    <tr>\n",
       "      <th>1</th>\n",
       "      <td>port elizabeth</td>\n",
       "      <td>-33.92</td>\n",
       "      <td>25.57</td>\n",
       "      <td>60.80</td>\n",
       "      <td>72</td>\n",
       "      <td>20</td>\n",
       "      <td>17.22</td>\n",
       "      <td>ZA</td>\n",
       "      <td>1593729496</td>\n",
       "    </tr>\n",
       "    <tr>\n",
       "      <th>2</th>\n",
       "      <td>mataura</td>\n",
       "      <td>-46.19</td>\n",
       "      <td>168.86</td>\n",
       "      <td>39.00</td>\n",
       "      <td>83</td>\n",
       "      <td>27</td>\n",
       "      <td>3.00</td>\n",
       "      <td>NZ</td>\n",
       "      <td>1593729496</td>\n",
       "    </tr>\n",
       "    <tr>\n",
       "      <th>3</th>\n",
       "      <td>punta arenas</td>\n",
       "      <td>-53.15</td>\n",
       "      <td>-70.92</td>\n",
       "      <td>33.80</td>\n",
       "      <td>93</td>\n",
       "      <td>90</td>\n",
       "      <td>5.82</td>\n",
       "      <td>CL</td>\n",
       "      <td>1593729496</td>\n",
       "    </tr>\n",
       "    <tr>\n",
       "      <th>4</th>\n",
       "      <td>buarcos</td>\n",
       "      <td>40.17</td>\n",
       "      <td>-8.88</td>\n",
       "      <td>61.00</td>\n",
       "      <td>77</td>\n",
       "      <td>0</td>\n",
       "      <td>10.29</td>\n",
       "      <td>PT</td>\n",
       "      <td>1593729496</td>\n",
       "    </tr>\n",
       "    <tr>\n",
       "      <th>...</th>\n",
       "      <td>...</td>\n",
       "      <td>...</td>\n",
       "      <td>...</td>\n",
       "      <td>...</td>\n",
       "      <td>...</td>\n",
       "      <td>...</td>\n",
       "      <td>...</td>\n",
       "      <td>...</td>\n",
       "      <td>...</td>\n",
       "    </tr>\n",
       "    <tr>\n",
       "      <th>564</th>\n",
       "      <td>coahuayana</td>\n",
       "      <td>18.73</td>\n",
       "      <td>-103.68</td>\n",
       "      <td>82.40</td>\n",
       "      <td>69</td>\n",
       "      <td>75</td>\n",
       "      <td>5.48</td>\n",
       "      <td>MX</td>\n",
       "      <td>1593729532</td>\n",
       "    </tr>\n",
       "    <tr>\n",
       "      <th>565</th>\n",
       "      <td>san andres</td>\n",
       "      <td>12.58</td>\n",
       "      <td>-81.70</td>\n",
       "      <td>84.20</td>\n",
       "      <td>79</td>\n",
       "      <td>90</td>\n",
       "      <td>11.41</td>\n",
       "      <td>CO</td>\n",
       "      <td>1593729532</td>\n",
       "    </tr>\n",
       "    <tr>\n",
       "      <th>566</th>\n",
       "      <td>lensk</td>\n",
       "      <td>60.73</td>\n",
       "      <td>114.93</td>\n",
       "      <td>66.90</td>\n",
       "      <td>52</td>\n",
       "      <td>89</td>\n",
       "      <td>4.21</td>\n",
       "      <td>RU</td>\n",
       "      <td>1593729532</td>\n",
       "    </tr>\n",
       "    <tr>\n",
       "      <th>567</th>\n",
       "      <td>ballina</td>\n",
       "      <td>-28.87</td>\n",
       "      <td>153.57</td>\n",
       "      <td>63.00</td>\n",
       "      <td>100</td>\n",
       "      <td>0</td>\n",
       "      <td>6.06</td>\n",
       "      <td>AU</td>\n",
       "      <td>1593729533</td>\n",
       "    </tr>\n",
       "    <tr>\n",
       "      <th>568</th>\n",
       "      <td>mandalgovi</td>\n",
       "      <td>45.76</td>\n",
       "      <td>106.27</td>\n",
       "      <td>60.26</td>\n",
       "      <td>69</td>\n",
       "      <td>0</td>\n",
       "      <td>7.72</td>\n",
       "      <td>MN</td>\n",
       "      <td>1593729533</td>\n",
       "    </tr>\n",
       "  </tbody>\n",
       "</table>\n",
       "<p>569 rows × 9 columns</p>\n",
       "</div>"
      ],
      "text/plain": [
       "               City    Lat     Lng  Max Temp  Humidity  Cloudiness  \\\n",
       "0     mar del plata -38.00  -57.56     48.99        87          90   \n",
       "1    port elizabeth -33.92   25.57     60.80        72          20   \n",
       "2           mataura -46.19  168.86     39.00        83          27   \n",
       "3      punta arenas -53.15  -70.92     33.80        93          90   \n",
       "4           buarcos  40.17   -8.88     61.00        77           0   \n",
       "..              ...    ...     ...       ...       ...         ...   \n",
       "564      coahuayana  18.73 -103.68     82.40        69          75   \n",
       "565      san andres  12.58  -81.70     84.20        79          90   \n",
       "566           lensk  60.73  114.93     66.90        52          89   \n",
       "567         ballina -28.87  153.57     63.00       100           0   \n",
       "568      mandalgovi  45.76  106.27     60.26        69           0   \n",
       "\n",
       "     Wind Speed Country        Date  \n",
       "0          5.82      AR  1593729265  \n",
       "1         17.22      ZA  1593729496  \n",
       "2          3.00      NZ  1593729496  \n",
       "3          5.82      CL  1593729496  \n",
       "4         10.29      PT  1593729496  \n",
       "..          ...     ...         ...  \n",
       "564        5.48      MX  1593729532  \n",
       "565       11.41      CO  1593729532  \n",
       "566        4.21      RU  1593729532  \n",
       "567        6.06      AU  1593729533  \n",
       "568        7.72      MN  1593729533  \n",
       "\n",
       "[569 rows x 9 columns]"
      ]
     },
     "execution_count": 21,
     "metadata": {},
     "output_type": "execute_result"
    }
   ],
   "source": [
    "clean_city_data"
   ]
  },
  {
   "cell_type": "code",
   "execution_count": 22,
   "metadata": {},
   "outputs": [
    {
     "data": {
      "image/png": "[encoded data removed]",
      "text/plain": [
       "<Figure size 432x288 with 1 Axes>"
      ]
     },
     "metadata": {
      "needs_background": "light"
     },
     "output_type": "display_data"
    }
   ],
   "source": [
    "# Generate a scatter plot of city Latitude vs. Max Temperature\n",
    "xaxis1 = clean_city_data['Lat']\n",
    "yaxis1 = clean_city_data['Max Temp']\n",
    "datemax= clean_city_data['Date'].max()\n",
    "dateon= datetime.utcfromtimestamp(datemax).strftime('%m-%d-%Y')\n",
    "\n",
    "plt.scatter(xaxis1, yaxis1, marker=\"o\", color=\"green\")\n",
    "plt.title(f\"City Latitude vs. Max Temperature {dateon}\")\n",
    "plt.xlabel('Latitude')\n",
    "plt.ylabel('Max Temperature (F)')\n",
    "plt.grid(True)\n",
    "\n",
    "\n",
    "plt.savefig(f'../output_data/Fig1. Max Temperature vs. Latitude {dateon}.png')\n",
    "plt.show()"
   ]
  },
  {
   "cell_type": "markdown",
   "metadata": {
    "scrolled": true
   },
   "source": [
    "This plot is showing the relationship between city latitude and maximum temperature in Faherheit for all the cities presented in our dataframe. As we approach the equator (Latitude = o) there is a tendency of increasing temperature and as we pass the equator and get further away from it the max temperature decreases as well. "
   ]
  },
  {
   "cell_type": "markdown",
   "metadata": {},
   "source": [
    "## Latitude vs. Humidity Plot"
   ]
  },
  {
   "cell_type": "code",
   "execution_count": 23,
   "metadata": {},
   "outputs": [
    {
     "data": {
      "image/png": "[encoded data removed]",
      "text/plain": [
       "<Figure size 432x288 with 1 Axes>"
      ]
     },
     "metadata": {
      "needs_background": "light"
     },
     "output_type": "display_data"
    }
   ],
   "source": [
    "# Generate a scatter plot of city Latitude vs. Max Temperature\n",
    "xaxis2 = clean_city_data['Lat']\n",
    "yaxis2 = clean_city_data['Humidity']\n",
    "datemax= clean_city_data['Date'].max()\n",
    "dateon= datetime.utcfromtimestamp(datemax).strftime('%m-%d-%Y')\n",
    "\n",
    "plt.scatter(xaxis2, yaxis2, marker=\"o\", color=\"green\")\n",
    "plt.title(f'City Latitude vs. Humidity {dateon}')\n",
    "plt.xlabel('Latitude')\n",
    "plt.ylabel('Humidity (%)')\n",
    "# plt.ylim(33,48)\n",
    "# plt.xlim(14,26)\n",
    "plt.grid(True)\n",
    "\n",
    "plt.savefig(f'../output_data/Fig2. Latitude vs. Humidity Linear Regression on {dateon}.png')\n",
    "plt.show()"
   ]
  },
  {
   "cell_type": "markdown",
   "metadata": {},
   "source": [
    "This plot is showing the relationship between city latitude and humidity for all the cities presented in our dataframe at the time of the extraction. We can observe that latitude change doesn't impact the level of humidity of the city in an obvious way, nevertheless we see less cities with lower humidity levels in the equator line. "
   ]
  },
  {
   "cell_type": "markdown",
   "metadata": {},
   "source": [
    "## Latitude vs. Cloudiness Plot"
   ]
  },
  {
   "cell_type": "code",
   "execution_count": 24,
   "metadata": {},
   "outputs": [
    {
     "data": {
      "image/png": "[encoded data removed]",
      "text/plain": [
       "<Figure size 432x288 with 1 Axes>"
      ]
     },
     "metadata": {
      "needs_background": "light"
     },
     "output_type": "display_data"
    }
   ],
   "source": [
    "# Generate a scatter plot of city Latitude vs. Cloudiness Plot\n",
    "xaxis3 = clean_city_data['Lat']\n",
    "yaxis3 = clean_city_data['Cloudiness']\n",
    "datemax= clean_city_data['Date'].max()\n",
    "dateon= datetime.utcfromtimestamp(datemax).strftime('%m-%d-%Y')\n",
    "\n",
    "plt.scatter(xaxis3, yaxis3, marker=\"o\", color=\"green\")\n",
    "plt.title(f'City Latitude vs. Cloudiness {dateon}')\n",
    "plt.xlabel('Latitude')\n",
    "plt.ylabel('Cloudiness (%)')\n",
    "# plt.ylim(33,48)\n",
    "# plt.xlim(14,26)\n",
    "plt.grid(True)\n",
    "\n",
    "plt.savefig(f'../output_data/Fig3. Latitude vs. Cloudiness Linear Regression on {dateon}.png')\n",
    "plt.show()"
   ]
  },
  {
   "cell_type": "markdown",
   "metadata": {},
   "source": [
    "This plot is showing the relationship between city latitude and cloudiness for all the cities presented in our dataframe at the time of the extraction. We can observe that latitude change doesn't have an impact on cloudiness as there are multiple values of cloudiness scattered randomly accross all latitudes. "
   ]
  },
  {
   "cell_type": "markdown",
   "metadata": {},
   "source": [
    "## Latitude vs. Wind Speed Plot"
   ]
  },
  {
   "cell_type": "code",
   "execution_count": 25,
   "metadata": {},
   "outputs": [
    {
     "data": {
      "image/png": "[encoded data removed]",
      "text/plain": [
       "<Figure size 432x288 with 1 Axes>"
      ]
     },
     "metadata": {
      "needs_background": "light"
     },
     "output_type": "display_data"
    }
   ],
   "source": [
    "# Generate a scatter plot of city Latitude vs. Speed Plot\n",
    "xaxis4 = clean_city_data['Lat']\n",
    "yaxis4 = clean_city_data['Wind Speed']\n",
    "datemax= clean_city_data['Date'].max()\n",
    "dateon= datetime.utcfromtimestamp(datemax).strftime('%m-%d-%Y')\n",
    "\n",
    "plt.scatter(xaxis4, yaxis4, marker=\"o\", color=\"green\")\n",
    "plt.title(f'City Latitude vs. Wind Speed {dateon})')\n",
    "plt.xlabel('Latitude')\n",
    "plt.ylabel('Wind Speed (mph)')\n",
    "plt.grid(True)\n",
    "\n",
    "plt.savefig(f'../output_data/Fig4. Latitude vs. Wind Speed Linear Regression on {dateon}.png')\n",
    "plt.show()"
   ]
  },
  {
   "cell_type": "markdown",
   "metadata": {},
   "source": [
    "This plot is showing the relationship between city latitude and wind speed (mph) for all the cities presented in our dataframe at the time of the extraction. Similarly to cloudiness, we can observe that latitude change doesn't have an impact on wind speed."
   ]
  },
  {
   "cell_type": "markdown",
   "metadata": {},
   "source": [
    "## Linear Regression"
   ]
  },
  {
   "cell_type": "code",
   "execution_count": 26,
   "metadata": {},
   "outputs": [],
   "source": [
    "# OPTIONAL: Create a function to create Linear Regression plots\n",
    "def plot_linear_regression(x, y, y_label, text_coordinates):\n",
    "    (slope, intercept, rvalue, pvalue, stderr) = linregress(x, y)\n",
    "    regress_values = x * slope + intercept\n",
    "    line_eq = \"y = \" + str(round(slope,2)) + \"x + \" + str(round(intercept,2))\n",
    "    #Plot\n",
    "    plt.scatter(x, y)\n",
    "    plt.plot(x,regress_values,\"r-\")\n",
    "    plt.annotate(line_eq,text_coordinates,fontsize=15,color=\"red\")\n",
    "    plt.xlabel(\"Latitude\")\n",
    "    plt.ylabel(y_label)\n",
    "    print(f\"The r-squared is: {rvalue**2}\")\n",
    "    plt.show()"
   ]
  },
  {
   "cell_type": "code",
   "execution_count": 27,
   "metadata": {},
   "outputs": [],
   "source": [
    "# Create Northern and Southern Hemisphere DataFrames\n",
    "northern_hemisphere = clean_city_data.loc[clean_city_data['Lat'] >= 0]\n",
    "southern_hemisphere = clean_city_data.loc[clean_city_data['Lat'] < 0]\n"
   ]
  },
  {
   "cell_type": "markdown",
   "metadata": {},
   "source": [
    "####  Northern Hemisphere - Max Temp vs. Latitude Linear Regression"
   ]
  },
  {
   "cell_type": "code",
   "execution_count": 28,
   "metadata": {},
   "outputs": [
    {
     "name": "stdout",
     "output_type": "stream",
     "text": [
      "The r-squared is: 0.5397185898269264\n"
     ]
    },
    {
     "data": {
      "image/png": "[encoded data removed]",
      "text/plain": [
       "<Figure size 432x288 with 1 Axes>"
      ]
     },
     "metadata": {
      "needs_background": "light"
     },
     "output_type": "display_data"
    },
    {
     "data": {
      "text/plain": [
       "<Figure size 432x288 with 0 Axes>"
      ]
     },
     "metadata": {},
     "output_type": "display_data"
    }
   ],
   "source": [
    "#Plotting the Northern Hemisphere - Max Temp vs. Latitude Linear Regression with a function\n",
    "xaxis1 = northern_hemisphere[\"Lat\"]\n",
    "yaxis1 = northern_hemisphere[\"Max Temp\"]\n",
    "plot_linear_regression(xaxis1, yaxis1, \"Max Temp\", (20,50)) \n",
    "\n",
    "plt.savefig(f'../output_data/Max Temp vs Latitud (Northern Hemisphere).png')\n",
    "plt.show()"
   ]
  },
  {
   "cell_type": "code",
   "execution_count": 29,
   "metadata": {},
   "outputs": [
    {
     "name": "stdout",
     "output_type": "stream",
     "text": [
      "The r-squared is: 0.5397185898269264\n"
     ]
    },
    {
     "data": {
      "image/png": "[encoded data removed]",
      "text/plain": [
       "<Figure size 432x288 with 1 Axes>"
      ]
     },
     "metadata": {
      "needs_background": "light"
     },
     "output_type": "display_data"
    }
   ],
   "source": [
    "#Calculating linear regression and plotting it in the scatter chart for comparison\n",
    "xaxis5 = northern_hemisphere['Lat']\n",
    "yaxis5 = northern_hemisphere['Max Temp']\n",
    "(slope, intercept, rvalue, pvalue, stderr) = linregress(xaxis5, yaxis5)\n",
    "regress_values = xaxis5 * slope + intercept\n",
    "line_eq = \"y = \" + str(round(slope,2)) + \"x + \" + str(round(intercept,2))\n",
    "plt.scatter(xaxis5, yaxis5, marker='o', color = 'green')\n",
    "plt.plot(xaxis5,regress_values,\"r-\")\n",
    "plt.annotate(line_eq,(20,35),fontsize=15,color=\"red\")\n",
    "plt.title('Northern Hemisphere - Max Temp vs. Latitude')\n",
    "plt.xlabel('Latitude')\n",
    "plt.ylabel('Max Temp')\n",
    "print(f\"The r-squared is: {rvalue**2}\")\n",
    "\n",
    "plt.savefig(f'../output_data/Fig5. Max Temp vs Latitud (Northern Hemisphere)2.png')\n",
    "plt.show()"
   ]
  },
  {
   "cell_type": "markdown",
   "metadata": {},
   "source": [
    "####  Southern Hemisphere - Max Temp vs. Latitude Linear Regression"
   ]
  },
  {
   "cell_type": "code",
   "execution_count": 30,
   "metadata": {},
   "outputs": [
    {
     "name": "stdout",
     "output_type": "stream",
     "text": [
      "The r-squared is: 0.6983047532171336\n"
     ]
    },
    {
     "data": {
      "image/png": "[encoded data removed]",
      "text/plain": [
       "<Figure size 432x288 with 1 Axes>"
      ]
     },
     "metadata": {
      "needs_background": "light"
     },
     "output_type": "display_data"
    }
   ],
   "source": [
    "#Plotting the Southern Hemisphere - Max Temp vs. Latitude Linear Regression with a function\n",
    "xaxis6 = southern_hemisphere['Lat']\n",
    "yaxis6 = southern_hemisphere['Max Temp']\n",
    "(slope, intercept, rvalue, pvalue, stderr) = linregress(xaxis6, yaxis6)\n",
    "regress_values = xaxis6 * slope + intercept\n",
    "line_eq = \"y = \" + str(round(slope,2)) + \"x + \" + str(round(intercept,2))\n",
    "plt.scatter(xaxis6, yaxis6, marker='o', color = 'green')\n",
    "plt.plot(xaxis6,regress_values,\"r-\")\n",
    "plt.annotate(line_eq,(-30,35),fontsize=15,color=\"red\")\n",
    "plt.title('Northern Hemisphere - Max Temp vs. Latitude')\n",
    "plt.xlabel('Latitude')\n",
    "plt.ylabel('Max Temp')\n",
    "print(f\"The r-squared is: {rvalue**2}\")\n",
    "\n",
    "\n",
    "#Save figure to output\n",
    "plt.savefig(f'../output_data/Fig6. Max Temp vs Latitud (Southern Hemisphere).png')\n",
    "plt.show()"
   ]
  },
  {
   "cell_type": "markdown",
   "metadata": {},
   "source": [
    "Max Temp vs. Latitude Linear Regression: There is is a weak negative correlation with regards to the latitud for the Max temperature in the northern hemisphere as we get further away from the equator, on the other hand there is a weak positive correlation with regards to latitud for the max temperature when we are approaching the equator. This was observed clearly in the first set of plots and this is a confirmation that max temperature is correlated to latitude and the temperature tends to increase as we approach the equator. "
   ]
  },
  {
   "cell_type": "markdown",
   "metadata": {},
   "source": [
    "####  Northern Hemisphere - Humidity (%) vs. Latitude Linear Regression"
   ]
  },
  {
   "cell_type": "code",
   "execution_count": 31,
   "metadata": {},
   "outputs": [
    {
     "name": "stdout",
     "output_type": "stream",
     "text": [
      "The r-squared is: 0.0003989208119713028\n"
     ]
    },
    {
     "data": {
      "image/png": "[encoded data removed]",
      "text/plain": [
       "<Figure size 432x288 with 1 Axes>"
      ]
     },
     "metadata": {
      "needs_background": "light"
     },
     "output_type": "display_data"
    }
   ],
   "source": [
    "#Plotting the Northern Hemisphere - Humidity vs. Latitude Linear Regression with a function\n",
    "xaxis7 = northern_hemisphere['Lat']\n",
    "yaxis7 = northern_hemisphere['Humidity']\n",
    "(slope, intercept, rvalue, pvalue, stderr) = linregress(xaxis7, yaxis7)\n",
    "regress_values = xaxis7 * slope + intercept\n",
    "line_eq = \"y = \" + str(round(slope,2)) + \"x + \" + str(round(intercept,2))\n",
    "plt.scatter(xaxis7, yaxis7, marker='o', color = 'green')\n",
    "plt.plot(xaxis7,regress_values,\"r-\")\n",
    "plt.annotate(line_eq,(10,20),fontsize=15,color=\"red\")\n",
    "plt.title('Northern Hemisphere - Max Temp vs. Latitude')\n",
    "plt.xlabel('Latitude')\n",
    "plt.ylabel('Max Temp')\n",
    "print(f\"The r-squared is: {rvalue**2}\")\n",
    "\n",
    "\n",
    "plt.savefig(f'../output_data/Fig7. Humidity vs Latitud (Northern Hemisphere).png')\n",
    "plt.show()"
   ]
  },
  {
   "cell_type": "markdown",
   "metadata": {},
   "source": [
    "####  Southern Hemisphere - Humidity (%) vs. Latitude Linear Regression"
   ]
  },
  {
   "cell_type": "code",
   "execution_count": 32,
   "metadata": {},
   "outputs": [
    {
     "name": "stdout",
     "output_type": "stream",
     "text": [
      "The r-squared is: 0.006899645103280075\n"
     ]
    },
    {
     "data": {
      "image/png": "[encoded data removed]",
      "text/plain": [
       "<Figure size 432x288 with 1 Axes>"
      ]
     },
     "metadata": {
      "needs_background": "light"
     },
     "output_type": "display_data"
    }
   ],
   "source": [
    "#Plotting the Southern Hemisphere - Humidity vs. Latitude Linear Regression with a function\n",
    "xaxis8 = southern_hemisphere['Lat']\n",
    "yaxis8 = southern_hemisphere['Humidity']\n",
    "(slope, intercept, rvalue, pvalue, stderr) = linregress(xaxis8, yaxis8)\n",
    "regress_values = xaxis8 * slope + intercept\n",
    "line_eq = \"y = \" + str(round(slope,2)) + \"x + \" + str(round(intercept,2))\n",
    "plt.scatter(xaxis8, yaxis8, marker='o', color = 'green')\n",
    "plt.plot(xaxis8,regress_values,\"r-\")\n",
    "plt.annotate(line_eq,(-50,20),fontsize=15,color=\"red\")\n",
    "plt.title('Northern Hemisphere - Max Temp vs. Latitude')\n",
    "plt.xlabel('Latitude')\n",
    "plt.ylabel('Max Temp')\n",
    "print(f\"The r-squared is: {rvalue**2}\")\n",
    "\n",
    "plt.savefig(f'../output_data/Fig8. Humidity vs. Latitud (Southern Hemisphere).png')\n",
    "plt.show()"
   ]
  },
  {
   "cell_type": "markdown",
   "metadata": {},
   "source": [
    "The correlation is almost inexistent for humidity and maximum temperature in both the northern and southern hemispheres. With a minimal negative correlation as we get further away from the equator in the northern hemisphere and a minimal positive correlation as we get closer to the equator in the southern hemisphere. "
   ]
  },
  {
   "cell_type": "markdown",
   "metadata": {},
   "source": [
    "####  Northern Hemisphere - Cloudiness (%) vs. Latitude Linear Regression"
   ]
  },
  {
   "cell_type": "code",
   "execution_count": 33,
   "metadata": {},
   "outputs": [
    {
     "name": "stdout",
     "output_type": "stream",
     "text": [
      "The r-squared is: 0.0021783474528921055\n"
     ]
    },
    {
     "data": {
      "image/png": "[encoded data removed]",
      "text/plain": [
       "<Figure size 432x288 with 1 Axes>"
      ]
     },
     "metadata": {
      "needs_background": "light"
     },
     "output_type": "display_data"
    }
   ],
   "source": [
    "#Plotting the Northern Hemisphere - Cloudiness vs. Latitude Linear Regression with a function\n",
    "xaxis9 = northern_hemisphere['Lat']\n",
    "yaxis9 = northern_hemisphere['Cloudiness']\n",
    "(slope, intercept, rvalue, pvalue, stderr) = linregress(xaxis9, yaxis9)\n",
    "regress_values = xaxis9 * slope + intercept\n",
    "line_eq = \"y = \" + str(round(slope,2)) + \"x + \" + str(round(intercept,2))\n",
    "plt.scatter(xaxis9, yaxis9, marker='o', color = 'green')\n",
    "plt.plot(xaxis9,regress_values,\"r-\")\n",
    "plt.annotate(line_eq,(10,60),fontsize=15,color=\"red\")\n",
    "plt.title('Northern Hemisphere - Max Temp vs. Latitude')\n",
    "plt.xlabel('Latitude')\n",
    "plt.ylabel('Max Temp')\n",
    "print(f\"The r-squared is: {rvalue**2}\")\n",
    "\n",
    "plt.savefig(f'../output_data/Fig9. Cloudiness vs. Latitud (Northern Hemisphere).png')\n",
    "plt.show()"
   ]
  },
  {
   "cell_type": "markdown",
   "metadata": {},
   "source": [
    "####  Southern Hemisphere - Cloudiness (%) vs. Latitude Linear Regression"
   ]
  },
  {
   "cell_type": "code",
   "execution_count": 34,
   "metadata": {},
   "outputs": [
    {
     "name": "stdout",
     "output_type": "stream",
     "text": [
      "The r-squared is: 0.001174125997843802\n"
     ]
    },
    {
     "data": {
      "image/png": "[encoded data removed]",
      "text/plain": [
       "<Figure size 432x288 with 1 Axes>"
      ]
     },
     "metadata": {
      "needs_background": "light"
     },
     "output_type": "display_data"
    }
   ],
   "source": [
    "#Plotting the Southern Hemisphere - Cloudiness vs. Latitude Linear Regression with a function\n",
    "xaxis10 = southern_hemisphere['Lat']\n",
    "yaxis10 = southern_hemisphere['Cloudiness']\n",
    "(slope, intercept, rvalue, pvalue, stderr) = linregress(xaxis10, yaxis10)\n",
    "regress_values = xaxis10 * slope + intercept\n",
    "line_eq = \"y = \" + str(round(slope,2)) + \"x + \" + str(round(intercept,2))\n",
    "plt.scatter(xaxis10, yaxis10, marker='o', color = 'green')\n",
    "plt.plot(xaxis10,regress_values,\"r-\")\n",
    "plt.annotate(line_eq,(-50,60),fontsize=15,color=\"red\")\n",
    "plt.title('Northern Hemisphere - Max Temp vs. Latitude')\n",
    "plt.xlabel('Latitude')\n",
    "plt.ylabel('Max Temp')\n",
    "print(f\"The r-squared is: {rvalue**2}\")\n",
    "\n",
    "plt.savefig(f'../output_data/Fig10. Cloudiness vs. Latitud (Southern Hemisphere).png')\n",
    "plt.show()"
   ]
  },
  {
   "cell_type": "markdown",
   "metadata": {},
   "source": [
    "Similarly, the correlation is almost inexistent for cloudiness and maximum temperature in both the northern and southern hemispheres. With a minimal positive correlation as we get further away from the equator in the northern hemisphere and a minimal negative correlation as we get closer to the equator in the southern hemisphere. In general it can be concluded that latitude is not correlated to cloudiness. "
   ]
  },
  {
   "cell_type": "markdown",
   "metadata": {},
   "source": [
    "####  Northern Hemisphere - Wind Speed (mph) vs. Latitude Linear Regression"
   ]
  },
  {
   "cell_type": "code",
   "execution_count": 35,
   "metadata": {},
   "outputs": [
    {
     "name": "stdout",
     "output_type": "stream",
     "text": [
      "The r-squared is: 0.010374849897017091\n"
     ]
    },
    {
     "data": {
      "image/png": "[encoded data removed]",
      "text/plain": [
       "<Figure size 432x288 with 1 Axes>"
      ]
     },
     "metadata": {
      "needs_background": "light"
     },
     "output_type": "display_data"
    }
   ],
   "source": [
    "#Plotting the Northern Hemisphere - Wind Speed vs. Latitude Linear Regression with a function\n",
    "xaxis11 = northern_hemisphere['Lat']\n",
    "yaxis11 = northern_hemisphere['Wind Speed']\n",
    "(slope, intercept, rvalue, pvalue, stderr) = linregress(xaxis11, yaxis11)\n",
    "regress_values = xaxis11 * slope + intercept\n",
    "line_eq = \"y = \" + str(round(slope,2)) + \"x + \" + str(round(intercept,2))\n",
    "plt.scatter(xaxis11, yaxis11, marker='o', color = 'green')\n",
    "plt.plot(xaxis11,regress_values,\"r-\")\n",
    "plt.annotate(line_eq,(10,25),fontsize=15,color=\"red\")\n",
    "plt.title('Northern Hemisphere - Max Temp vs. Latitude')\n",
    "plt.xlabel('Latitude')\n",
    "plt.ylabel('Max Temp')\n",
    "print(f\"The r-squared is: {rvalue**2}\")\n",
    "\n",
    "plt.savefig(f'../output_data/Fig11. Wind Speed(mph) vs. Latitud (Northern Hemisphere).png')\n",
    "plt.show()"
   ]
  },
  {
   "cell_type": "markdown",
   "metadata": {},
   "source": [
    "####  Southern Hemisphere - Wind Speed (mph) vs. Latitude Linear Regression"
   ]
  },
  {
   "cell_type": "code",
   "execution_count": 36,
   "metadata": {},
   "outputs": [
    {
     "name": "stdout",
     "output_type": "stream",
     "text": [
      "The r-squared is: 0.006788822608927304\n"
     ]
    },
    {
     "data": {
      "image/png": "[encoded data removed]",
      "text/plain": [
       "<Figure size 432x288 with 1 Axes>"
      ]
     },
     "metadata": {
      "needs_background": "light"
     },
     "output_type": "display_data"
    }
   ],
   "source": [
    "#Plotting the Southern Hemisphere - Wind Speed vs. Latitude Linear Regression with a function\n",
    "xaxis12 = southern_hemisphere['Lat']\n",
    "yaxis12 = southern_hemisphere['Wind Speed']\n",
    "(slope, intercept, rvalue, pvalue, stderr) = linregress(xaxis12, yaxis12)\n",
    "regress_values = xaxis12 * slope + intercept\n",
    "line_eq = \"y = \" + str(round(slope,2)) + \"x + \" + str(round(intercept,2))\n",
    "plt.scatter(xaxis12, yaxis12, marker='o', color = 'green')\n",
    "plt.plot(xaxis12,regress_values,\"r-\")\n",
    "plt.annotate(line_eq,(-50,20),fontsize=15,color=\"red\")\n",
    "plt.title('Northern Hemisphere - Max Temp vs. Latitude')\n",
    "plt.xlabel('Latitude')\n",
    "plt.ylabel('Max Temp')\n",
    "print(f\"The r-squared is: {rvalue**2}\")\n",
    "\n",
    "plt.savefig(f'../output_data/Fig12. Wind Speed(mph) vs. Latitud (Southern Hemisphere).png')\n",
    "plt.show()"
   ]
  },
  {
   "cell_type": "markdown",
   "metadata": {},
   "source": [
    "Again, we observe no correlation between wind speed and latitude in both the northern and southern hemisphere."
   ]
  }
 ],
 "metadata": {
  "anaconda-cloud": {},
  "kernel_info": {
   "name": "python3"
  },
  "kernelspec": {
   "display_name": "Python 3",
   "language": "python",
   "name": "python3"
  },
  "language_info": {
   "codemirror_mode": {
    "name": "ipython",
    "version": 3
   },
   "file_extension": ".py",
   "mimetype": "text/x-python",
   "name": "python",
   "nbconvert_exporter": "python",
   "pygments_lexer": "ipython3",
   "version": "3.7.6"
  },
  "latex_envs": {
   "LaTeX_envs_menu_present": true,
   "autoclose": false,
   "autocomplete": true,
   "bibliofile": "biblio.bib",
   "cite_by": "apalike",
   "current_citInitial": 1,
   "eqLabelWithNumbers": true,
   "eqNumInitial": 1,
   "hotkeys": {
    "equation": "Ctrl-E",
    "itemize": "Ctrl-I"
   },
   "labels_anchors": false,
   "latex_user_defs": false,
   "report_style_numbering": false,
   "user_envs_cfg": false
  },
  "nteract": {
   "version": "0.12.3"
  }
 },
 "nbformat": 4,
 "nbformat_minor": 2
}
